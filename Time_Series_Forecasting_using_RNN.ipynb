{
  "nbformat": 4,
  "nbformat_minor": 0,
  "metadata": {
    "colab": {
      "provenance": [],
      "include_colab_link": true
    },
    "kernelspec": {
      "name": "python3",
      "display_name": "Python 3"
    },
    "language_info": {
      "name": "python"
    }
  },
  "cells": [
    {
      "cell_type": "markdown",
      "metadata": {
        "id": "view-in-github",
        "colab_type": "text"
      },
      "source": [
        "<a href=\"https://colab.research.google.com/github/jeevanvishwa02/Data_Science/blob/main/Time_Series_Forecasting_using_RNN.ipynb\" target=\"_parent\"><img src=\"https://colab.research.google.com/assets/colab-badge.svg\" alt=\"Open In Colab\"/></a>"
      ]
    },
    {
      "cell_type": "markdown",
      "source": [
        "## RNN Implementation\n",
        "\n",
        "A weather-based energy forecasting homework.Energy demand forecasting as a function of weather data is an extremely interesting and relevant topic."
      ],
      "metadata": {
        "id": "VHjT2OpLjd7c"
      }
    },
    {
      "cell_type": "markdown",
      "source": [
        "## Import the Packages"
      ],
      "metadata": {
        "id": "jAKKq07elNwp"
      }
    },
    {
      "cell_type": "code",
      "source": [
        "# standard modules\n",
        "import numpy as np\n",
        "import pandas as pd\n",
        "import matplotlib.pyplot as plt\n",
        "\n",
        "# RNN-specific modules\n",
        "import pandas as pd\n",
        "import numpy as np\n",
        "from sklearn.preprocessing import MinMaxScaler\n",
        "from sklearn.metrics import classification_report,accuracy_score\n",
        "from tensorflow.keras import layers, Sequential\n",
        "from tensorflow.keras.layers import Conv1D, MaxPooling1D\n",
        "from tensorflow.keras.layers import Dense, Dropout, SimpleRNN, GRU, LSTM, Bidirectional\n",
        "from tensorflow.keras.callbacks import EarlyStopping"
      ],
      "metadata": {
        "id": "GGTNfgW_lS6e"
      },
      "execution_count": null,
      "outputs": []
    },
    {
      "cell_type": "markdown",
      "source": [
        "## Import the data"
      ],
      "metadata": {
        "id": "QRjl9u9ZgAZ0"
      }
    },
    {
      "cell_type": "code",
      "execution_count": null,
      "metadata": {
        "colab": {
          "base_uri": "https://localhost:8080/"
        },
        "id": "qwoDp0TsjdfE",
        "outputId": "a7add281-3738-4f74-bd6f-f3bdbb2836bc"
      },
      "outputs": [
        {
          "output_type": "stream",
          "name": "stdout",
          "text": [
            "Downloading...\n",
            "From: https://drive.google.com/uc?id=1xYe3vCKTLeaJKpMDzv57ppCSWK_LCJ5V\n",
            "To: /content/BDL_cleanweather_energy (1).csv\n",
            "\r  0% 0.00/7.38M [00:00<?, ?B/s]\r100% 7.38M/7.38M [00:00<00:00, 179MB/s]\n"
          ]
        }
      ],
      "source": [
        "# https://drive.google.com/file/d/1xYe3vCKTLeaJKpMDzv57ppCSWK_LCJ5V/view?usp=sharing\n",
        "!gdown 1xYe3vCKTLeaJKpMDzv57ppCSWK_LCJ5V"
      ]
    },
    {
      "cell_type": "code",
      "source": [
        "import pandas as pd\n",
        "df = pd.read_csv('BDL_cleanweather_energy (1).csv')"
      ],
      "metadata": {
        "id": "iLnKeIrljmi1"
      },
      "execution_count": null,
      "outputs": []
    },
    {
      "cell_type": "markdown",
      "source": [
        "## Data Description and Dictionary"
      ],
      "metadata": {
        "id": "j24fU1ZVgDiQ"
      }
    },
    {
      "cell_type": "code",
      "source": [
        "print(\"There are\", len(df),\"rows and\",len(df.columns),\"columns in the dataset\")"
      ],
      "metadata": {
        "colab": {
          "base_uri": "https://localhost:8080/"
        },
        "id": "qPa_6HndgZgF",
        "outputId": "00385c1a-04aa-4bcd-8477-ed140baa7666"
      },
      "execution_count": null,
      "outputs": [
        {
          "output_type": "stream",
          "name": "stdout",
          "text": [
            "There are 96427 rows and 11 columns in the dataset\n"
          ]
        }
      ]
    },
    {
      "cell_type": "code",
      "source": [
        "df.info()"
      ],
      "metadata": {
        "colab": {
          "base_uri": "https://localhost:8080/"
        },
        "id": "Pl2aA-ZtkpKR",
        "outputId": "f160305a-ff54-4519-b126-ccb0a9fe25e4"
      },
      "execution_count": null,
      "outputs": [
        {
          "output_type": "stream",
          "name": "stdout",
          "text": [
            "<class 'pandas.core.frame.DataFrame'>\n",
            "RangeIndex: 96427 entries, 0 to 96426\n",
            "Data columns (total 11 columns):\n",
            " #   Column    Non-Null Count  Dtype  \n",
            "---  ------    --------------  -----  \n",
            " 0   Datetime  96427 non-null  object \n",
            " 1   Demand    96427 non-null  float64\n",
            " 2   BDL_tmpf  96160 non-null  float64\n",
            " 3   BDL_dwpf  96160 non-null  float64\n",
            " 4   BDL_relh  96160 non-null  float64\n",
            " 5   BDL_drct  96160 non-null  float64\n",
            " 6   BDL_sknt  96160 non-null  float64\n",
            " 7   BDL_p01i  96160 non-null  float64\n",
            " 8   BDL_alti  96160 non-null  float64\n",
            " 9   BDL_mslp  96160 non-null  float64\n",
            " 10  BDL_vsby  96160 non-null  float64\n",
            "dtypes: float64(10), object(1)\n",
            "memory usage: 8.1+ MB\n"
          ]
        }
      ]
    },
    {
      "cell_type": "markdown",
      "source": [
        "**Check sample data**"
      ],
      "metadata": {
        "id": "7EfvzBtDfxZb"
      }
    },
    {
      "cell_type": "code",
      "source": [
        "df.head(n=5)"
      ],
      "metadata": {
        "colab": {
          "base_uri": "https://localhost:8080/",
          "height": 206
        },
        "id": "AXCP5eGVfyj6",
        "outputId": "27000feb-d714-4a78-9dfe-dff1df10ae75"
      },
      "execution_count": null,
      "outputs": [
        {
          "output_type": "execute_result",
          "data": {
            "text/plain": [
              "              Datetime    Demand  BDL_tmpf  BDL_dwpf  BDL_relh  BDL_drct  \\\n",
              "0  2019-01-01 00:00:00  2713.617      37.9      37.9     100.0     360.0   \n",
              "1  2019-01-01 01:00:00  2578.343      37.9      37.9     100.0     360.0   \n",
              "2  2019-01-01 02:00:00  2467.969      37.9      37.9     100.0     340.0   \n",
              "3  2019-01-01 03:00:00  2397.140      37.9      37.9     100.0     310.0   \n",
              "4  2019-01-01 04:00:00  2381.258      37.9      37.9     100.0     140.0   \n",
              "\n",
              "   BDL_sknt  BDL_p01i  BDL_alti  BDL_mslp  BDL_vsby  \n",
              "0       4.0    0.0700     29.88    1009.7       5.0  \n",
              "1       4.0    0.1100     29.79    1006.3       2.0  \n",
              "2       7.0    0.0100     29.70    1003.3       2.0  \n",
              "3       6.0    0.0100     29.63    1002.3       1.5  \n",
              "4       3.0    0.0001     29.58    1001.2       1.5  "
            ],
            "text/html": [
              "\n",
              "  <div id=\"df-37be6b62-12dc-4365-91a6-0ef305b17996\">\n",
              "    <div class=\"colab-df-container\">\n",
              "      <div>\n",
              "<style scoped>\n",
              "    .dataframe tbody tr th:only-of-type {\n",
              "        vertical-align: middle;\n",
              "    }\n",
              "\n",
              "    .dataframe tbody tr th {\n",
              "        vertical-align: top;\n",
              "    }\n",
              "\n",
              "    .dataframe thead th {\n",
              "        text-align: right;\n",
              "    }\n",
              "</style>\n",
              "<table border=\"1\" class=\"dataframe\">\n",
              "  <thead>\n",
              "    <tr style=\"text-align: right;\">\n",
              "      <th></th>\n",
              "      <th>Datetime</th>\n",
              "      <th>Demand</th>\n",
              "      <th>BDL_tmpf</th>\n",
              "      <th>BDL_dwpf</th>\n",
              "      <th>BDL_relh</th>\n",
              "      <th>BDL_drct</th>\n",
              "      <th>BDL_sknt</th>\n",
              "      <th>BDL_p01i</th>\n",
              "      <th>BDL_alti</th>\n",
              "      <th>BDL_mslp</th>\n",
              "      <th>BDL_vsby</th>\n",
              "    </tr>\n",
              "  </thead>\n",
              "  <tbody>\n",
              "    <tr>\n",
              "      <th>0</th>\n",
              "      <td>2019-01-01 00:00:00</td>\n",
              "      <td>2713.617</td>\n",
              "      <td>37.9</td>\n",
              "      <td>37.9</td>\n",
              "      <td>100.0</td>\n",
              "      <td>360.0</td>\n",
              "      <td>4.0</td>\n",
              "      <td>0.0700</td>\n",
              "      <td>29.88</td>\n",
              "      <td>1009.7</td>\n",
              "      <td>5.0</td>\n",
              "    </tr>\n",
              "    <tr>\n",
              "      <th>1</th>\n",
              "      <td>2019-01-01 01:00:00</td>\n",
              "      <td>2578.343</td>\n",
              "      <td>37.9</td>\n",
              "      <td>37.9</td>\n",
              "      <td>100.0</td>\n",
              "      <td>360.0</td>\n",
              "      <td>4.0</td>\n",
              "      <td>0.1100</td>\n",
              "      <td>29.79</td>\n",
              "      <td>1006.3</td>\n",
              "      <td>2.0</td>\n",
              "    </tr>\n",
              "    <tr>\n",
              "      <th>2</th>\n",
              "      <td>2019-01-01 02:00:00</td>\n",
              "      <td>2467.969</td>\n",
              "      <td>37.9</td>\n",
              "      <td>37.9</td>\n",
              "      <td>100.0</td>\n",
              "      <td>340.0</td>\n",
              "      <td>7.0</td>\n",
              "      <td>0.0100</td>\n",
              "      <td>29.70</td>\n",
              "      <td>1003.3</td>\n",
              "      <td>2.0</td>\n",
              "    </tr>\n",
              "    <tr>\n",
              "      <th>3</th>\n",
              "      <td>2019-01-01 03:00:00</td>\n",
              "      <td>2397.140</td>\n",
              "      <td>37.9</td>\n",
              "      <td>37.9</td>\n",
              "      <td>100.0</td>\n",
              "      <td>310.0</td>\n",
              "      <td>6.0</td>\n",
              "      <td>0.0100</td>\n",
              "      <td>29.63</td>\n",
              "      <td>1002.3</td>\n",
              "      <td>1.5</td>\n",
              "    </tr>\n",
              "    <tr>\n",
              "      <th>4</th>\n",
              "      <td>2019-01-01 04:00:00</td>\n",
              "      <td>2381.258</td>\n",
              "      <td>37.9</td>\n",
              "      <td>37.9</td>\n",
              "      <td>100.0</td>\n",
              "      <td>140.0</td>\n",
              "      <td>3.0</td>\n",
              "      <td>0.0001</td>\n",
              "      <td>29.58</td>\n",
              "      <td>1001.2</td>\n",
              "      <td>1.5</td>\n",
              "    </tr>\n",
              "  </tbody>\n",
              "</table>\n",
              "</div>\n",
              "      <button class=\"colab-df-convert\" onclick=\"convertToInteractive('df-37be6b62-12dc-4365-91a6-0ef305b17996')\"\n",
              "              title=\"Convert this dataframe to an interactive table.\"\n",
              "              style=\"display:none;\">\n",
              "        \n",
              "  <svg xmlns=\"http://www.w3.org/2000/svg\" height=\"24px\"viewBox=\"0 0 24 24\"\n",
              "       width=\"24px\">\n",
              "    <path d=\"M0 0h24v24H0V0z\" fill=\"none\"/>\n",
              "    <path d=\"M18.56 5.44l.94 2.06.94-2.06 2.06-.94-2.06-.94-.94-2.06-.94 2.06-2.06.94zm-11 1L8.5 8.5l.94-2.06 2.06-.94-2.06-.94L8.5 2.5l-.94 2.06-2.06.94zm10 10l.94 2.06.94-2.06 2.06-.94-2.06-.94-.94-2.06-.94 2.06-2.06.94z\"/><path d=\"M17.41 7.96l-1.37-1.37c-.4-.4-.92-.59-1.43-.59-.52 0-1.04.2-1.43.59L10.3 9.45l-7.72 7.72c-.78.78-.78 2.05 0 2.83L4 21.41c.39.39.9.59 1.41.59.51 0 1.02-.2 1.41-.59l7.78-7.78 2.81-2.81c.8-.78.8-2.07 0-2.86zM5.41 20L4 18.59l7.72-7.72 1.47 1.35L5.41 20z\"/>\n",
              "  </svg>\n",
              "      </button>\n",
              "      \n",
              "  <style>\n",
              "    .colab-df-container {\n",
              "      display:flex;\n",
              "      flex-wrap:wrap;\n",
              "      gap: 12px;\n",
              "    }\n",
              "\n",
              "    .colab-df-convert {\n",
              "      background-color: #E8F0FE;\n",
              "      border: none;\n",
              "      border-radius: 50%;\n",
              "      cursor: pointer;\n",
              "      display: none;\n",
              "      fill: #1967D2;\n",
              "      height: 32px;\n",
              "      padding: 0 0 0 0;\n",
              "      width: 32px;\n",
              "    }\n",
              "\n",
              "    .colab-df-convert:hover {\n",
              "      background-color: #E2EBFA;\n",
              "      box-shadow: 0px 1px 2px rgba(60, 64, 67, 0.3), 0px 1px 3px 1px rgba(60, 64, 67, 0.15);\n",
              "      fill: #174EA6;\n",
              "    }\n",
              "\n",
              "    [theme=dark] .colab-df-convert {\n",
              "      background-color: #3B4455;\n",
              "      fill: #D2E3FC;\n",
              "    }\n",
              "\n",
              "    [theme=dark] .colab-df-convert:hover {\n",
              "      background-color: #434B5C;\n",
              "      box-shadow: 0px 1px 3px 1px rgba(0, 0, 0, 0.15);\n",
              "      filter: drop-shadow(0px 1px 2px rgba(0, 0, 0, 0.3));\n",
              "      fill: #FFFFFF;\n",
              "    }\n",
              "  </style>\n",
              "\n",
              "      <script>\n",
              "        const buttonEl =\n",
              "          document.querySelector('#df-37be6b62-12dc-4365-91a6-0ef305b17996 button.colab-df-convert');\n",
              "        buttonEl.style.display =\n",
              "          google.colab.kernel.accessAllowed ? 'block' : 'none';\n",
              "\n",
              "        async function convertToInteractive(key) {\n",
              "          const element = document.querySelector('#df-37be6b62-12dc-4365-91a6-0ef305b17996');\n",
              "          const dataTable =\n",
              "            await google.colab.kernel.invokeFunction('convertToInteractive',\n",
              "                                                     [key], {});\n",
              "          if (!dataTable) return;\n",
              "\n",
              "          const docLinkHtml = 'Like what you see? Visit the ' +\n",
              "            '<a target=\"_blank\" href=https://colab.research.google.com/notebooks/data_table.ipynb>data table notebook</a>'\n",
              "            + ' to learn more about interactive tables.';\n",
              "          element.innerHTML = '';\n",
              "          dataTable['output_type'] = 'display_data';\n",
              "          await google.colab.output.renderOutput(dataTable, element);\n",
              "          const docLink = document.createElement('div');\n",
              "          docLink.innerHTML = docLinkHtml;\n",
              "          element.appendChild(docLink);\n",
              "        }\n",
              "      </script>\n",
              "    </div>\n",
              "  </div>\n",
              "  "
            ]
          },
          "metadata": {},
          "execution_count": 6
        }
      ]
    },
    {
      "cell_type": "markdown",
      "source": [
        "**Understanding of Columns**\n",
        "\n",
        "\n",
        "![image.png](data:image/png;base64,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)\n",
        "\n",
        "\n",
        "https://ropensci.github.io/riem/reference/riem_measures.html"
      ],
      "metadata": {
        "id": "RIRZShNxjVt_"
      }
    },
    {
      "cell_type": "markdown",
      "source": [
        "This dataset gives us hourly information about energy and weather of BDL "
      ],
      "metadata": {
        "id": "uEjmFZgVnnIw"
      }
    },
    {
      "cell_type": "markdown",
      "source": [
        "## Sorting\n"
      ],
      "metadata": {
        "id": "0zJGV18Wk-7X"
      }
    },
    {
      "cell_type": "code",
      "source": [
        "#Change the date column to datetime data type\n",
        "df['Datetime'] = pd.to_datetime(df['Datetime'])"
      ],
      "metadata": {
        "id": "S5k5ZmC0lIZK"
      },
      "execution_count": null,
      "outputs": []
    },
    {
      "cell_type": "code",
      "source": [
        "#check datatype of first row\n",
        "print(type(df.Datetime[0]))"
      ],
      "metadata": {
        "colab": {
          "base_uri": "https://localhost:8080/"
        },
        "id": "t3-m_27PlYBo",
        "outputId": "077315fa-9126-4c53-813a-90e5386aead1"
      },
      "execution_count": null,
      "outputs": [
        {
          "output_type": "stream",
          "name": "stdout",
          "text": [
            "<class 'pandas._libs.tslibs.timestamps.Timestamp'>\n"
          ]
        }
      ]
    },
    {
      "cell_type": "code",
      "source": [
        "df.head()"
      ],
      "metadata": {
        "colab": {
          "base_uri": "https://localhost:8080/",
          "height": 206
        },
        "id": "VHLsxf75lnRi",
        "outputId": "aed94696-c939-43d4-a25d-cc1aa0607716"
      },
      "execution_count": null,
      "outputs": [
        {
          "output_type": "execute_result",
          "data": {
            "text/plain": [
              "             Datetime    Demand  BDL_tmpf  BDL_dwpf  BDL_relh  BDL_drct  \\\n",
              "0 2019-01-01 00:00:00  2713.617      37.9      37.9     100.0     360.0   \n",
              "1 2019-01-01 01:00:00  2578.343      37.9      37.9     100.0     360.0   \n",
              "2 2019-01-01 02:00:00  2467.969      37.9      37.9     100.0     340.0   \n",
              "3 2019-01-01 03:00:00  2397.140      37.9      37.9     100.0     310.0   \n",
              "4 2019-01-01 04:00:00  2381.258      37.9      37.9     100.0     140.0   \n",
              "\n",
              "   BDL_sknt  BDL_p01i  BDL_alti  BDL_mslp  BDL_vsby  \n",
              "0       4.0    0.0700     29.88    1009.7       5.0  \n",
              "1       4.0    0.1100     29.79    1006.3       2.0  \n",
              "2       7.0    0.0100     29.70    1003.3       2.0  \n",
              "3       6.0    0.0100     29.63    1002.3       1.5  \n",
              "4       3.0    0.0001     29.58    1001.2       1.5  "
            ],
            "text/html": [
              "\n",
              "  <div id=\"df-63df1d41-e1d6-40b2-9010-582b858df69c\">\n",
              "    <div class=\"colab-df-container\">\n",
              "      <div>\n",
              "<style scoped>\n",
              "    .dataframe tbody tr th:only-of-type {\n",
              "        vertical-align: middle;\n",
              "    }\n",
              "\n",
              "    .dataframe tbody tr th {\n",
              "        vertical-align: top;\n",
              "    }\n",
              "\n",
              "    .dataframe thead th {\n",
              "        text-align: right;\n",
              "    }\n",
              "</style>\n",
              "<table border=\"1\" class=\"dataframe\">\n",
              "  <thead>\n",
              "    <tr style=\"text-align: right;\">\n",
              "      <th></th>\n",
              "      <th>Datetime</th>\n",
              "      <th>Demand</th>\n",
              "      <th>BDL_tmpf</th>\n",
              "      <th>BDL_dwpf</th>\n",
              "      <th>BDL_relh</th>\n",
              "      <th>BDL_drct</th>\n",
              "      <th>BDL_sknt</th>\n",
              "      <th>BDL_p01i</th>\n",
              "      <th>BDL_alti</th>\n",
              "      <th>BDL_mslp</th>\n",
              "      <th>BDL_vsby</th>\n",
              "    </tr>\n",
              "  </thead>\n",
              "  <tbody>\n",
              "    <tr>\n",
              "      <th>0</th>\n",
              "      <td>2019-01-01 00:00:00</td>\n",
              "      <td>2713.617</td>\n",
              "      <td>37.9</td>\n",
              "      <td>37.9</td>\n",
              "      <td>100.0</td>\n",
              "      <td>360.0</td>\n",
              "      <td>4.0</td>\n",
              "      <td>0.0700</td>\n",
              "      <td>29.88</td>\n",
              "      <td>1009.7</td>\n",
              "      <td>5.0</td>\n",
              "    </tr>\n",
              "    <tr>\n",
              "      <th>1</th>\n",
              "      <td>2019-01-01 01:00:00</td>\n",
              "      <td>2578.343</td>\n",
              "      <td>37.9</td>\n",
              "      <td>37.9</td>\n",
              "      <td>100.0</td>\n",
              "      <td>360.0</td>\n",
              "      <td>4.0</td>\n",
              "      <td>0.1100</td>\n",
              "      <td>29.79</td>\n",
              "      <td>1006.3</td>\n",
              "      <td>2.0</td>\n",
              "    </tr>\n",
              "    <tr>\n",
              "      <th>2</th>\n",
              "      <td>2019-01-01 02:00:00</td>\n",
              "      <td>2467.969</td>\n",
              "      <td>37.9</td>\n",
              "      <td>37.9</td>\n",
              "      <td>100.0</td>\n",
              "      <td>340.0</td>\n",
              "      <td>7.0</td>\n",
              "      <td>0.0100</td>\n",
              "      <td>29.70</td>\n",
              "      <td>1003.3</td>\n",
              "      <td>2.0</td>\n",
              "    </tr>\n",
              "    <tr>\n",
              "      <th>3</th>\n",
              "      <td>2019-01-01 03:00:00</td>\n",
              "      <td>2397.140</td>\n",
              "      <td>37.9</td>\n",
              "      <td>37.9</td>\n",
              "      <td>100.0</td>\n",
              "      <td>310.0</td>\n",
              "      <td>6.0</td>\n",
              "      <td>0.0100</td>\n",
              "      <td>29.63</td>\n",
              "      <td>1002.3</td>\n",
              "      <td>1.5</td>\n",
              "    </tr>\n",
              "    <tr>\n",
              "      <th>4</th>\n",
              "      <td>2019-01-01 04:00:00</td>\n",
              "      <td>2381.258</td>\n",
              "      <td>37.9</td>\n",
              "      <td>37.9</td>\n",
              "      <td>100.0</td>\n",
              "      <td>140.0</td>\n",
              "      <td>3.0</td>\n",
              "      <td>0.0001</td>\n",
              "      <td>29.58</td>\n",
              "      <td>1001.2</td>\n",
              "      <td>1.5</td>\n",
              "    </tr>\n",
              "  </tbody>\n",
              "</table>\n",
              "</div>\n",
              "      <button class=\"colab-df-convert\" onclick=\"convertToInteractive('df-63df1d41-e1d6-40b2-9010-582b858df69c')\"\n",
              "              title=\"Convert this dataframe to an interactive table.\"\n",
              "              style=\"display:none;\">\n",
              "        \n",
              "  <svg xmlns=\"http://www.w3.org/2000/svg\" height=\"24px\"viewBox=\"0 0 24 24\"\n",
              "       width=\"24px\">\n",
              "    <path d=\"M0 0h24v24H0V0z\" fill=\"none\"/>\n",
              "    <path d=\"M18.56 5.44l.94 2.06.94-2.06 2.06-.94-2.06-.94-.94-2.06-.94 2.06-2.06.94zm-11 1L8.5 8.5l.94-2.06 2.06-.94-2.06-.94L8.5 2.5l-.94 2.06-2.06.94zm10 10l.94 2.06.94-2.06 2.06-.94-2.06-.94-.94-2.06-.94 2.06-2.06.94z\"/><path d=\"M17.41 7.96l-1.37-1.37c-.4-.4-.92-.59-1.43-.59-.52 0-1.04.2-1.43.59L10.3 9.45l-7.72 7.72c-.78.78-.78 2.05 0 2.83L4 21.41c.39.39.9.59 1.41.59.51 0 1.02-.2 1.41-.59l7.78-7.78 2.81-2.81c.8-.78.8-2.07 0-2.86zM5.41 20L4 18.59l7.72-7.72 1.47 1.35L5.41 20z\"/>\n",
              "  </svg>\n",
              "      </button>\n",
              "      \n",
              "  <style>\n",
              "    .colab-df-container {\n",
              "      display:flex;\n",
              "      flex-wrap:wrap;\n",
              "      gap: 12px;\n",
              "    }\n",
              "\n",
              "    .colab-df-convert {\n",
              "      background-color: #E8F0FE;\n",
              "      border: none;\n",
              "      border-radius: 50%;\n",
              "      cursor: pointer;\n",
              "      display: none;\n",
              "      fill: #1967D2;\n",
              "      height: 32px;\n",
              "      padding: 0 0 0 0;\n",
              "      width: 32px;\n",
              "    }\n",
              "\n",
              "    .colab-df-convert:hover {\n",
              "      background-color: #E2EBFA;\n",
              "      box-shadow: 0px 1px 2px rgba(60, 64, 67, 0.3), 0px 1px 3px 1px rgba(60, 64, 67, 0.15);\n",
              "      fill: #174EA6;\n",
              "    }\n",
              "\n",
              "    [theme=dark] .colab-df-convert {\n",
              "      background-color: #3B4455;\n",
              "      fill: #D2E3FC;\n",
              "    }\n",
              "\n",
              "    [theme=dark] .colab-df-convert:hover {\n",
              "      background-color: #434B5C;\n",
              "      box-shadow: 0px 1px 3px 1px rgba(0, 0, 0, 0.15);\n",
              "      filter: drop-shadow(0px 1px 2px rgba(0, 0, 0, 0.3));\n",
              "      fill: #FFFFFF;\n",
              "    }\n",
              "  </style>\n",
              "\n",
              "      <script>\n",
              "        const buttonEl =\n",
              "          document.querySelector('#df-63df1d41-e1d6-40b2-9010-582b858df69c button.colab-df-convert');\n",
              "        buttonEl.style.display =\n",
              "          google.colab.kernel.accessAllowed ? 'block' : 'none';\n",
              "\n",
              "        async function convertToInteractive(key) {\n",
              "          const element = document.querySelector('#df-63df1d41-e1d6-40b2-9010-582b858df69c');\n",
              "          const dataTable =\n",
              "            await google.colab.kernel.invokeFunction('convertToInteractive',\n",
              "                                                     [key], {});\n",
              "          if (!dataTable) return;\n",
              "\n",
              "          const docLinkHtml = 'Like what you see? Visit the ' +\n",
              "            '<a target=\"_blank\" href=https://colab.research.google.com/notebooks/data_table.ipynb>data table notebook</a>'\n",
              "            + ' to learn more about interactive tables.';\n",
              "          element.innerHTML = '';\n",
              "          dataTable['output_type'] = 'display_data';\n",
              "          await google.colab.output.renderOutput(dataTable, element);\n",
              "          const docLink = document.createElement('div');\n",
              "          docLink.innerHTML = docLinkHtml;\n",
              "          element.appendChild(docLink);\n",
              "        }\n",
              "      </script>\n",
              "    </div>\n",
              "  </div>\n",
              "  "
            ]
          },
          "metadata": {},
          "execution_count": 9
        }
      ]
    },
    {
      "cell_type": "code",
      "source": [
        "#Sorting\n",
        "df=df.sort_values(by='Datetime')"
      ],
      "metadata": {
        "id": "ecDDXa0Qlf7C"
      },
      "execution_count": null,
      "outputs": []
    },
    {
      "cell_type": "code",
      "source": [
        "df.head()"
      ],
      "metadata": {
        "colab": {
          "base_uri": "https://localhost:8080/",
          "height": 206
        },
        "id": "-vl4zZfKl1aI",
        "outputId": "16c86cc4-ad5e-49f2-ee78-724f7db6cbc4"
      },
      "execution_count": null,
      "outputs": [
        {
          "output_type": "execute_result",
          "data": {
            "text/plain": [
              "                Datetime  Demand  BDL_tmpf  BDL_dwpf  BDL_relh  BDL_drct  \\\n",
              "8760 2011-01-01 00:00:00  3053.0     33.98     26.96       0.0       0.0   \n",
              "8761 2011-01-01 01:00:00  2892.0     33.98     26.96       0.0       0.0   \n",
              "8762 2011-01-01 02:00:00  2774.0     30.92     26.96       0.0       0.0   \n",
              "8763 2011-01-01 03:00:00  2710.0     30.02     26.06       0.0       0.0   \n",
              "8764 2011-01-01 04:00:00  2698.0     28.94     24.98       0.0       0.0   \n",
              "\n",
              "      BDL_sknt  BDL_p01i  BDL_alti  BDL_mslp  BDL_vsby  \n",
              "8760       0.0       0.0     30.07    1018.5       6.0  \n",
              "8761       0.0       0.0     30.07    1018.5       6.0  \n",
              "8762       0.0       0.0     30.07    1018.6       6.0  \n",
              "8763       0.0       0.0     30.09    1019.2       5.0  \n",
              "8764       0.0       0.0     30.09    1019.1       5.0  "
            ],
            "text/html": [
              "\n",
              "  <div id=\"df-e0c3871a-f614-49ce-a241-e67c8b131a84\">\n",
              "    <div class=\"colab-df-container\">\n",
              "      <div>\n",
              "<style scoped>\n",
              "    .dataframe tbody tr th:only-of-type {\n",
              "        vertical-align: middle;\n",
              "    }\n",
              "\n",
              "    .dataframe tbody tr th {\n",
              "        vertical-align: top;\n",
              "    }\n",
              "\n",
              "    .dataframe thead th {\n",
              "        text-align: right;\n",
              "    }\n",
              "</style>\n",
              "<table border=\"1\" class=\"dataframe\">\n",
              "  <thead>\n",
              "    <tr style=\"text-align: right;\">\n",
              "      <th></th>\n",
              "      <th>Datetime</th>\n",
              "      <th>Demand</th>\n",
              "      <th>BDL_tmpf</th>\n",
              "      <th>BDL_dwpf</th>\n",
              "      <th>BDL_relh</th>\n",
              "      <th>BDL_drct</th>\n",
              "      <th>BDL_sknt</th>\n",
              "      <th>BDL_p01i</th>\n",
              "      <th>BDL_alti</th>\n",
              "      <th>BDL_mslp</th>\n",
              "      <th>BDL_vsby</th>\n",
              "    </tr>\n",
              "  </thead>\n",
              "  <tbody>\n",
              "    <tr>\n",
              "      <th>8760</th>\n",
              "      <td>2011-01-01 00:00:00</td>\n",
              "      <td>3053.0</td>\n",
              "      <td>33.98</td>\n",
              "      <td>26.96</td>\n",
              "      <td>0.0</td>\n",
              "      <td>0.0</td>\n",
              "      <td>0.0</td>\n",
              "      <td>0.0</td>\n",
              "      <td>30.07</td>\n",
              "      <td>1018.5</td>\n",
              "      <td>6.0</td>\n",
              "    </tr>\n",
              "    <tr>\n",
              "      <th>8761</th>\n",
              "      <td>2011-01-01 01:00:00</td>\n",
              "      <td>2892.0</td>\n",
              "      <td>33.98</td>\n",
              "      <td>26.96</td>\n",
              "      <td>0.0</td>\n",
              "      <td>0.0</td>\n",
              "      <td>0.0</td>\n",
              "      <td>0.0</td>\n",
              "      <td>30.07</td>\n",
              "      <td>1018.5</td>\n",
              "      <td>6.0</td>\n",
              "    </tr>\n",
              "    <tr>\n",
              "      <th>8762</th>\n",
              "      <td>2011-01-01 02:00:00</td>\n",
              "      <td>2774.0</td>\n",
              "      <td>30.92</td>\n",
              "      <td>26.96</td>\n",
              "      <td>0.0</td>\n",
              "      <td>0.0</td>\n",
              "      <td>0.0</td>\n",
              "      <td>0.0</td>\n",
              "      <td>30.07</td>\n",
              "      <td>1018.6</td>\n",
              "      <td>6.0</td>\n",
              "    </tr>\n",
              "    <tr>\n",
              "      <th>8763</th>\n",
              "      <td>2011-01-01 03:00:00</td>\n",
              "      <td>2710.0</td>\n",
              "      <td>30.02</td>\n",
              "      <td>26.06</td>\n",
              "      <td>0.0</td>\n",
              "      <td>0.0</td>\n",
              "      <td>0.0</td>\n",
              "      <td>0.0</td>\n",
              "      <td>30.09</td>\n",
              "      <td>1019.2</td>\n",
              "      <td>5.0</td>\n",
              "    </tr>\n",
              "    <tr>\n",
              "      <th>8764</th>\n",
              "      <td>2011-01-01 04:00:00</td>\n",
              "      <td>2698.0</td>\n",
              "      <td>28.94</td>\n",
              "      <td>24.98</td>\n",
              "      <td>0.0</td>\n",
              "      <td>0.0</td>\n",
              "      <td>0.0</td>\n",
              "      <td>0.0</td>\n",
              "      <td>30.09</td>\n",
              "      <td>1019.1</td>\n",
              "      <td>5.0</td>\n",
              "    </tr>\n",
              "  </tbody>\n",
              "</table>\n",
              "</div>\n",
              "      <button class=\"colab-df-convert\" onclick=\"convertToInteractive('df-e0c3871a-f614-49ce-a241-e67c8b131a84')\"\n",
              "              title=\"Convert this dataframe to an interactive table.\"\n",
              "              style=\"display:none;\">\n",
              "        \n",
              "  <svg xmlns=\"http://www.w3.org/2000/svg\" height=\"24px\"viewBox=\"0 0 24 24\"\n",
              "       width=\"24px\">\n",
              "    <path d=\"M0 0h24v24H0V0z\" fill=\"none\"/>\n",
              "    <path d=\"M18.56 5.44l.94 2.06.94-2.06 2.06-.94-2.06-.94-.94-2.06-.94 2.06-2.06.94zm-11 1L8.5 8.5l.94-2.06 2.06-.94-2.06-.94L8.5 2.5l-.94 2.06-2.06.94zm10 10l.94 2.06.94-2.06 2.06-.94-2.06-.94-.94-2.06-.94 2.06-2.06.94z\"/><path d=\"M17.41 7.96l-1.37-1.37c-.4-.4-.92-.59-1.43-.59-.52 0-1.04.2-1.43.59L10.3 9.45l-7.72 7.72c-.78.78-.78 2.05 0 2.83L4 21.41c.39.39.9.59 1.41.59.51 0 1.02-.2 1.41-.59l7.78-7.78 2.81-2.81c.8-.78.8-2.07 0-2.86zM5.41 20L4 18.59l7.72-7.72 1.47 1.35L5.41 20z\"/>\n",
              "  </svg>\n",
              "      </button>\n",
              "      \n",
              "  <style>\n",
              "    .colab-df-container {\n",
              "      display:flex;\n",
              "      flex-wrap:wrap;\n",
              "      gap: 12px;\n",
              "    }\n",
              "\n",
              "    .colab-df-convert {\n",
              "      background-color: #E8F0FE;\n",
              "      border: none;\n",
              "      border-radius: 50%;\n",
              "      cursor: pointer;\n",
              "      display: none;\n",
              "      fill: #1967D2;\n",
              "      height: 32px;\n",
              "      padding: 0 0 0 0;\n",
              "      width: 32px;\n",
              "    }\n",
              "\n",
              "    .colab-df-convert:hover {\n",
              "      background-color: #E2EBFA;\n",
              "      box-shadow: 0px 1px 2px rgba(60, 64, 67, 0.3), 0px 1px 3px 1px rgba(60, 64, 67, 0.15);\n",
              "      fill: #174EA6;\n",
              "    }\n",
              "\n",
              "    [theme=dark] .colab-df-convert {\n",
              "      background-color: #3B4455;\n",
              "      fill: #D2E3FC;\n",
              "    }\n",
              "\n",
              "    [theme=dark] .colab-df-convert:hover {\n",
              "      background-color: #434B5C;\n",
              "      box-shadow: 0px 1px 3px 1px rgba(0, 0, 0, 0.15);\n",
              "      filter: drop-shadow(0px 1px 2px rgba(0, 0, 0, 0.3));\n",
              "      fill: #FFFFFF;\n",
              "    }\n",
              "  </style>\n",
              "\n",
              "      <script>\n",
              "        const buttonEl =\n",
              "          document.querySelector('#df-e0c3871a-f614-49ce-a241-e67c8b131a84 button.colab-df-convert');\n",
              "        buttonEl.style.display =\n",
              "          google.colab.kernel.accessAllowed ? 'block' : 'none';\n",
              "\n",
              "        async function convertToInteractive(key) {\n",
              "          const element = document.querySelector('#df-e0c3871a-f614-49ce-a241-e67c8b131a84');\n",
              "          const dataTable =\n",
              "            await google.colab.kernel.invokeFunction('convertToInteractive',\n",
              "                                                     [key], {});\n",
              "          if (!dataTable) return;\n",
              "\n",
              "          const docLinkHtml = 'Like what you see? Visit the ' +\n",
              "            '<a target=\"_blank\" href=https://colab.research.google.com/notebooks/data_table.ipynb>data table notebook</a>'\n",
              "            + ' to learn more about interactive tables.';\n",
              "          element.innerHTML = '';\n",
              "          dataTable['output_type'] = 'display_data';\n",
              "          await google.colab.output.renderOutput(dataTable, element);\n",
              "          const docLink = document.createElement('div');\n",
              "          docLink.innerHTML = docLinkHtml;\n",
              "          element.appendChild(docLink);\n",
              "        }\n",
              "      </script>\n",
              "    </div>\n",
              "  </div>\n",
              "  "
            ]
          },
          "metadata": {},
          "execution_count": 11
        }
      ]
    },
    {
      "cell_type": "code",
      "source": [
        "print(\"Min Time is\",min(df['Datetime']))\n",
        "print(\"Max Time is\",max(df['Datetime']))"
      ],
      "metadata": {
        "colab": {
          "base_uri": "https://localhost:8080/"
        },
        "id": "7QXb15cwSo0R",
        "outputId": "f76975f5-b032-47b6-bd5a-3a2442268c7c"
      },
      "execution_count": null,
      "outputs": [
        {
          "output_type": "stream",
          "name": "stdout",
          "text": [
            "Min Time is 2011-01-01 00:00:00\n",
            "Max Time is 2021-12-31 23:00:00\n"
          ]
        }
      ]
    },
    {
      "cell_type": "markdown",
      "source": [
        "References: https://www.geeksforgeeks.org/how-to-sort-a-pandas-dataframe-by-date/"
      ],
      "metadata": {
        "id": "wE-u_v1wmjdO"
      }
    },
    {
      "cell_type": "markdown",
      "source": [
        "## Exploration"
      ],
      "metadata": {
        "id": "VHCBL2mSSHgv"
      }
    },
    {
      "cell_type": "code",
      "source": [
        "from matplotlib.pyplot import figure\n",
        "\n",
        "figure(figsize=(18, 6), dpi=80)\n",
        "# visualize the data\n",
        "df['Demand'].plot()\n",
        "plt.show()"
      ],
      "metadata": {
        "colab": {
          "base_uri": "https://localhost:8080/",
          "height": 413
        },
        "id": "z9EQzLGvSIw8",
        "outputId": "7cae6151-d6c6-4ba1-e95b-fda37bef3795"
      },
      "execution_count": null,
      "outputs": [
        {
          "output_type": "display_data",
          "data": {
            "text/plain": [
              "<Figure size 1440x480 with 1 Axes>"
            ],
            "image/png": "[encoded data removed]"
          },
          "metadata": {
            "needs_background": "light"
          }
        }
      ]
    },
    {
      "cell_type": "code",
      "source": [
        "# drop the date column\n",
        "df.drop(['Datetime'], inplace=True, axis=1)\n",
        "print(df.shape)\n",
        "df.head()"
      ],
      "metadata": {
        "colab": {
          "base_uri": "https://localhost:8080/",
          "height": 223
        },
        "id": "xpMMdTqkTToq",
        "outputId": "f3500697-f6af-4e4c-cd63-84a625c5beea"
      },
      "execution_count": null,
      "outputs": [
        {
          "output_type": "stream",
          "name": "stdout",
          "text": [
            "(96427, 10)\n"
          ]
        },
        {
          "output_type": "execute_result",
          "data": {
            "text/plain": [
              "      Demand  BDL_tmpf  BDL_dwpf  BDL_relh  BDL_drct  BDL_sknt  BDL_p01i  \\\n",
              "8760  3053.0     33.98     26.96       0.0       0.0       0.0       0.0   \n",
              "8761  2892.0     33.98     26.96       0.0       0.0       0.0       0.0   \n",
              "8762  2774.0     30.92     26.96       0.0       0.0       0.0       0.0   \n",
              "8763  2710.0     30.02     26.06       0.0       0.0       0.0       0.0   \n",
              "8764  2698.0     28.94     24.98       0.0       0.0       0.0       0.0   \n",
              "\n",
              "      BDL_alti  BDL_mslp  BDL_vsby  \n",
              "8760     30.07    1018.5       6.0  \n",
              "8761     30.07    1018.5       6.0  \n",
              "8762     30.07    1018.6       6.0  \n",
              "8763     30.09    1019.2       5.0  \n",
              "8764     30.09    1019.1       5.0  "
            ],
            "text/html": [
              "\n",
              "  <div id=\"df-97d40240-6733-43ac-8e40-a3ce7f008cc3\">\n",
              "    <div class=\"colab-df-container\">\n",
              "      <div>\n",
              "<style scoped>\n",
              "    .dataframe tbody tr th:only-of-type {\n",
              "        vertical-align: middle;\n",
              "    }\n",
              "\n",
              "    .dataframe tbody tr th {\n",
              "        vertical-align: top;\n",
              "    }\n",
              "\n",
              "    .dataframe thead th {\n",
              "        text-align: right;\n",
              "    }\n",
              "</style>\n",
              "<table border=\"1\" class=\"dataframe\">\n",
              "  <thead>\n",
              "    <tr style=\"text-align: right;\">\n",
              "      <th></th>\n",
              "      <th>Demand</th>\n",
              "      <th>BDL_tmpf</th>\n",
              "      <th>BDL_dwpf</th>\n",
              "      <th>BDL_relh</th>\n",
              "      <th>BDL_drct</th>\n",
              "      <th>BDL_sknt</th>\n",
              "      <th>BDL_p01i</th>\n",
              "      <th>BDL_alti</th>\n",
              "      <th>BDL_mslp</th>\n",
              "      <th>BDL_vsby</th>\n",
              "    </tr>\n",
              "  </thead>\n",
              "  <tbody>\n",
              "    <tr>\n",
              "      <th>8760</th>\n",
              "      <td>3053.0</td>\n",
              "      <td>33.98</td>\n",
              "      <td>26.96</td>\n",
              "      <td>0.0</td>\n",
              "      <td>0.0</td>\n",
              "      <td>0.0</td>\n",
              "      <td>0.0</td>\n",
              "      <td>30.07</td>\n",
              "      <td>1018.5</td>\n",
              "      <td>6.0</td>\n",
              "    </tr>\n",
              "    <tr>\n",
              "      <th>8761</th>\n",
              "      <td>2892.0</td>\n",
              "      <td>33.98</td>\n",
              "      <td>26.96</td>\n",
              "      <td>0.0</td>\n",
              "      <td>0.0</td>\n",
              "      <td>0.0</td>\n",
              "      <td>0.0</td>\n",
              "      <td>30.07</td>\n",
              "      <td>1018.5</td>\n",
              "      <td>6.0</td>\n",
              "    </tr>\n",
              "    <tr>\n",
              "      <th>8762</th>\n",
              "      <td>2774.0</td>\n",
              "      <td>30.92</td>\n",
              "      <td>26.96</td>\n",
              "      <td>0.0</td>\n",
              "      <td>0.0</td>\n",
              "      <td>0.0</td>\n",
              "      <td>0.0</td>\n",
              "      <td>30.07</td>\n",
              "      <td>1018.6</td>\n",
              "      <td>6.0</td>\n",
              "    </tr>\n",
              "    <tr>\n",
              "      <th>8763</th>\n",
              "      <td>2710.0</td>\n",
              "      <td>30.02</td>\n",
              "      <td>26.06</td>\n",
              "      <td>0.0</td>\n",
              "      <td>0.0</td>\n",
              "      <td>0.0</td>\n",
              "      <td>0.0</td>\n",
              "      <td>30.09</td>\n",
              "      <td>1019.2</td>\n",
              "      <td>5.0</td>\n",
              "    </tr>\n",
              "    <tr>\n",
              "      <th>8764</th>\n",
              "      <td>2698.0</td>\n",
              "      <td>28.94</td>\n",
              "      <td>24.98</td>\n",
              "      <td>0.0</td>\n",
              "      <td>0.0</td>\n",
              "      <td>0.0</td>\n",
              "      <td>0.0</td>\n",
              "      <td>30.09</td>\n",
              "      <td>1019.1</td>\n",
              "      <td>5.0</td>\n",
              "    </tr>\n",
              "  </tbody>\n",
              "</table>\n",
              "</div>\n",
              "      <button class=\"colab-df-convert\" onclick=\"convertToInteractive('df-97d40240-6733-43ac-8e40-a3ce7f008cc3')\"\n",
              "              title=\"Convert this dataframe to an interactive table.\"\n",
              "              style=\"display:none;\">\n",
              "        \n",
              "  <svg xmlns=\"http://www.w3.org/2000/svg\" height=\"24px\"viewBox=\"0 0 24 24\"\n",
              "       width=\"24px\">\n",
              "    <path d=\"M0 0h24v24H0V0z\" fill=\"none\"/>\n",
              "    <path d=\"M18.56 5.44l.94 2.06.94-2.06 2.06-.94-2.06-.94-.94-2.06-.94 2.06-2.06.94zm-11 1L8.5 8.5l.94-2.06 2.06-.94-2.06-.94L8.5 2.5l-.94 2.06-2.06.94zm10 10l.94 2.06.94-2.06 2.06-.94-2.06-.94-.94-2.06-.94 2.06-2.06.94z\"/><path d=\"M17.41 7.96l-1.37-1.37c-.4-.4-.92-.59-1.43-.59-.52 0-1.04.2-1.43.59L10.3 9.45l-7.72 7.72c-.78.78-.78 2.05 0 2.83L4 21.41c.39.39.9.59 1.41.59.51 0 1.02-.2 1.41-.59l7.78-7.78 2.81-2.81c.8-.78.8-2.07 0-2.86zM5.41 20L4 18.59l7.72-7.72 1.47 1.35L5.41 20z\"/>\n",
              "  </svg>\n",
              "      </button>\n",
              "      \n",
              "  <style>\n",
              "    .colab-df-container {\n",
              "      display:flex;\n",
              "      flex-wrap:wrap;\n",
              "      gap: 12px;\n",
              "    }\n",
              "\n",
              "    .colab-df-convert {\n",
              "      background-color: #E8F0FE;\n",
              "      border: none;\n",
              "      border-radius: 50%;\n",
              "      cursor: pointer;\n",
              "      display: none;\n",
              "      fill: #1967D2;\n",
              "      height: 32px;\n",
              "      padding: 0 0 0 0;\n",
              "      width: 32px;\n",
              "    }\n",
              "\n",
              "    .colab-df-convert:hover {\n",
              "      background-color: #E2EBFA;\n",
              "      box-shadow: 0px 1px 2px rgba(60, 64, 67, 0.3), 0px 1px 3px 1px rgba(60, 64, 67, 0.15);\n",
              "      fill: #174EA6;\n",
              "    }\n",
              "\n",
              "    [theme=dark] .colab-df-convert {\n",
              "      background-color: #3B4455;\n",
              "      fill: #D2E3FC;\n",
              "    }\n",
              "\n",
              "    [theme=dark] .colab-df-convert:hover {\n",
              "      background-color: #434B5C;\n",
              "      box-shadow: 0px 1px 3px 1px rgba(0, 0, 0, 0.15);\n",
              "      filter: drop-shadow(0px 1px 2px rgba(0, 0, 0, 0.3));\n",
              "      fill: #FFFFFF;\n",
              "    }\n",
              "  </style>\n",
              "\n",
              "      <script>\n",
              "        const buttonEl =\n",
              "          document.querySelector('#df-97d40240-6733-43ac-8e40-a3ce7f008cc3 button.colab-df-convert');\n",
              "        buttonEl.style.display =\n",
              "          google.colab.kernel.accessAllowed ? 'block' : 'none';\n",
              "\n",
              "        async function convertToInteractive(key) {\n",
              "          const element = document.querySelector('#df-97d40240-6733-43ac-8e40-a3ce7f008cc3');\n",
              "          const dataTable =\n",
              "            await google.colab.kernel.invokeFunction('convertToInteractive',\n",
              "                                                     [key], {});\n",
              "          if (!dataTable) return;\n",
              "\n",
              "          const docLinkHtml = 'Like what you see? Visit the ' +\n",
              "            '<a target=\"_blank\" href=https://colab.research.google.com/notebooks/data_table.ipynb>data table notebook</a>'\n",
              "            + ' to learn more about interactive tables.';\n",
              "          element.innerHTML = '';\n",
              "          dataTable['output_type'] = 'display_data';\n",
              "          await google.colab.output.renderOutput(dataTable, element);\n",
              "          const docLink = document.createElement('div');\n",
              "          docLink.innerHTML = docLinkHtml;\n",
              "          element.appendChild(docLink);\n",
              "        }\n",
              "      </script>\n",
              "    </div>\n",
              "  </div>\n",
              "  "
            ]
          },
          "metadata": {},
          "execution_count": 14
        }
      ]
    },
    {
      "cell_type": "code",
      "source": [
        "df.columns"
      ],
      "metadata": {
        "colab": {
          "base_uri": "https://localhost:8080/"
        },
        "id": "QVe68I7ETkGq",
        "outputId": "2c32decb-423c-4274-9207-3f8a603ec91e"
      },
      "execution_count": null,
      "outputs": [
        {
          "output_type": "execute_result",
          "data": {
            "text/plain": [
              "Index(['Demand', 'BDL_tmpf', 'BDL_dwpf', 'BDL_relh', 'BDL_drct', 'BDL_sknt',\n",
              "       'BDL_p01i', 'BDL_alti', 'BDL_mslp', 'BDL_vsby'],\n",
              "      dtype='object')"
            ]
          },
          "metadata": {},
          "execution_count": 15
        }
      ]
    },
    {
      "cell_type": "code",
      "source": [
        "#Move the dependent variable to the end\n",
        "df=df[['BDL_tmpf', 'BDL_dwpf', 'BDL_relh', 'BDL_drct', 'BDL_sknt',\n",
        "       'BDL_p01i', 'BDL_alti', 'BDL_mslp', 'BDL_vsby','Demand']]"
      ],
      "metadata": {
        "id": "EqgI3FxLTdQy"
      },
      "execution_count": null,
      "outputs": []
    },
    {
      "cell_type": "code",
      "source": [
        "df.head()"
      ],
      "metadata": {
        "colab": {
          "base_uri": "https://localhost:8080/",
          "height": 206
        },
        "id": "eO_vNQoSTpaF",
        "outputId": "6e0946b7-f368-4312-cef4-d5e09cdffded"
      },
      "execution_count": null,
      "outputs": [
        {
          "output_type": "execute_result",
          "data": {
            "text/plain": [
              "      BDL_tmpf  BDL_dwpf  BDL_relh  BDL_drct  BDL_sknt  BDL_p01i  BDL_alti  \\\n",
              "8760     33.98     26.96       0.0       0.0       0.0       0.0     30.07   \n",
              "8761     33.98     26.96       0.0       0.0       0.0       0.0     30.07   \n",
              "8762     30.92     26.96       0.0       0.0       0.0       0.0     30.07   \n",
              "8763     30.02     26.06       0.0       0.0       0.0       0.0     30.09   \n",
              "8764     28.94     24.98       0.0       0.0       0.0       0.0     30.09   \n",
              "\n",
              "      BDL_mslp  BDL_vsby  Demand  \n",
              "8760    1018.5       6.0  3053.0  \n",
              "8761    1018.5       6.0  2892.0  \n",
              "8762    1018.6       6.0  2774.0  \n",
              "8763    1019.2       5.0  2710.0  \n",
              "8764    1019.1       5.0  2698.0  "
            ],
            "text/html": [
              "\n",
              "  <div id=\"df-730044ba-c8d8-475f-8b2d-b3b151517cf1\">\n",
              "    <div class=\"colab-df-container\">\n",
              "      <div>\n",
              "<style scoped>\n",
              "    .dataframe tbody tr th:only-of-type {\n",
              "        vertical-align: middle;\n",
              "    }\n",
              "\n",
              "    .dataframe tbody tr th {\n",
              "        vertical-align: top;\n",
              "    }\n",
              "\n",
              "    .dataframe thead th {\n",
              "        text-align: right;\n",
              "    }\n",
              "</style>\n",
              "<table border=\"1\" class=\"dataframe\">\n",
              "  <thead>\n",
              "    <tr style=\"text-align: right;\">\n",
              "      <th></th>\n",
              "      <th>BDL_tmpf</th>\n",
              "      <th>BDL_dwpf</th>\n",
              "      <th>BDL_relh</th>\n",
              "      <th>BDL_drct</th>\n",
              "      <th>BDL_sknt</th>\n",
              "      <th>BDL_p01i</th>\n",
              "      <th>BDL_alti</th>\n",
              "      <th>BDL_mslp</th>\n",
              "      <th>BDL_vsby</th>\n",
              "      <th>Demand</th>\n",
              "    </tr>\n",
              "  </thead>\n",
              "  <tbody>\n",
              "    <tr>\n",
              "      <th>8760</th>\n",
              "      <td>33.98</td>\n",
              "      <td>26.96</td>\n",
              "      <td>0.0</td>\n",
              "      <td>0.0</td>\n",
              "      <td>0.0</td>\n",
              "      <td>0.0</td>\n",
              "      <td>30.07</td>\n",
              "      <td>1018.5</td>\n",
              "      <td>6.0</td>\n",
              "      <td>3053.0</td>\n",
              "    </tr>\n",
              "    <tr>\n",
              "      <th>8761</th>\n",
              "      <td>33.98</td>\n",
              "      <td>26.96</td>\n",
              "      <td>0.0</td>\n",
              "      <td>0.0</td>\n",
              "      <td>0.0</td>\n",
              "      <td>0.0</td>\n",
              "      <td>30.07</td>\n",
              "      <td>1018.5</td>\n",
              "      <td>6.0</td>\n",
              "      <td>2892.0</td>\n",
              "    </tr>\n",
              "    <tr>\n",
              "      <th>8762</th>\n",
              "      <td>30.92</td>\n",
              "      <td>26.96</td>\n",
              "      <td>0.0</td>\n",
              "      <td>0.0</td>\n",
              "      <td>0.0</td>\n",
              "      <td>0.0</td>\n",
              "      <td>30.07</td>\n",
              "      <td>1018.6</td>\n",
              "      <td>6.0</td>\n",
              "      <td>2774.0</td>\n",
              "    </tr>\n",
              "    <tr>\n",
              "      <th>8763</th>\n",
              "      <td>30.02</td>\n",
              "      <td>26.06</td>\n",
              "      <td>0.0</td>\n",
              "      <td>0.0</td>\n",
              "      <td>0.0</td>\n",
              "      <td>0.0</td>\n",
              "      <td>30.09</td>\n",
              "      <td>1019.2</td>\n",
              "      <td>5.0</td>\n",
              "      <td>2710.0</td>\n",
              "    </tr>\n",
              "    <tr>\n",
              "      <th>8764</th>\n",
              "      <td>28.94</td>\n",
              "      <td>24.98</td>\n",
              "      <td>0.0</td>\n",
              "      <td>0.0</td>\n",
              "      <td>0.0</td>\n",
              "      <td>0.0</td>\n",
              "      <td>30.09</td>\n",
              "      <td>1019.1</td>\n",
              "      <td>5.0</td>\n",
              "      <td>2698.0</td>\n",
              "    </tr>\n",
              "  </tbody>\n",
              "</table>\n",
              "</div>\n",
              "      <button class=\"colab-df-convert\" onclick=\"convertToInteractive('df-730044ba-c8d8-475f-8b2d-b3b151517cf1')\"\n",
              "              title=\"Convert this dataframe to an interactive table.\"\n",
              "              style=\"display:none;\">\n",
              "        \n",
              "  <svg xmlns=\"http://www.w3.org/2000/svg\" height=\"24px\"viewBox=\"0 0 24 24\"\n",
              "       width=\"24px\">\n",
              "    <path d=\"M0 0h24v24H0V0z\" fill=\"none\"/>\n",
              "    <path d=\"M18.56 5.44l.94 2.06.94-2.06 2.06-.94-2.06-.94-.94-2.06-.94 2.06-2.06.94zm-11 1L8.5 8.5l.94-2.06 2.06-.94-2.06-.94L8.5 2.5l-.94 2.06-2.06.94zm10 10l.94 2.06.94-2.06 2.06-.94-2.06-.94-.94-2.06-.94 2.06-2.06.94z\"/><path d=\"M17.41 7.96l-1.37-1.37c-.4-.4-.92-.59-1.43-.59-.52 0-1.04.2-1.43.59L10.3 9.45l-7.72 7.72c-.78.78-.78 2.05 0 2.83L4 21.41c.39.39.9.59 1.41.59.51 0 1.02-.2 1.41-.59l7.78-7.78 2.81-2.81c.8-.78.8-2.07 0-2.86zM5.41 20L4 18.59l7.72-7.72 1.47 1.35L5.41 20z\"/>\n",
              "  </svg>\n",
              "      </button>\n",
              "      \n",
              "  <style>\n",
              "    .colab-df-container {\n",
              "      display:flex;\n",
              "      flex-wrap:wrap;\n",
              "      gap: 12px;\n",
              "    }\n",
              "\n",
              "    .colab-df-convert {\n",
              "      background-color: #E8F0FE;\n",
              "      border: none;\n",
              "      border-radius: 50%;\n",
              "      cursor: pointer;\n",
              "      display: none;\n",
              "      fill: #1967D2;\n",
              "      height: 32px;\n",
              "      padding: 0 0 0 0;\n",
              "      width: 32px;\n",
              "    }\n",
              "\n",
              "    .colab-df-convert:hover {\n",
              "      background-color: #E2EBFA;\n",
              "      box-shadow: 0px 1px 2px rgba(60, 64, 67, 0.3), 0px 1px 3px 1px rgba(60, 64, 67, 0.15);\n",
              "      fill: #174EA6;\n",
              "    }\n",
              "\n",
              "    [theme=dark] .colab-df-convert {\n",
              "      background-color: #3B4455;\n",
              "      fill: #D2E3FC;\n",
              "    }\n",
              "\n",
              "    [theme=dark] .colab-df-convert:hover {\n",
              "      background-color: #434B5C;\n",
              "      box-shadow: 0px 1px 3px 1px rgba(0, 0, 0, 0.15);\n",
              "      filter: drop-shadow(0px 1px 2px rgba(0, 0, 0, 0.3));\n",
              "      fill: #FFFFFF;\n",
              "    }\n",
              "  </style>\n",
              "\n",
              "      <script>\n",
              "        const buttonEl =\n",
              "          document.querySelector('#df-730044ba-c8d8-475f-8b2d-b3b151517cf1 button.colab-df-convert');\n",
              "        buttonEl.style.display =\n",
              "          google.colab.kernel.accessAllowed ? 'block' : 'none';\n",
              "\n",
              "        async function convertToInteractive(key) {\n",
              "          const element = document.querySelector('#df-730044ba-c8d8-475f-8b2d-b3b151517cf1');\n",
              "          const dataTable =\n",
              "            await google.colab.kernel.invokeFunction('convertToInteractive',\n",
              "                                                     [key], {});\n",
              "          if (!dataTable) return;\n",
              "\n",
              "          const docLinkHtml = 'Like what you see? Visit the ' +\n",
              "            '<a target=\"_blank\" href=https://colab.research.google.com/notebooks/data_table.ipynb>data table notebook</a>'\n",
              "            + ' to learn more about interactive tables.';\n",
              "          element.innerHTML = '';\n",
              "          dataTable['output_type'] = 'display_data';\n",
              "          await google.colab.output.renderOutput(dataTable, element);\n",
              "          const docLink = document.createElement('div');\n",
              "          docLink.innerHTML = docLinkHtml;\n",
              "          element.appendChild(docLink);\n",
              "        }\n",
              "      </script>\n",
              "    </div>\n",
              "  </div>\n",
              "  "
            ]
          },
          "metadata": {},
          "execution_count": 17
        }
      ]
    },
    {
      "cell_type": "markdown",
      "source": [
        "## Cleaning"
      ],
      "metadata": {
        "id": "5FkET9O_mHgw"
      }
    },
    {
      "cell_type": "markdown",
      "source": [
        "### Missing Values"
      ],
      "metadata": {
        "id": "rlqNM-rXmKZm"
      }
    },
    {
      "cell_type": "code",
      "source": [
        "df.isna().sum()"
      ],
      "metadata": {
        "colab": {
          "base_uri": "https://localhost:8080/"
        },
        "id": "jBid7sOVmJLu",
        "outputId": "2c6e0a94-0108-44ce-bf8b-669cd3ae1e19"
      },
      "execution_count": null,
      "outputs": [
        {
          "output_type": "execute_result",
          "data": {
            "text/plain": [
              "BDL_tmpf    267\n",
              "BDL_dwpf    267\n",
              "BDL_relh    267\n",
              "BDL_drct    267\n",
              "BDL_sknt    267\n",
              "BDL_p01i    267\n",
              "BDL_alti    267\n",
              "BDL_mslp    267\n",
              "BDL_vsby    267\n",
              "Demand        0\n",
              "dtype: int64"
            ]
          },
          "metadata": {},
          "execution_count": 18
        }
      ]
    },
    {
      "cell_type": "code",
      "source": [
        "print(\"There are total of\",df.isna().sum().sum(),\"missing values in the dataset\")"
      ],
      "metadata": {
        "colab": {
          "base_uri": "https://localhost:8080/"
        },
        "id": "SW-SONm7mTxT",
        "outputId": "4fd5b1b4-323e-4558-cb4c-c697d7a74e86"
      },
      "execution_count": null,
      "outputs": [
        {
          "output_type": "stream",
          "name": "stdout",
          "text": [
            "There are total of 2403 missing values in the dataset\n"
          ]
        }
      ]
    },
    {
      "cell_type": "code",
      "source": [
        "#Check sample data of missing values\n",
        "df[pd.isna(df[\"BDL_tmpf\"])].head()"
      ],
      "metadata": {
        "colab": {
          "base_uri": "https://localhost:8080/",
          "height": 206
        },
        "id": "5MP64sm3mbSj",
        "outputId": "bc3a5beb-434a-4096-e329-80737ee7b248"
      },
      "execution_count": null,
      "outputs": [
        {
          "output_type": "execute_result",
          "data": {
            "text/plain": [
              "      BDL_tmpf  BDL_dwpf  BDL_relh  BDL_drct  BDL_sknt  BDL_p01i  BDL_alti  \\\n",
              "8771       NaN       NaN       NaN       NaN       NaN       NaN       NaN   \n",
              "9034       NaN       NaN       NaN       NaN       NaN       NaN       NaN   \n",
              "9169       NaN       NaN       NaN       NaN       NaN       NaN       NaN   \n",
              "9194       NaN       NaN       NaN       NaN       NaN       NaN       NaN   \n",
              "9220       NaN       NaN       NaN       NaN       NaN       NaN       NaN   \n",
              "\n",
              "      BDL_mslp  BDL_vsby  Demand  \n",
              "8771       NaN       NaN  3325.0  \n",
              "9034       NaN       NaN  4071.0  \n",
              "9169       NaN       NaN  3209.0  \n",
              "9194       NaN       NaN  2882.0  \n",
              "9220       NaN       NaN  3030.0  "
            ],
            "text/html": [
              "\n",
              "  <div id=\"df-4de31e4a-b2f0-4789-b740-d9abc4674462\">\n",
              "    <div class=\"colab-df-container\">\n",
              "      <div>\n",
              "<style scoped>\n",
              "    .dataframe tbody tr th:only-of-type {\n",
              "        vertical-align: middle;\n",
              "    }\n",
              "\n",
              "    .dataframe tbody tr th {\n",
              "        vertical-align: top;\n",
              "    }\n",
              "\n",
              "    .dataframe thead th {\n",
              "        text-align: right;\n",
              "    }\n",
              "</style>\n",
              "<table border=\"1\" class=\"dataframe\">\n",
              "  <thead>\n",
              "    <tr style=\"text-align: right;\">\n",
              "      <th></th>\n",
              "      <th>BDL_tmpf</th>\n",
              "      <th>BDL_dwpf</th>\n",
              "      <th>BDL_relh</th>\n",
              "      <th>BDL_drct</th>\n",
              "      <th>BDL_sknt</th>\n",
              "      <th>BDL_p01i</th>\n",
              "      <th>BDL_alti</th>\n",
              "      <th>BDL_mslp</th>\n",
              "      <th>BDL_vsby</th>\n",
              "      <th>Demand</th>\n",
              "    </tr>\n",
              "  </thead>\n",
              "  <tbody>\n",
              "    <tr>\n",
              "      <th>8771</th>\n",
              "      <td>NaN</td>\n",
              "      <td>NaN</td>\n",
              "      <td>NaN</td>\n",
              "      <td>NaN</td>\n",
              "      <td>NaN</td>\n",
              "      <td>NaN</td>\n",
              "      <td>NaN</td>\n",
              "      <td>NaN</td>\n",
              "      <td>NaN</td>\n",
              "      <td>3325.0</td>\n",
              "    </tr>\n",
              "    <tr>\n",
              "      <th>9034</th>\n",
              "      <td>NaN</td>\n",
              "      <td>NaN</td>\n",
              "      <td>NaN</td>\n",
              "      <td>NaN</td>\n",
              "      <td>NaN</td>\n",
              "      <td>NaN</td>\n",
              "      <td>NaN</td>\n",
              "      <td>NaN</td>\n",
              "      <td>NaN</td>\n",
              "      <td>4071.0</td>\n",
              "    </tr>\n",
              "    <tr>\n",
              "      <th>9169</th>\n",
              "      <td>NaN</td>\n",
              "      <td>NaN</td>\n",
              "      <td>NaN</td>\n",
              "      <td>NaN</td>\n",
              "      <td>NaN</td>\n",
              "      <td>NaN</td>\n",
              "      <td>NaN</td>\n",
              "      <td>NaN</td>\n",
              "      <td>NaN</td>\n",
              "      <td>3209.0</td>\n",
              "    </tr>\n",
              "    <tr>\n",
              "      <th>9194</th>\n",
              "      <td>NaN</td>\n",
              "      <td>NaN</td>\n",
              "      <td>NaN</td>\n",
              "      <td>NaN</td>\n",
              "      <td>NaN</td>\n",
              "      <td>NaN</td>\n",
              "      <td>NaN</td>\n",
              "      <td>NaN</td>\n",
              "      <td>NaN</td>\n",
              "      <td>2882.0</td>\n",
              "    </tr>\n",
              "    <tr>\n",
              "      <th>9220</th>\n",
              "      <td>NaN</td>\n",
              "      <td>NaN</td>\n",
              "      <td>NaN</td>\n",
              "      <td>NaN</td>\n",
              "      <td>NaN</td>\n",
              "      <td>NaN</td>\n",
              "      <td>NaN</td>\n",
              "      <td>NaN</td>\n",
              "      <td>NaN</td>\n",
              "      <td>3030.0</td>\n",
              "    </tr>\n",
              "  </tbody>\n",
              "</table>\n",
              "</div>\n",
              "      <button class=\"colab-df-convert\" onclick=\"convertToInteractive('df-4de31e4a-b2f0-4789-b740-d9abc4674462')\"\n",
              "              title=\"Convert this dataframe to an interactive table.\"\n",
              "              style=\"display:none;\">\n",
              "        \n",
              "  <svg xmlns=\"http://www.w3.org/2000/svg\" height=\"24px\"viewBox=\"0 0 24 24\"\n",
              "       width=\"24px\">\n",
              "    <path d=\"M0 0h24v24H0V0z\" fill=\"none\"/>\n",
              "    <path d=\"M18.56 5.44l.94 2.06.94-2.06 2.06-.94-2.06-.94-.94-2.06-.94 2.06-2.06.94zm-11 1L8.5 8.5l.94-2.06 2.06-.94-2.06-.94L8.5 2.5l-.94 2.06-2.06.94zm10 10l.94 2.06.94-2.06 2.06-.94-2.06-.94-.94-2.06-.94 2.06-2.06.94z\"/><path d=\"M17.41 7.96l-1.37-1.37c-.4-.4-.92-.59-1.43-.59-.52 0-1.04.2-1.43.59L10.3 9.45l-7.72 7.72c-.78.78-.78 2.05 0 2.83L4 21.41c.39.39.9.59 1.41.59.51 0 1.02-.2 1.41-.59l7.78-7.78 2.81-2.81c.8-.78.8-2.07 0-2.86zM5.41 20L4 18.59l7.72-7.72 1.47 1.35L5.41 20z\"/>\n",
              "  </svg>\n",
              "      </button>\n",
              "      \n",
              "  <style>\n",
              "    .colab-df-container {\n",
              "      display:flex;\n",
              "      flex-wrap:wrap;\n",
              "      gap: 12px;\n",
              "    }\n",
              "\n",
              "    .colab-df-convert {\n",
              "      background-color: #E8F0FE;\n",
              "      border: none;\n",
              "      border-radius: 50%;\n",
              "      cursor: pointer;\n",
              "      display: none;\n",
              "      fill: #1967D2;\n",
              "      height: 32px;\n",
              "      padding: 0 0 0 0;\n",
              "      width: 32px;\n",
              "    }\n",
              "\n",
              "    .colab-df-convert:hover {\n",
              "      background-color: #E2EBFA;\n",
              "      box-shadow: 0px 1px 2px rgba(60, 64, 67, 0.3), 0px 1px 3px 1px rgba(60, 64, 67, 0.15);\n",
              "      fill: #174EA6;\n",
              "    }\n",
              "\n",
              "    [theme=dark] .colab-df-convert {\n",
              "      background-color: #3B4455;\n",
              "      fill: #D2E3FC;\n",
              "    }\n",
              "\n",
              "    [theme=dark] .colab-df-convert:hover {\n",
              "      background-color: #434B5C;\n",
              "      box-shadow: 0px 1px 3px 1px rgba(0, 0, 0, 0.15);\n",
              "      filter: drop-shadow(0px 1px 2px rgba(0, 0, 0, 0.3));\n",
              "      fill: #FFFFFF;\n",
              "    }\n",
              "  </style>\n",
              "\n",
              "      <script>\n",
              "        const buttonEl =\n",
              "          document.querySelector('#df-4de31e4a-b2f0-4789-b740-d9abc4674462 button.colab-df-convert');\n",
              "        buttonEl.style.display =\n",
              "          google.colab.kernel.accessAllowed ? 'block' : 'none';\n",
              "\n",
              "        async function convertToInteractive(key) {\n",
              "          const element = document.querySelector('#df-4de31e4a-b2f0-4789-b740-d9abc4674462');\n",
              "          const dataTable =\n",
              "            await google.colab.kernel.invokeFunction('convertToInteractive',\n",
              "                                                     [key], {});\n",
              "          if (!dataTable) return;\n",
              "\n",
              "          const docLinkHtml = 'Like what you see? Visit the ' +\n",
              "            '<a target=\"_blank\" href=https://colab.research.google.com/notebooks/data_table.ipynb>data table notebook</a>'\n",
              "            + ' to learn more about interactive tables.';\n",
              "          element.innerHTML = '';\n",
              "          dataTable['output_type'] = 'display_data';\n",
              "          await google.colab.output.renderOutput(dataTable, element);\n",
              "          const docLink = document.createElement('div');\n",
              "          docLink.innerHTML = docLinkHtml;\n",
              "          element.appendChild(docLink);\n",
              "        }\n",
              "      </script>\n",
              "    </div>\n",
              "  </div>\n",
              "  "
            ]
          },
          "metadata": {},
          "execution_count": 20
        }
      ]
    },
    {
      "cell_type": "code",
      "source": [
        "#Check if all columsn with 267 NULLs of similar rows\n",
        "df[pd.isna(df[\"BDL_tmpf\"])].isna().sum()"
      ],
      "metadata": {
        "colab": {
          "base_uri": "https://localhost:8080/"
        },
        "id": "k4aiP5smmdyC",
        "outputId": "5039e63c-38c4-45c3-83f8-c687a0c754c2"
      },
      "execution_count": null,
      "outputs": [
        {
          "output_type": "execute_result",
          "data": {
            "text/plain": [
              "BDL_tmpf    267\n",
              "BDL_dwpf    267\n",
              "BDL_relh    267\n",
              "BDL_drct    267\n",
              "BDL_sknt    267\n",
              "BDL_p01i    267\n",
              "BDL_alti    267\n",
              "BDL_mslp    267\n",
              "BDL_vsby    267\n",
              "Demand        0\n",
              "dtype: int64"
            ]
          },
          "metadata": {},
          "execution_count": 21
        }
      ]
    },
    {
      "cell_type": "code",
      "source": [
        "print(\"There are total of\",round(267*100/len(df),2),\"pct of missing values in the dataset\")"
      ],
      "metadata": {
        "colab": {
          "base_uri": "https://localhost:8080/"
        },
        "id": "ff241kpnn9rC",
        "outputId": "8490488a-678f-40b5-95e0-7225352d439c"
      },
      "execution_count": null,
      "outputs": [
        {
          "output_type": "stream",
          "name": "stdout",
          "text": [
            "There are total of 0.28 pct of missing values in the dataset\n"
          ]
        }
      ]
    },
    {
      "cell_type": "markdown",
      "source": [
        "All columns have missing values in same 267 rows. As this is hourly weather dataset and missing values are less than 0.5% in the dataset, we can safely replace missing values with \n",
        "\n",
        "\n",
        "1.   Weather information of previous hour\n",
        "2.   Weather information of following hour\n",
        "\n",
        "Removing missing values also should not impact dataset by much as it missing values are very low pct \n",
        "\n"
      ],
      "metadata": {
        "id": "SMZB_U88nZOy"
      }
    },
    {
      "cell_type": "code",
      "source": [
        "df.isna().sum()"
      ],
      "metadata": {
        "colab": {
          "base_uri": "https://localhost:8080/"
        },
        "id": "04eQEd81pFzB",
        "outputId": "bb610533-262d-418f-add0-8c7714c16af9"
      },
      "execution_count": null,
      "outputs": [
        {
          "output_type": "execute_result",
          "data": {
            "text/plain": [
              "BDL_tmpf    267\n",
              "BDL_dwpf    267\n",
              "BDL_relh    267\n",
              "BDL_drct    267\n",
              "BDL_sknt    267\n",
              "BDL_p01i    267\n",
              "BDL_alti    267\n",
              "BDL_mslp    267\n",
              "BDL_vsby    267\n",
              "Demand        0\n",
              "dtype: int64"
            ]
          },
          "metadata": {},
          "execution_count": 23
        }
      ]
    },
    {
      "cell_type": "code",
      "source": [
        "# Fill NAs with previous value in the dataset. As dataset is already sorted, we can go ahead and replace it with previous value\n",
        "df.fillna(method ='pad',inplace=True)"
      ],
      "metadata": {
        "id": "aQoHSec1nX5N"
      },
      "execution_count": null,
      "outputs": []
    },
    {
      "cell_type": "code",
      "source": [
        "#Check missing values after treatment\n",
        "df.isna().sum()"
      ],
      "metadata": {
        "colab": {
          "base_uri": "https://localhost:8080/"
        },
        "id": "LmbNeez5pK7w",
        "outputId": "4fc1d6bd-7f75-4a3c-d4e7-2c2bf1415c24"
      },
      "execution_count": null,
      "outputs": [
        {
          "output_type": "execute_result",
          "data": {
            "text/plain": [
              "BDL_tmpf    0\n",
              "BDL_dwpf    0\n",
              "BDL_relh    0\n",
              "BDL_drct    0\n",
              "BDL_sknt    0\n",
              "BDL_p01i    0\n",
              "BDL_alti    0\n",
              "BDL_mslp    0\n",
              "BDL_vsby    0\n",
              "Demand      0\n",
              "dtype: int64"
            ]
          },
          "metadata": {},
          "execution_count": 25
        }
      ]
    },
    {
      "cell_type": "markdown",
      "source": [
        "### Outliers Check"
      ],
      "metadata": {
        "id": "IkIJadqGMKTL"
      }
    },
    {
      "cell_type": "code",
      "source": [
        "#Later"
      ],
      "metadata": {
        "id": "yOH2ixMqML_b"
      },
      "execution_count": null,
      "outputs": []
    },
    {
      "cell_type": "markdown",
      "source": [
        "## 3D Tensor"
      ],
      "metadata": {
        "id": "3FPOgTRsMPA7"
      }
    },
    {
      "cell_type": "code",
      "source": [
        "# prep data for modeling (multivariate)\n",
        "# link: https://machinelearningmastery.com/how-to-develop-lstm-models-for-time-series-forecasting/\n",
        "\n",
        "from numpy import array\n",
        "\n",
        "# split a multivariate sequence into samples\n",
        "def split_sequences(sequences, n_steps):\n",
        "\tX, y = list(), list()\n",
        "\tfor i in np.arange(len(sequences)): # be careful of this line!\n",
        "\t\t# find the end of this pattern\n",
        "\t\tend_ix = i + n_steps\n",
        "\t\t# check if we are beyond the dataset\n",
        "\t\tif end_ix > len(sequences):\n",
        "\t\t\tbreak\n",
        "\t\t# gather input and output parts of the pattern\n",
        "\t\tseq_x, seq_y = sequences[i:end_ix, :-1], sequences[end_ix-1, -1]\n",
        "\t\tX.append(seq_x)\n",
        "\t\ty.append(seq_y)\n",
        "\treturn np.array(X), np.array(y)"
      ],
      "metadata": {
        "id": "aoqXgeZdT8TN"
      },
      "execution_count": null,
      "outputs": []
    },
    {
      "cell_type": "markdown",
      "source": [
        "Lookback\n",
        "\n",
        "As the dataset is hourly, we could try look back 24 hours of data and use it for prediction of next set of row"
      ],
      "metadata": {
        "id": "FpQrP7ciVaWd"
      }
    },
    {
      "cell_type": "code",
      "source": [
        "# Took this code from class example\n",
        "# we could try weekly data too\n",
        "n_steps = 24\n",
        "raw_seq = np.array(df) # Store the data in numpy array\n",
        "# let's ignore the date column and just use the temperature data\n",
        "X, y = split_sequences(raw_seq, n_steps=24)"
      ],
      "metadata": {
        "id": "bXUOmDBNVhkl"
      },
      "execution_count": null,
      "outputs": []
    },
    {
      "cell_type": "code",
      "source": [
        "# take a peak at what it did\n",
        "print(X.shape)\n",
        "print(y.shape)\n",
        "\n",
        "# scroll up and make sure you understand this!\n",
        "# y is a function of X (the previous n_steps observations!)"
      ],
      "metadata": {
        "colab": {
          "base_uri": "https://localhost:8080/"
        },
        "id": "AWQIj-NRV0Rp",
        "outputId": "5fb71a98-ebfe-4750-b8ce-e5ab03dccab4"
      },
      "execution_count": null,
      "outputs": [
        {
          "output_type": "stream",
          "name": "stdout",
          "text": [
            "(96404, 24, 9)\n",
            "(96404,)\n"
          ]
        }
      ]
    },
    {
      "cell_type": "code",
      "source": [
        "#confirm it with my understanding\n",
        "print(\"Number of samples\",len(df)-n_steps+1)\n",
        "print(\"Lookback period\",n_steps)\n",
        "print(\"Number of features\",len(df.columns)-1)"
      ],
      "metadata": {
        "colab": {
          "base_uri": "https://localhost:8080/"
        },
        "id": "eLC-RUNvV3tX",
        "outputId": "b9658620-cd4b-4f06-bd02-9acb4587e661"
      },
      "execution_count": null,
      "outputs": [
        {
          "output_type": "stream",
          "name": "stdout",
          "text": [
            "Number of samples 96404\n",
            "Lookback period 24\n",
            "Number of features 9\n"
          ]
        }
      ]
    },
    {
      "cell_type": "code",
      "source": [
        "print(\"Resultant Tensor has 96404 samples of size 24 and with 9 features\")"
      ],
      "metadata": {
        "colab": {
          "base_uri": "https://localhost:8080/"
        },
        "id": "pzEl15SfXiff",
        "outputId": "51177da0-1c28-436c-a685-a33264581a95"
      },
      "execution_count": null,
      "outputs": [
        {
          "output_type": "stream",
          "name": "stdout",
          "text": [
            "Resultant Tensor has 96404 samples of size 24 and with 9 features\n"
          ]
        }
      ]
    },
    {
      "cell_type": "markdown",
      "source": [
        "## RNN Model -1  \n",
        "\n",
        "Training - 50K rows \n",
        "Test - 46K rows\n",
        "\n",
        "Structure\n",
        "1.   Two Recurrent layers\n",
        "2.   One Convolution layer\n",
        "3.   Drop out\n",
        "4.   Max Pooling\n",
        "5.   Activation Function\n",
        "\n",
        "\n",
        "\n"
      ],
      "metadata": {
        "id": "If3E7BQNYTOL"
      }
    },
    {
      "cell_type": "markdown",
      "source": [
        "### Datasplit"
      ],
      "metadata": {
        "id": "Dp2rE0h9ZAEz"
      }
    },
    {
      "cell_type": "code",
      "source": [
        "# split the data into train and test partitions\n",
        "# we will use 50% of the data for train, and 50% for validation\n",
        "train_pct_index = 50000\n",
        "X_train, X_test = X[:train_pct_index], X[train_pct_index:]\n",
        "y_train, y_test = y[:train_pct_index], y[train_pct_index:]\n",
        "\n",
        "# pretty slick way of splitting your data using slicing!\n",
        "# notice how we didn't do any shuffling (we don't want temporal leakage! keeps time series intact)"
      ],
      "metadata": {
        "id": "2-0zeV8KY818"
      },
      "execution_count": null,
      "outputs": []
    },
    {
      "cell_type": "code",
      "source": [
        "# check the shape to be sure\n",
        "print(X.shape, X_train.shape, X_test.shape)\n",
        "print(y.shape, y_train.shape, y_test.shape)\n",
        "\n",
        "# verify that this all adds up!\n",
        "# 96404 samples with 24 lookback and 9 columns"
      ],
      "metadata": {
        "colab": {
          "base_uri": "https://localhost:8080/"
        },
        "id": "qQudqrCgZRBP",
        "outputId": "a02ebb1f-4ae3-4d1c-a4db-ba5b23d97262"
      },
      "execution_count": null,
      "outputs": [
        {
          "output_type": "stream",
          "name": "stdout",
          "text": [
            "(96404, 24, 9) (50000, 24, 9) (46404, 24, 9)\n",
            "(96404,) (50000,) (46404,)\n"
          ]
        }
      ]
    },
    {
      "cell_type": "markdown",
      "source": [
        "### Model Building"
      ],
      "metadata": {
        "id": "m5QwSgCdZeAb"
      }
    },
    {
      "cell_type": "code",
      "source": [
        "# now let's build a model\n",
        "\n",
        "# define\n",
        "n_steps = X_train.shape[1]\n",
        "n_features = X_train.shape[2]\n",
        "kernel=3\n",
        "\n",
        "# define model\n",
        "model = Sequential()\n",
        "model.add(Conv1D(filters=32, kernel_size=kernel, input_shape=(n_steps,n_features))) # notice how input shape goes in first layer\n",
        "model.add(MaxPooling1D(2))\n",
        "model.add(SimpleRNN(64, activation='relu', return_sequences=True,recurrent_dropout=0.2))\n",
        "model.add(SimpleRNN(120, activation='relu', \n",
        "                    recurrent_dropout=0.1))\n",
        "model.add(Dropout(0.2))\n",
        "model.add(Dense(1))\n",
        "model.compile(optimizer='adam', loss='mse',metrics=['mae'])\n",
        "model.summary()"
      ],
      "metadata": {
        "colab": {
          "base_uri": "https://localhost:8080/"
        },
        "id": "jcJ_klSkYrWc",
        "outputId": "2c2355aa-030a-44a1-8bce-d574a35bf85b"
      },
      "execution_count": null,
      "outputs": [
        {
          "output_type": "stream",
          "name": "stdout",
          "text": [
            "Model: \"sequential\"\n",
            "_________________________________________________________________\n",
            " Layer (type)                Output Shape              Param #   \n",
            "=================================================================\n",
            " conv1d (Conv1D)             (None, 22, 32)            896       \n",
            "                                                                 \n",
            " max_pooling1d (MaxPooling1D  (None, 11, 32)           0         \n",
            " )                                                               \n",
            "                                                                 \n",
            " simple_rnn (SimpleRNN)      (None, 11, 64)            6208      \n",
            "                                                                 \n",
            " simple_rnn_1 (SimpleRNN)    (None, 120)               22200     \n",
            "                                                                 \n",
            " dropout (Dropout)           (None, 120)               0         \n",
            "                                                                 \n",
            " dense (Dense)               (None, 1)                 121       \n",
            "                                                                 \n",
            "=================================================================\n",
            "Total params: 29,425\n",
            "Trainable params: 29,425\n",
            "Non-trainable params: 0\n",
            "_________________________________________________________________\n"
          ]
        }
      ]
    },
    {
      "cell_type": "code",
      "source": [
        "# Parameters\n",
        "# Step 1\n",
        "#Input (24*9)\n",
        "print((9*3*32)+32)  # 9 features, 3 kernels and 32 feature maps and 32 biases\n",
        "#Output(22*32)\n",
        "\n",
        "\n",
        "# Step 2 (MAx Pooling 1D)\n",
        "print(\"No parameter\")\n",
        "#Output(11*32)\n",
        "\n",
        "\n",
        "# Step 3\n",
        "print((64+32)*64+64)  # 64 Red Dots, 32 Green dots(Features) and 64 O.p hidden units and 64 biases\n",
        "#Output(11*64)\n",
        "\n",
        "\n",
        "# Step 4\n",
        "print((120+64)*120+120)  # 120 Red Dots, 64 Green dots(Features) and 120 O/P hidden units and 120 biases\n",
        "#Output(1*120)\n",
        "\n",
        "\n",
        "# Step 5\n",
        "print((120+1))  # 120 Red Dots and 1 64 biases\n",
        "#Output(1*120)\n"
      ],
      "metadata": {
        "colab": {
          "base_uri": "https://localhost:8080/"
        },
        "id": "Us2nJmvUj0QI",
        "outputId": "ac7c40c3-56eb-4070-9788-5db85993bcb9"
      },
      "execution_count": null,
      "outputs": [
        {
          "output_type": "stream",
          "name": "stdout",
          "text": [
            "896\n",
            "No parameter\n",
            "6208\n",
            "22200\n",
            "121\n"
          ]
        }
      ]
    },
    {
      "cell_type": "code",
      "source": [
        "\n",
        "es = EarlyStopping(monitor='val_loss', mode='min', \n",
        "                   patience=10, \n",
        "                   verbose=1,\n",
        "                   restore_best_weights=True)\n",
        "\n",
        "# fit model (uses early stopping)\n",
        "model.fit(X_train, y_train, \n",
        "          epochs=500, \n",
        "          batch_size=5, \n",
        "          validation_split=0.2, # val is a random 20% of the data since we set shuffle = True\n",
        "          verbose=1,\n",
        "          callbacks=[es],\n",
        "          shuffle=True)"
      ],
      "metadata": {
        "colab": {
          "base_uri": "https://localhost:8080/"
        },
        "id": "Fkj3XOEXjvL0",
        "outputId": "6e977bb9-ff1c-4d3b-ed18-70a35213e135"
      },
      "execution_count": null,
      "outputs": [
        {
          "output_type": "stream",
          "name": "stdout",
          "text": [
            "Epoch 1/500\n",
            "8000/8000 [==============================] - 98s 12ms/step - loss: 698711.0000 - mae: 656.3520 - val_loss: 594989.0000 - val_mae: 640.1350\n",
            "Epoch 2/500\n",
            "8000/8000 [==============================] - 76s 10ms/step - loss: 387781.4688 - mae: 494.8346 - val_loss: 152610.6406 - val_mae: 315.1278\n",
            "Epoch 3/500\n",
            "8000/8000 [==============================] - 80s 10ms/step - loss: 322526.8125 - mae: 452.5927 - val_loss: 150579.0469 - val_mae: 307.7583\n",
            "Epoch 4/500\n",
            "8000/8000 [==============================] - 79s 10ms/step - loss: 298063.7500 - mae: 433.2456 - val_loss: 154278.0625 - val_mae: 304.3879\n",
            "Epoch 5/500\n",
            "8000/8000 [==============================] - 75s 9ms/step - loss: 280645.3125 - mae: 418.9225 - val_loss: 284325.5938 - val_mae: 437.6789\n",
            "Epoch 6/500\n",
            "8000/8000 [==============================] - 70s 9ms/step - loss: 273912.9062 - mae: 414.0515 - val_loss: 204658.7812 - val_mae: 353.3532\n",
            "Epoch 7/500\n",
            "8000/8000 [==============================] - 68s 9ms/step - loss: 263891.5625 - mae: 406.0291 - val_loss: 151463.1094 - val_mae: 298.1049\n",
            "Epoch 8/500\n",
            "8000/8000 [==============================] - 70s 9ms/step - loss: 271155.1562 - mae: 410.8293 - val_loss: 143510.9844 - val_mae: 300.8219\n",
            "Epoch 9/500\n",
            "8000/8000 [==============================] - 68s 8ms/step - loss: 259645.5156 - mae: 400.9245 - val_loss: 157665.5312 - val_mae: 313.0189\n",
            "Epoch 10/500\n",
            "8000/8000 [==============================] - 68s 9ms/step - loss: 250181.3750 - mae: 394.7014 - val_loss: 126867.2266 - val_mae: 272.6914\n",
            "Epoch 11/500\n",
            "8000/8000 [==============================] - 67s 8ms/step - loss: 241311.2812 - mae: 387.1883 - val_loss: 119769.6250 - val_mae: 267.5780\n",
            "Epoch 12/500\n",
            "8000/8000 [==============================] - 68s 9ms/step - loss: 234491.0156 - mae: 380.1729 - val_loss: 128695.2188 - val_mae: 269.6372\n",
            "Epoch 13/500\n",
            "8000/8000 [==============================] - 66s 8ms/step - loss: 233193.3906 - mae: 379.3626 - val_loss: 126352.5156 - val_mae: 273.8459\n",
            "Epoch 14/500\n",
            "8000/8000 [==============================] - 77s 10ms/step - loss: 225087.3594 - mae: 373.7468 - val_loss: 136078.0312 - val_mae: 291.4647\n",
            "Epoch 15/500\n",
            "8000/8000 [==============================] - 72s 9ms/step - loss: 231834.8750 - mae: 379.8621 - val_loss: 120209.6875 - val_mae: 265.3318\n",
            "Epoch 16/500\n",
            "8000/8000 [==============================] - 80s 10ms/step - loss: 222106.1406 - mae: 370.6483 - val_loss: 138387.3281 - val_mae: 289.2328\n",
            "Epoch 17/500\n",
            "8000/8000 [==============================] - 72s 9ms/step - loss: 213764.5000 - mae: 363.6225 - val_loss: 181033.1094 - val_mae: 335.1983\n",
            "Epoch 18/500\n",
            "8000/8000 [==============================] - 71s 9ms/step - loss: 220035.4375 - mae: 367.9274 - val_loss: 135848.4844 - val_mae: 291.5001\n",
            "Epoch 19/500\n",
            "8000/8000 [==============================] - 80s 10ms/step - loss: 219341.9844 - mae: 368.1224 - val_loss: 119815.5938 - val_mae: 266.0097\n",
            "Epoch 20/500\n",
            "8000/8000 [==============================] - 73s 9ms/step - loss: 218049.4531 - mae: 366.0556 - val_loss: 153207.9062 - val_mae: 291.6977\n",
            "Epoch 21/500\n",
            "7999/8000 [============================>.] - ETA: 0s - loss: 215232.9688 - mae: 361.9146Restoring model weights from the end of the best epoch: 11.\n",
            "8000/8000 [==============================] - 70s 9ms/step - loss: 215210.9844 - mae: 361.8897 - val_loss: 124043.4453 - val_mae: 272.8358\n",
            "Epoch 21: early stopping\n"
          ]
        },
        {
          "output_type": "execute_result",
          "data": {
            "text/plain": [
              "<keras.callbacks.History at 0x7ff60c3828d0>"
            ]
          },
          "metadata": {},
          "execution_count": 36
        }
      ]
    },
    {
      "cell_type": "markdown",
      "source": [
        "### Model Evaluation"
      ],
      "metadata": {
        "id": "5fZJoUPinXO2"
      }
    },
    {
      "cell_type": "code",
      "source": [
        "max(df['Demand'])"
      ],
      "metadata": {
        "colab": {
          "base_uri": "https://localhost:8080/"
        },
        "id": "vDFY7_gfty9Z",
        "outputId": "3afdb3a1-0693-4733-e047-91ba3ee94c05"
      },
      "execution_count": null,
      "outputs": [
        {
          "output_type": "execute_result",
          "data": {
            "text/plain": [
              "7219.0"
            ]
          },
          "metadata": {},
          "execution_count": 38
        }
      ]
    },
    {
      "cell_type": "code",
      "source": [
        "# show scatterplots of actual vs. predicted for train and test\n",
        "# make a prediction\n",
        "pred = model.predict(X_test)# the pred\n",
        "\n",
        "# calculate MSE for the baseline model\n",
        "from sklearn.metrics import mean_absolute_error\n",
        "print('MAE: ', mean_absolute_error(y_test, pred))\n",
        "\n",
        "figure(figsize=(8, 8), dpi=80)\n",
        "actual = y_test # the actual\n",
        "plt.scatter(x=actual, y=pred)\n",
        "x = np.linspace(0,7300) # 45 degree line from 0 to 25 (axes are the same)\n",
        "plt.plot(x, x, color='red')\n",
        "plt.suptitle('Test Results')\n",
        "plt.xlabel('Actual')\n",
        "plt.ylabel('Predicted')\n",
        "plt.show()\n",
        "# looks pretty good!\n",
        "\n",
        "# show timeseries plot on the train and validation data\n",
        "figure(figsize=(18, 6), dpi=80)\n",
        "plt.plot(np.arange(X_test.shape[0]), y_test, color='blue') # actual data\n",
        "plt.plot(np.arange(X_test.shape[0]), pred, color='red') # predicted data\n",
        "plt.suptitle('Test Results')\n",
        "plt.xlabel('Time')\n",
        "plt.ylabel('Energy Demand')\n",
        "plt.show()"
      ],
      "metadata": {
        "colab": {
          "base_uri": "https://localhost:8080/",
          "height": 1000
        },
        "id": "0HGthF53nPZe",
        "outputId": "9f645e2e-b8d2-4a54-d041-a1ce1b7d8037"
      },
      "execution_count": null,
      "outputs": [
        {
          "output_type": "stream",
          "name": "stdout",
          "text": [
            "1451/1451 [==============================] - 9s 6ms/step\n",
            "MAE:  282.97381313582633\n"
          ]
        },
        {
          "output_type": "display_data",
          "data": {
            "text/plain": [
              "<Figure size 640x640 with 1 Axes>"
            ],
            "image/png": "[encoded data removed]"
          },
          "metadata": {
            "needs_background": "light"
          }
        },
        {
          "output_type": "display_data",
          "data": {
            "text/plain": [
              "<Figure size 1440x480 with 1 Axes>"
            ],
            "image/png": "[encoded data removed]"
          },
          "metadata": {
            "needs_background": "light"
          }
        }
      ]
    },
    {
      "cell_type": "markdown",
      "source": [
        "## RNN Model -2  \n",
        "\n",
        "Training - 80K rows \n",
        "Test - 16K rows\n",
        "\n",
        "Structure\n",
        "1.   Two Recurrent layers\n",
        "2.   One Convolution layer\n",
        "3.   Drop out\n",
        "4.   Max Pooling\n",
        "5.   Activation Function\n",
        "\n",
        "\n",
        "\n"
      ],
      "metadata": {
        "id": "9dNTKck2noSQ"
      }
    },
    {
      "cell_type": "markdown",
      "source": [
        "### Datasplit"
      ],
      "metadata": {
        "id": "WAb27rhhnoSQ"
      }
    },
    {
      "cell_type": "code",
      "source": [
        "# split the data into train and test partitions\n",
        "# we will use 50% of the data for train, and 50% for validation\n",
        "train_pct_index = 80000\n",
        "X_train, X_test = X[:train_pct_index], X[train_pct_index:]\n",
        "y_train, y_test = y[:train_pct_index], y[train_pct_index:]\n",
        "\n",
        "# pretty slick way of splitting your data using slicing!\n",
        "# notice how we didn't do any shuffling (we don't want temporal leakage! keeps time series intact)"
      ],
      "metadata": {
        "id": "YooQte-anoSR"
      },
      "execution_count": null,
      "outputs": []
    },
    {
      "cell_type": "code",
      "source": [
        "# check the shape to be sure\n",
        "print(X.shape, X_train.shape, X_test.shape)\n",
        "print(y.shape, y_train.shape, y_test.shape)\n",
        "\n",
        "# verify that this all adds up!\n",
        "# 96404 samples with 24 lookback and 9 columns"
      ],
      "metadata": {
        "colab": {
          "base_uri": "https://localhost:8080/"
        },
        "outputId": "9daa427a-4b00-478d-9431-a366fb15b6ac",
        "id": "MmtrRTTWnoSR"
      },
      "execution_count": null,
      "outputs": [
        {
          "output_type": "stream",
          "name": "stdout",
          "text": [
            "(96404, 24, 9) (80000, 24, 9) (16404, 24, 9)\n",
            "(96404,) (80000,) (16404,)\n"
          ]
        }
      ]
    },
    {
      "cell_type": "markdown",
      "source": [
        "### Model Building"
      ],
      "metadata": {
        "id": "e34Kqf97noSR"
      }
    },
    {
      "cell_type": "code",
      "source": [
        "# now let's build a model\n",
        "\n",
        "# define\n",
        "n_steps = X_train.shape[1]\n",
        "n_features = X_train.shape[2]\n",
        "kernel=3\n",
        "\n",
        "# define model\n",
        "model = Sequential()\n",
        "model.add(Conv1D(filters=32, kernel_size=kernel, input_shape=(n_steps,n_features))) # notice how input shape goes in first layer\n",
        "model.add(MaxPooling1D(2))\n",
        "model.add(SimpleRNN(64, activation='relu', return_sequences=True,recurrent_dropout=0.2))\n",
        "model.add(SimpleRNN(120, activation='relu', \n",
        "                    recurrent_dropout=0.1))\n",
        "model.add(Dropout(0.2))\n",
        "model.add(Dense(1))\n",
        "model.compile(optimizer='adam', loss='mse',metrics=['mae'])\n",
        "model.summary()"
      ],
      "metadata": {
        "colab": {
          "base_uri": "https://localhost:8080/"
        },
        "outputId": "4d325366-132b-4445-8296-e06fcf054727",
        "id": "ooc_RAH_noSS"
      },
      "execution_count": null,
      "outputs": [
        {
          "output_type": "stream",
          "name": "stdout",
          "text": [
            "Model: \"sequential\"\n",
            "_________________________________________________________________\n",
            " Layer (type)                Output Shape              Param #   \n",
            "=================================================================\n",
            " conv1d (Conv1D)             (None, 22, 32)            896       \n",
            "                                                                 \n",
            " max_pooling1d (MaxPooling1D  (None, 11, 32)           0         \n",
            " )                                                               \n",
            "                                                                 \n",
            " simple_rnn (SimpleRNN)      (None, 11, 64)            6208      \n",
            "                                                                 \n",
            " simple_rnn_1 (SimpleRNN)    (None, 120)               22200     \n",
            "                                                                 \n",
            " dropout (Dropout)           (None, 120)               0         \n",
            "                                                                 \n",
            " dense (Dense)               (None, 1)                 121       \n",
            "                                                                 \n",
            "=================================================================\n",
            "Total params: 29,425\n",
            "Trainable params: 29,425\n",
            "Non-trainable params: 0\n",
            "_________________________________________________________________\n"
          ]
        }
      ]
    },
    {
      "cell_type": "code",
      "source": [
        "# Parameters\n",
        "# Step 1\n",
        "#Input (24*9)\n",
        "print((9*3*32)+32)  # 9 features, 3 kernels and 32 feature maps and 32 biases\n",
        "#Output(22*32)\n",
        "\n",
        "\n",
        "# Step 2 (MAx Pooling 1D)\n",
        "print(\"No parameter\")\n",
        "#Output(11*32)\n",
        "\n",
        "\n",
        "# Step 3\n",
        "print((64+32)*64+64)  # 64 Red Dots, 32 Green dots(Features) and 64 O.p hidden units and 64 biases\n",
        "#Output(11*64)\n",
        "\n",
        "\n",
        "# Step 4\n",
        "print((120+64)*120+120)  # 120 Red Dots, 64 Green dots(Features) and 120 O/P hidden units and 120 biases\n",
        "#Output(1*120)\n",
        "\n",
        "\n",
        "# Step 5\n",
        "print((120+1))  # 120 Red Dots and 1 64 biases\n",
        "#Output(1*120)\n"
      ],
      "metadata": {
        "colab": {
          "base_uri": "https://localhost:8080/"
        },
        "outputId": "9ef3e128-650f-4c8d-ced1-224f11cb3bc8",
        "id": "qr3_p9rXnoSS"
      },
      "execution_count": null,
      "outputs": [
        {
          "output_type": "stream",
          "name": "stdout",
          "text": [
            "896\n",
            "No parameter\n",
            "6208\n",
            "22200\n",
            "121\n"
          ]
        }
      ]
    },
    {
      "cell_type": "code",
      "source": [
        "\n",
        "es = EarlyStopping(monitor='val_loss', mode='min', \n",
        "                   patience=10, \n",
        "                   verbose=1,\n",
        "                   restore_best_weights=True)\n",
        "\n",
        "# fit model (uses early stopping)\n",
        "model.fit(X_train, y_train, \n",
        "          epochs=500, \n",
        "          batch_size=5, \n",
        "          validation_split=0.2, # val is a random 20% of the data since we set shuffle = True\n",
        "          verbose=1,\n",
        "          callbacks=[es],\n",
        "          shuffle=True)"
      ],
      "metadata": {
        "colab": {
          "base_uri": "https://localhost:8080/"
        },
        "outputId": "595f8af2-69b2-482e-de35-a702bad8e102",
        "id": "6Ztum_QJnoSS"
      },
      "execution_count": null,
      "outputs": [
        {
          "output_type": "stream",
          "name": "stdout",
          "text": [
            "Epoch 1/500\n",
            "12800/12800 [==============================] - 116s 9ms/step - loss: 478780.7188 - mae: 541.8389 - val_loss: 218854.6719 - val_mae: 377.0375\n",
            "Epoch 2/500\n",
            "12800/12800 [==============================] - 106s 8ms/step - loss: 308068.9688 - mae: 441.5953 - val_loss: 230493.0312 - val_mae: 394.4172\n",
            "Epoch 3/500\n",
            "12800/12800 [==============================] - 109s 9ms/step - loss: 286416.1875 - mae: 422.9670 - val_loss: 212205.9531 - val_mae: 369.0374\n",
            "Epoch 4/500\n",
            "12800/12800 [==============================] - 111s 9ms/step - loss: 276225.0625 - mae: 413.8535 - val_loss: 116735.2734 - val_mae: 265.7413\n",
            "Epoch 5/500\n",
            "12800/12800 [==============================] - 106s 8ms/step - loss: 282319.1250 - mae: 415.1273 - val_loss: 187640.4688 - val_mae: 340.2108\n",
            "Epoch 6/500\n",
            "12800/12800 [==============================] - 110s 9ms/step - loss: 268421.8438 - mae: 408.8618 - val_loss: 296622.4688 - val_mae: 455.0313\n",
            "Epoch 7/500\n",
            "12800/12800 [==============================] - 105s 8ms/step - loss: 265389.5625 - mae: 406.5750 - val_loss: 169993.1406 - val_mae: 328.3950\n",
            "Epoch 8/500\n",
            "12800/12800 [==============================] - 106s 8ms/step - loss: 266726.5312 - mae: 407.1634 - val_loss: 174313.0781 - val_mae: 320.4753\n",
            "Epoch 9/500\n",
            "12800/12800 [==============================] - 104s 8ms/step - loss: 262839.1562 - mae: 405.6102 - val_loss: 151130.0469 - val_mae: 309.5868\n",
            "Epoch 10/500\n",
            "12800/12800 [==============================] - 110s 9ms/step - loss: 261791.0625 - mae: 404.2560 - val_loss: 138463.4531 - val_mae: 286.7500\n",
            "Epoch 11/500\n",
            "12800/12800 [==============================] - 104s 8ms/step - loss: 258156.1562 - mae: 401.0963 - val_loss: 171966.5000 - val_mae: 323.2297\n",
            "Epoch 12/500\n",
            "12800/12800 [==============================] - 105s 8ms/step - loss: 257655.3125 - mae: 400.7250 - val_loss: 224259.1406 - val_mae: 375.1339\n",
            "Epoch 13/500\n",
            "12800/12800 [==============================] - 108s 8ms/step - loss: 258307.3281 - mae: 402.1979 - val_loss: 232536.9062 - val_mae: 392.2935\n",
            "Epoch 14/500\n",
            "12800/12800 [==============================] - 102s 8ms/step - loss: 254063.2344 - mae: 397.9663 - val_loss: 112223.8906 - val_mae: 266.1741\n",
            "Epoch 15/500\n",
            "12800/12800 [==============================] - 107s 8ms/step - loss: 247536.2656 - mae: 393.3483 - val_loss: 201172.4219 - val_mae: 358.4176\n",
            "Epoch 16/500\n",
            "12800/12800 [==============================] - 103s 8ms/step - loss: 236091.1875 - mae: 383.5925 - val_loss: 180238.2188 - val_mae: 328.6290\n",
            "Epoch 17/500\n",
            "12800/12800 [==============================] - 109s 9ms/step - loss: 231661.5156 - mae: 380.2605 - val_loss: 185999.6406 - val_mae: 345.0807\n",
            "Epoch 18/500\n",
            "12800/12800 [==============================] - 104s 8ms/step - loss: 228764.2656 - mae: 377.3521 - val_loss: 133745.1875 - val_mae: 288.8287\n",
            "Epoch 19/500\n",
            "12800/12800 [==============================] - 109s 9ms/step - loss: 224476.2812 - mae: 372.7560 - val_loss: 142066.4219 - val_mae: 299.5907\n",
            "Epoch 20/500\n",
            "12800/12800 [==============================] - 109s 9ms/step - loss: 229662.9531 - mae: 376.2188 - val_loss: 190962.5469 - val_mae: 344.2268\n",
            "Epoch 21/500\n",
            "12800/12800 [==============================] - 106s 8ms/step - loss: 223788.6719 - mae: 372.6877 - val_loss: 137981.4844 - val_mae: 289.9685\n",
            "Epoch 22/500\n",
            "12800/12800 [==============================] - 104s 8ms/step - loss: 224577.5781 - mae: 371.3463 - val_loss: 133505.9531 - val_mae: 292.0125\n",
            "Epoch 23/500\n",
            "12800/12800 [==============================] - 107s 8ms/step - loss: 292070.7188 - mae: 423.3163 - val_loss: 182998.3594 - val_mae: 352.0290\n",
            "Epoch 24/500\n",
            "12800/12800 [==============================] - ETA: 0s - loss: 259827.8594 - mae: 404.7393Restoring model weights from the end of the best epoch: 14.\n",
            "12800/12800 [==============================] - 104s 8ms/step - loss: 259827.8594 - mae: 404.7393 - val_loss: 149456.9531 - val_mae: 303.1648\n",
            "Epoch 24: early stopping\n"
          ]
        },
        {
          "output_type": "execute_result",
          "data": {
            "text/plain": [
              "<keras.callbacks.History at 0x7f49e7ecc510>"
            ]
          },
          "metadata": {},
          "execution_count": 36
        }
      ]
    },
    {
      "cell_type": "markdown",
      "source": [
        "### Model Evaluation"
      ],
      "metadata": {
        "id": "c5am90LfnoST"
      }
    },
    {
      "cell_type": "code",
      "source": [
        "# show scatterplots of actual vs. predicted for train and test\n",
        "# make a prediction\n",
        "pred = model.predict(X_test)# the pred\n",
        "\n",
        "# calculate MSE for the baseline model\n",
        "from sklearn.metrics import mean_absolute_error\n",
        "print('MAE: ', mean_absolute_error(y_test, pred))\n",
        "\n",
        "figure(figsize=(8, 8), dpi=80)\n",
        "actual = y_test # the actual\n",
        "plt.scatter(x=actual, y=pred)\n",
        "x = np.linspace(0,7300) # 45 degree line from 0 to 25 (axes are the same)\n",
        "plt.plot(x, x, color='red')\n",
        "plt.suptitle('Test Results')\n",
        "plt.xlabel('Actual')\n",
        "plt.ylabel('Predicted')\n",
        "plt.show()\n",
        "# looks pretty good!\n",
        "\n",
        "# show timeseries plot on the train and validation data\n",
        "figure(figsize=(18, 6), dpi=80)\n",
        "plt.plot(np.arange(X_test.shape[0]), y_test, color='blue') # actual data\n",
        "plt.plot(np.arange(X_test.shape[0]), pred, color='red') # predicted data\n",
        "plt.suptitle('Test Results')\n",
        "plt.xlabel('Time')\n",
        "plt.ylabel('Energy Demand')\n",
        "plt.show()"
      ],
      "metadata": {
        "id": "WFYf8xhonoST",
        "colab": {
          "base_uri": "https://localhost:8080/",
          "height": 1000
        },
        "outputId": "aa0857ea-603f-43ea-fecf-e05eae43fa7d"
      },
      "execution_count": null,
      "outputs": [
        {
          "output_type": "stream",
          "name": "stdout",
          "text": [
            "513/513 [==============================] - 2s 5ms/step\n",
            "MAE:  304.3174837876575\n"
          ]
        },
        {
          "output_type": "display_data",
          "data": {
            "text/plain": [
              "<Figure size 640x640 with 1 Axes>"
            ],
            "image/png": "[encoded data removed]"
          },
          "metadata": {
            "needs_background": "light"
          }
        },
        {
          "output_type": "display_data",
          "data": {
            "text/plain": [
              "<Figure size 1440x480 with 1 Axes>"
            ],
            "image/png": "[encoded data removed]"
          },
          "metadata": {
            "needs_background": "light"
          }
        }
      ]
    },
    {
      "cell_type": "markdown",
      "metadata": {
        "id": "FQLdNm3CuGOh"
      },
      "source": [
        "## Baseline Model\n",
        "Create a baseline model using 24 hour lag data "
      ]
    },
    {
      "cell_type": "code",
      "metadata": {
        "id": "5scuyEzlaesd",
        "colab": {
          "base_uri": "https://localhost:8080/",
          "height": 206
        },
        "outputId": "cd2dc2fe-e9bc-4601-8448-721e7375161d"
      },
      "source": [
        "# baseline model - prediction is just the previous time step (a tough one to beat!)\n",
        "df['Baseline'] = df['Demand'].shift(24)\n",
        "df.head()"
      ],
      "execution_count": null,
      "outputs": [
        {
          "output_type": "execute_result",
          "data": {
            "text/plain": [
              "      BDL_tmpf  BDL_dwpf  BDL_relh  BDL_drct  BDL_sknt  BDL_p01i  BDL_alti  \\\n",
              "8760     33.98     26.96       0.0       0.0       0.0       0.0     30.07   \n",
              "8761     33.98     26.96       0.0       0.0       0.0       0.0     30.07   \n",
              "8762     30.92     26.96       0.0       0.0       0.0       0.0     30.07   \n",
              "8763     30.02     26.06       0.0       0.0       0.0       0.0     30.09   \n",
              "8764     28.94     24.98       0.0       0.0       0.0       0.0     30.09   \n",
              "\n",
              "      BDL_mslp  BDL_vsby  Demand  Baseline  \n",
              "8760    1018.5       6.0  3053.0       NaN  \n",
              "8761    1018.5       6.0  2892.0       NaN  \n",
              "8762    1018.6       6.0  2774.0       NaN  \n",
              "8763    1019.2       5.0  2710.0       NaN  \n",
              "8764    1019.1       5.0  2698.0       NaN  "
            ],
            "text/html": [
              "\n",
              "  <div id=\"df-5f72ddd2-6ebb-4f95-999c-e30b45716b29\">\n",
              "    <div class=\"colab-df-container\">\n",
              "      <div>\n",
              "<style scoped>\n",
              "    .dataframe tbody tr th:only-of-type {\n",
              "        vertical-align: middle;\n",
              "    }\n",
              "\n",
              "    .dataframe tbody tr th {\n",
              "        vertical-align: top;\n",
              "    }\n",
              "\n",
              "    .dataframe thead th {\n",
              "        text-align: right;\n",
              "    }\n",
              "</style>\n",
              "<table border=\"1\" class=\"dataframe\">\n",
              "  <thead>\n",
              "    <tr style=\"text-align: right;\">\n",
              "      <th></th>\n",
              "      <th>BDL_tmpf</th>\n",
              "      <th>BDL_dwpf</th>\n",
              "      <th>BDL_relh</th>\n",
              "      <th>BDL_drct</th>\n",
              "      <th>BDL_sknt</th>\n",
              "      <th>BDL_p01i</th>\n",
              "      <th>BDL_alti</th>\n",
              "      <th>BDL_mslp</th>\n",
              "      <th>BDL_vsby</th>\n",
              "      <th>Demand</th>\n",
              "      <th>Baseline</th>\n",
              "    </tr>\n",
              "  </thead>\n",
              "  <tbody>\n",
              "    <tr>\n",
              "      <th>8760</th>\n",
              "      <td>33.98</td>\n",
              "      <td>26.96</td>\n",
              "      <td>0.0</td>\n",
              "      <td>0.0</td>\n",
              "      <td>0.0</td>\n",
              "      <td>0.0</td>\n",
              "      <td>30.07</td>\n",
              "      <td>1018.5</td>\n",
              "      <td>6.0</td>\n",
              "      <td>3053.0</td>\n",
              "      <td>NaN</td>\n",
              "    </tr>\n",
              "    <tr>\n",
              "      <th>8761</th>\n",
              "      <td>33.98</td>\n",
              "      <td>26.96</td>\n",
              "      <td>0.0</td>\n",
              "      <td>0.0</td>\n",
              "      <td>0.0</td>\n",
              "      <td>0.0</td>\n",
              "      <td>30.07</td>\n",
              "      <td>1018.5</td>\n",
              "      <td>6.0</td>\n",
              "      <td>2892.0</td>\n",
              "      <td>NaN</td>\n",
              "    </tr>\n",
              "    <tr>\n",
              "      <th>8762</th>\n",
              "      <td>30.92</td>\n",
              "      <td>26.96</td>\n",
              "      <td>0.0</td>\n",
              "      <td>0.0</td>\n",
              "      <td>0.0</td>\n",
              "      <td>0.0</td>\n",
              "      <td>30.07</td>\n",
              "      <td>1018.6</td>\n",
              "      <td>6.0</td>\n",
              "      <td>2774.0</td>\n",
              "      <td>NaN</td>\n",
              "    </tr>\n",
              "    <tr>\n",
              "      <th>8763</th>\n",
              "      <td>30.02</td>\n",
              "      <td>26.06</td>\n",
              "      <td>0.0</td>\n",
              "      <td>0.0</td>\n",
              "      <td>0.0</td>\n",
              "      <td>0.0</td>\n",
              "      <td>30.09</td>\n",
              "      <td>1019.2</td>\n",
              "      <td>5.0</td>\n",
              "      <td>2710.0</td>\n",
              "      <td>NaN</td>\n",
              "    </tr>\n",
              "    <tr>\n",
              "      <th>8764</th>\n",
              "      <td>28.94</td>\n",
              "      <td>24.98</td>\n",
              "      <td>0.0</td>\n",
              "      <td>0.0</td>\n",
              "      <td>0.0</td>\n",
              "      <td>0.0</td>\n",
              "      <td>30.09</td>\n",
              "      <td>1019.1</td>\n",
              "      <td>5.0</td>\n",
              "      <td>2698.0</td>\n",
              "      <td>NaN</td>\n",
              "    </tr>\n",
              "  </tbody>\n",
              "</table>\n",
              "</div>\n",
              "      <button class=\"colab-df-convert\" onclick=\"convertToInteractive('df-5f72ddd2-6ebb-4f95-999c-e30b45716b29')\"\n",
              "              title=\"Convert this dataframe to an interactive table.\"\n",
              "              style=\"display:none;\">\n",
              "        \n",
              "  <svg xmlns=\"http://www.w3.org/2000/svg\" height=\"24px\"viewBox=\"0 0 24 24\"\n",
              "       width=\"24px\">\n",
              "    <path d=\"M0 0h24v24H0V0z\" fill=\"none\"/>\n",
              "    <path d=\"M18.56 5.44l.94 2.06.94-2.06 2.06-.94-2.06-.94-.94-2.06-.94 2.06-2.06.94zm-11 1L8.5 8.5l.94-2.06 2.06-.94-2.06-.94L8.5 2.5l-.94 2.06-2.06.94zm10 10l.94 2.06.94-2.06 2.06-.94-2.06-.94-.94-2.06-.94 2.06-2.06.94z\"/><path d=\"M17.41 7.96l-1.37-1.37c-.4-.4-.92-.59-1.43-.59-.52 0-1.04.2-1.43.59L10.3 9.45l-7.72 7.72c-.78.78-.78 2.05 0 2.83L4 21.41c.39.39.9.59 1.41.59.51 0 1.02-.2 1.41-.59l7.78-7.78 2.81-2.81c.8-.78.8-2.07 0-2.86zM5.41 20L4 18.59l7.72-7.72 1.47 1.35L5.41 20z\"/>\n",
              "  </svg>\n",
              "      </button>\n",
              "      \n",
              "  <style>\n",
              "    .colab-df-container {\n",
              "      display:flex;\n",
              "      flex-wrap:wrap;\n",
              "      gap: 12px;\n",
              "    }\n",
              "\n",
              "    .colab-df-convert {\n",
              "      background-color: #E8F0FE;\n",
              "      border: none;\n",
              "      border-radius: 50%;\n",
              "      cursor: pointer;\n",
              "      display: none;\n",
              "      fill: #1967D2;\n",
              "      height: 32px;\n",
              "      padding: 0 0 0 0;\n",
              "      width: 32px;\n",
              "    }\n",
              "\n",
              "    .colab-df-convert:hover {\n",
              "      background-color: #E2EBFA;\n",
              "      box-shadow: 0px 1px 2px rgba(60, 64, 67, 0.3), 0px 1px 3px 1px rgba(60, 64, 67, 0.15);\n",
              "      fill: #174EA6;\n",
              "    }\n",
              "\n",
              "    [theme=dark] .colab-df-convert {\n",
              "      background-color: #3B4455;\n",
              "      fill: #D2E3FC;\n",
              "    }\n",
              "\n",
              "    [theme=dark] .colab-df-convert:hover {\n",
              "      background-color: #434B5C;\n",
              "      box-shadow: 0px 1px 3px 1px rgba(0, 0, 0, 0.15);\n",
              "      filter: drop-shadow(0px 1px 2px rgba(0, 0, 0, 0.3));\n",
              "      fill: #FFFFFF;\n",
              "    }\n",
              "  </style>\n",
              "\n",
              "      <script>\n",
              "        const buttonEl =\n",
              "          document.querySelector('#df-5f72ddd2-6ebb-4f95-999c-e30b45716b29 button.colab-df-convert');\n",
              "        buttonEl.style.display =\n",
              "          google.colab.kernel.accessAllowed ? 'block' : 'none';\n",
              "\n",
              "        async function convertToInteractive(key) {\n",
              "          const element = document.querySelector('#df-5f72ddd2-6ebb-4f95-999c-e30b45716b29');\n",
              "          const dataTable =\n",
              "            await google.colab.kernel.invokeFunction('convertToInteractive',\n",
              "                                                     [key], {});\n",
              "          if (!dataTable) return;\n",
              "\n",
              "          const docLinkHtml = 'Like what you see? Visit the ' +\n",
              "            '<a target=\"_blank\" href=https://colab.research.google.com/notebooks/data_table.ipynb>data table notebook</a>'\n",
              "            + ' to learn more about interactive tables.';\n",
              "          element.innerHTML = '';\n",
              "          dataTable['output_type'] = 'display_data';\n",
              "          await google.colab.output.renderOutput(dataTable, element);\n",
              "          const docLink = document.createElement('div');\n",
              "          docLink.innerHTML = docLinkHtml;\n",
              "          element.appendChild(docLink);\n",
              "        }\n",
              "      </script>\n",
              "    </div>\n",
              "  </div>\n",
              "  "
            ]
          },
          "metadata": {},
          "execution_count": 44
        }
      ]
    },
    {
      "cell_type": "code",
      "source": [
        "df.tail()"
      ],
      "metadata": {
        "colab": {
          "base_uri": "https://localhost:8080/",
          "height": 206
        },
        "id": "Ag-fFXGTuCiJ",
        "outputId": "f77521a1-11fd-455d-9a4c-6ab0b7d50d13"
      },
      "execution_count": null,
      "outputs": [
        {
          "output_type": "execute_result",
          "data": {
            "text/plain": [
              "       BDL_tmpf  BDL_dwpf  BDL_relh  BDL_drct  BDL_sknt  BDL_p01i  BDL_alti  \\\n",
              "78855      48.0      45.0     89.29     190.0       7.0       0.0     29.95   \n",
              "78856      48.0      46.0     92.74     190.0       5.0       0.0     29.95   \n",
              "78857      48.0      46.0     92.74     170.0       7.0       0.0     29.94   \n",
              "78858      46.9      46.4    100.00     180.0       7.0       0.0     29.94   \n",
              "78859      48.0      46.0     92.74     160.0       5.0       0.0     29.94   \n",
              "\n",
              "       BDL_mslp  BDL_vsby   Demand  Baseline  \n",
              "78855    1014.2       6.0  3310.60   3508.60  \n",
              "78856    1013.8       5.0  3148.00   3369.02  \n",
              "78857    1013.5       5.0  2988.93   3176.76  \n",
              "78858    1013.8       5.0  2793.70   2936.60  \n",
              "78859    1013.3       4.0  2629.35   2692.52  "
            ],
            "text/html": [
              "\n",
              "  <div id=\"df-c50f6677-6b73-433a-aa56-8ab9949627f2\">\n",
              "    <div class=\"colab-df-container\">\n",
              "      <div>\n",
              "<style scoped>\n",
              "    .dataframe tbody tr th:only-of-type {\n",
              "        vertical-align: middle;\n",
              "    }\n",
              "\n",
              "    .dataframe tbody tr th {\n",
              "        vertical-align: top;\n",
              "    }\n",
              "\n",
              "    .dataframe thead th {\n",
              "        text-align: right;\n",
              "    }\n",
              "</style>\n",
              "<table border=\"1\" class=\"dataframe\">\n",
              "  <thead>\n",
              "    <tr style=\"text-align: right;\">\n",
              "      <th></th>\n",
              "      <th>BDL_tmpf</th>\n",
              "      <th>BDL_dwpf</th>\n",
              "      <th>BDL_relh</th>\n",
              "      <th>BDL_drct</th>\n",
              "      <th>BDL_sknt</th>\n",
              "      <th>BDL_p01i</th>\n",
              "      <th>BDL_alti</th>\n",
              "      <th>BDL_mslp</th>\n",
              "      <th>BDL_vsby</th>\n",
              "      <th>Demand</th>\n",
              "      <th>Baseline</th>\n",
              "    </tr>\n",
              "  </thead>\n",
              "  <tbody>\n",
              "    <tr>\n",
              "      <th>78855</th>\n",
              "      <td>48.0</td>\n",
              "      <td>45.0</td>\n",
              "      <td>89.29</td>\n",
              "      <td>190.0</td>\n",
              "      <td>7.0</td>\n",
              "      <td>0.0</td>\n",
              "      <td>29.95</td>\n",
              "      <td>1014.2</td>\n",
              "      <td>6.0</td>\n",
              "      <td>3310.60</td>\n",
              "      <td>3508.60</td>\n",
              "    </tr>\n",
              "    <tr>\n",
              "      <th>78856</th>\n",
              "      <td>48.0</td>\n",
              "      <td>46.0</td>\n",
              "      <td>92.74</td>\n",
              "      <td>190.0</td>\n",
              "      <td>5.0</td>\n",
              "      <td>0.0</td>\n",
              "      <td>29.95</td>\n",
              "      <td>1013.8</td>\n",
              "      <td>5.0</td>\n",
              "      <td>3148.00</td>\n",
              "      <td>3369.02</td>\n",
              "    </tr>\n",
              "    <tr>\n",
              "      <th>78857</th>\n",
              "      <td>48.0</td>\n",
              "      <td>46.0</td>\n",
              "      <td>92.74</td>\n",
              "      <td>170.0</td>\n",
              "      <td>7.0</td>\n",
              "      <td>0.0</td>\n",
              "      <td>29.94</td>\n",
              "      <td>1013.5</td>\n",
              "      <td>5.0</td>\n",
              "      <td>2988.93</td>\n",
              "      <td>3176.76</td>\n",
              "    </tr>\n",
              "    <tr>\n",
              "      <th>78858</th>\n",
              "      <td>46.9</td>\n",
              "      <td>46.4</td>\n",
              "      <td>100.00</td>\n",
              "      <td>180.0</td>\n",
              "      <td>7.0</td>\n",
              "      <td>0.0</td>\n",
              "      <td>29.94</td>\n",
              "      <td>1013.8</td>\n",
              "      <td>5.0</td>\n",
              "      <td>2793.70</td>\n",
              "      <td>2936.60</td>\n",
              "    </tr>\n",
              "    <tr>\n",
              "      <th>78859</th>\n",
              "      <td>48.0</td>\n",
              "      <td>46.0</td>\n",
              "      <td>92.74</td>\n",
              "      <td>160.0</td>\n",
              "      <td>5.0</td>\n",
              "      <td>0.0</td>\n",
              "      <td>29.94</td>\n",
              "      <td>1013.3</td>\n",
              "      <td>4.0</td>\n",
              "      <td>2629.35</td>\n",
              "      <td>2692.52</td>\n",
              "    </tr>\n",
              "  </tbody>\n",
              "</table>\n",
              "</div>\n",
              "      <button class=\"colab-df-convert\" onclick=\"convertToInteractive('df-c50f6677-6b73-433a-aa56-8ab9949627f2')\"\n",
              "              title=\"Convert this dataframe to an interactive table.\"\n",
              "              style=\"display:none;\">\n",
              "        \n",
              "  <svg xmlns=\"http://www.w3.org/2000/svg\" height=\"24px\"viewBox=\"0 0 24 24\"\n",
              "       width=\"24px\">\n",
              "    <path d=\"M0 0h24v24H0V0z\" fill=\"none\"/>\n",
              "    <path d=\"M18.56 5.44l.94 2.06.94-2.06 2.06-.94-2.06-.94-.94-2.06-.94 2.06-2.06.94zm-11 1L8.5 8.5l.94-2.06 2.06-.94-2.06-.94L8.5 2.5l-.94 2.06-2.06.94zm10 10l.94 2.06.94-2.06 2.06-.94-2.06-.94-.94-2.06-.94 2.06-2.06.94z\"/><path d=\"M17.41 7.96l-1.37-1.37c-.4-.4-.92-.59-1.43-.59-.52 0-1.04.2-1.43.59L10.3 9.45l-7.72 7.72c-.78.78-.78 2.05 0 2.83L4 21.41c.39.39.9.59 1.41.59.51 0 1.02-.2 1.41-.59l7.78-7.78 2.81-2.81c.8-.78.8-2.07 0-2.86zM5.41 20L4 18.59l7.72-7.72 1.47 1.35L5.41 20z\"/>\n",
              "  </svg>\n",
              "      </button>\n",
              "      \n",
              "  <style>\n",
              "    .colab-df-container {\n",
              "      display:flex;\n",
              "      flex-wrap:wrap;\n",
              "      gap: 12px;\n",
              "    }\n",
              "\n",
              "    .colab-df-convert {\n",
              "      background-color: #E8F0FE;\n",
              "      border: none;\n",
              "      border-radius: 50%;\n",
              "      cursor: pointer;\n",
              "      display: none;\n",
              "      fill: #1967D2;\n",
              "      height: 32px;\n",
              "      padding: 0 0 0 0;\n",
              "      width: 32px;\n",
              "    }\n",
              "\n",
              "    .colab-df-convert:hover {\n",
              "      background-color: #E2EBFA;\n",
              "      box-shadow: 0px 1px 2px rgba(60, 64, 67, 0.3), 0px 1px 3px 1px rgba(60, 64, 67, 0.15);\n",
              "      fill: #174EA6;\n",
              "    }\n",
              "\n",
              "    [theme=dark] .colab-df-convert {\n",
              "      background-color: #3B4455;\n",
              "      fill: #D2E3FC;\n",
              "    }\n",
              "\n",
              "    [theme=dark] .colab-df-convert:hover {\n",
              "      background-color: #434B5C;\n",
              "      box-shadow: 0px 1px 3px 1px rgba(0, 0, 0, 0.15);\n",
              "      filter: drop-shadow(0px 1px 2px rgba(0, 0, 0, 0.3));\n",
              "      fill: #FFFFFF;\n",
              "    }\n",
              "  </style>\n",
              "\n",
              "      <script>\n",
              "        const buttonEl =\n",
              "          document.querySelector('#df-c50f6677-6b73-433a-aa56-8ab9949627f2 button.colab-df-convert');\n",
              "        buttonEl.style.display =\n",
              "          google.colab.kernel.accessAllowed ? 'block' : 'none';\n",
              "\n",
              "        async function convertToInteractive(key) {\n",
              "          const element = document.querySelector('#df-c50f6677-6b73-433a-aa56-8ab9949627f2');\n",
              "          const dataTable =\n",
              "            await google.colab.kernel.invokeFunction('convertToInteractive',\n",
              "                                                     [key], {});\n",
              "          if (!dataTable) return;\n",
              "\n",
              "          const docLinkHtml = 'Like what you see? Visit the ' +\n",
              "            '<a target=\"_blank\" href=https://colab.research.google.com/notebooks/data_table.ipynb>data table notebook</a>'\n",
              "            + ' to learn more about interactive tables.';\n",
              "          element.innerHTML = '';\n",
              "          dataTable['output_type'] = 'display_data';\n",
              "          await google.colab.output.renderOutput(dataTable, element);\n",
              "          const docLink = document.createElement('div');\n",
              "          docLink.innerHTML = docLinkHtml;\n",
              "          element.appendChild(docLink);\n",
              "        }\n",
              "      </script>\n",
              "    </div>\n",
              "  </div>\n",
              "  "
            ]
          },
          "metadata": {},
          "execution_count": 45
        }
      ]
    },
    {
      "cell_type": "code",
      "metadata": {
        "id": "K6Dxn2Sedemz",
        "colab": {
          "base_uri": "https://localhost:8080/"
        },
        "outputId": "4b5241f0-b6b3-424f-9a14-df86c45ab448"
      },
      "source": [
        "# if you wanted to see how this model does, use df['Baseline'] for the pred\n",
        "# here's how I'd do it\n",
        "y_test_baseline = df['Baseline'].tail(y_test.shape[0])\n",
        "# check your work\n",
        "y_test_baseline.shape"
      ],
      "execution_count": null,
      "outputs": [
        {
          "output_type": "execute_result",
          "data": {
            "text/plain": [
              "(46404,)"
            ]
          },
          "metadata": {},
          "execution_count": 46
        }
      ]
    },
    {
      "cell_type": "code",
      "metadata": {
        "id": "_qkaSQo5fZZW",
        "colab": {
          "base_uri": "https://localhost:8080/"
        },
        "outputId": "bd48f2c3-1516-4b16-84bf-2774a107a56b"
      },
      "source": [
        "# check shapes, looks good!\n",
        "y_test.shape"
      ],
      "execution_count": null,
      "outputs": [
        {
          "output_type": "execute_result",
          "data": {
            "text/plain": [
              "(46404,)"
            ]
          },
          "metadata": {},
          "execution_count": 47
        }
      ]
    },
    {
      "cell_type": "code",
      "metadata": {
        "id": "FgdPx5AXfO27",
        "colab": {
          "base_uri": "https://localhost:8080/",
          "height": 629
        },
        "outputId": "c50c91e1-6f03-451e-c9e8-f142f39adf08"
      },
      "source": [
        "# show scatterplots of actual vs. predicted for train and test\n",
        "# make a prediction\n",
        "pred = y_test_baseline # the pred\n",
        "actual = y_test # the actual\n",
        "\n",
        "# calculate MSE for the baseline model\n",
        "from sklearn.metrics import mean_absolute_error\n",
        "print('MAE: ', mean_absolute_error(y_test, pred))\n",
        "\n",
        "\n",
        "figure(figsize=(8, 8), dpi=80)\n",
        "plt.scatter(x=actual, y=pred)\n",
        "x = np.linspace(0,7500) # 45 degree line from 0 to 25 (axes are the same)\n",
        "plt.plot(x, x, color='red')\n",
        "plt.suptitle('Test Results')\n",
        "plt.xlabel('Actual')\n",
        "plt.ylabel('Predicted')\n",
        "plt.show()\n",
        "# looks pretty good!"
      ],
      "execution_count": null,
      "outputs": [
        {
          "output_type": "stream",
          "name": "stdout",
          "text": [
            "MAE:  239.2162805146108\n"
          ]
        },
        {
          "output_type": "display_data",
          "data": {
            "text/plain": [
              "<Figure size 640x640 with 1 Axes>"
            ],
            "image/png": "[encoded data removed]"
          },
          "metadata": {
            "needs_background": "light"
          }
        }
      ]
    },
    {
      "cell_type": "code",
      "metadata": {
        "id": "fFinN6CNf0qr",
        "colab": {
          "base_uri": "https://localhost:8080/",
          "height": 413
        },
        "outputId": "4fc581db-12bd-4e97-8e33-eb77a7262f4c"
      },
      "source": [
        "# show timeseries plot on the train and validation data\n",
        "figure(figsize=(12, 6), dpi=80)\n",
        "plt.plot(np.arange(X_test.shape[0]), y_test, color='blue') # actual data\n",
        "plt.plot(np.arange(X_test.shape[0]), pred, color='red') # predicted data\n",
        "plt.show()\n"
      ],
      "execution_count": null,
      "outputs": [
        {
          "output_type": "display_data",
          "data": {
            "text/plain": [
              "<Figure size 960x480 with 1 Axes>"
            ],
            "image/png": "[encoded data removed]"
          },
          "metadata": {
            "needs_background": "light"
          }
        }
      ]
    },
    {
      "cell_type": "code",
      "metadata": {
        "id": "SAXUpNSTf5El",
        "colab": {
          "base_uri": "https://localhost:8080/"
        },
        "outputId": "c9577777-2ad1-4b3e-f709-db5846603b56"
      },
      "source": [
        "# calculate MSE for the baseline model\n",
        "from sklearn.metrics import mean_absolute_error\n",
        "mean_absolute_error(y_test, pred)"
      ],
      "execution_count": null,
      "outputs": [
        {
          "output_type": "execute_result",
          "data": {
            "text/plain": [
              "239.2162805146108"
            ]
          },
          "metadata": {},
          "execution_count": 51
        }
      ]
    },
    {
      "cell_type": "markdown",
      "source": [
        "## Findings\n",
        "\n",
        "1.   When compared with Baseline model, RNN-Model 1 is not performing better than baseline model. MAE value is 18% (282-239)/239) better in Baseline model \n",
        "2.   And model 2, it is performing worse than baseline and also model 1 with values of Loss and MAE higher than other models\n",
        "\n"
      ],
      "metadata": {
        "id": "hZBY-Y1LvQac"
      }
    },
    {
      "cell_type": "markdown",
      "source": [
        "## Conclusions"
      ],
      "metadata": {
        "id": "yfZMGKX8q0Fn"
      }
    },
    {
      "cell_type": "markdown",
      "source": [
        "\n",
        "\n",
        "1.   This assignment helped me understand how to interpret kernel filter as a function of Lookback factor. Kernel can be used not only for image processing but has various use cases and in the time series, it is 1D filtering\n",
        "2.   Next time, \n",
        "  *   I will iterate on Lookback values by considering last week same time or last year same time. This will help model to learn entire year of seasonality and might have more robust model as one year of data could cover all edge cases\n",
        "  *   In addition, I will also create additional variable which represents week of the day. As during weekends, energy consumption might be high. So having a weekday variable(0=Sunday and 6= Friday) will probably give us better results\n",
        "\n",
        "3.   Walk Forward validation - Having a hold out sample always helps in finding how the model is performing with a unknown dataset. However, in this example model 1 performed better than model 2. (i.e. model with lower training size learned better than other one). Walk forward validation method didnot work as expected when we compare with Baseline models\n",
        "4.   Learning of the model depends on Lookback value as model tries to learn better if there is a possible pattern over the course of time or during regular intervals(seasonality)\n",
        "5.   Through this exercise, I found that RNN model tries to learn from all the rows with introduction of non-linearity and dropout. So, it might not be possible for the model to predict much highs/lows and most of the time, model values would be oscillating around the moving average\n",
        "\n",
        "\n",
        "\n"
      ],
      "metadata": {
        "id": "T9TVdtxxq2RK"
      }
    },
    {
      "cell_type": "markdown",
      "source": [
        "### References\n",
        "\n",
        "https://stackabuse.com/solving-sequence-problems-with-lstm-in-keras/\n",
        "\n",
        "https://towardsdatascience.com/animated-rnn-lstm-and-gru-ef124d06cf45\n",
        "\n",
        "https://deepsense.ai/keras-or-pytorch/#:~:text=Keras%20and%20PyTorch%20are%20open,or%20MXNet%20\n",
        "\n",
        "https://pandas.pydata.org/pandas-docs/stable/reference/api/pandas.Series.resample.html\n",
        "\n",
        "https://benalexkeen.com/resampling-time-series-data-with-pandas/\n",
        "\n",
        "https://tsfresh.readthedocs.io/en/latest/text/quick_start.html\n",
        "\n",
        "https://tsfresh.readthedocs.io/en/latest/text/list_of_features.html\n",
        "\n"
      ],
      "metadata": {
        "id": "binMYvVQ38Yr"
      }
    }
  ]
}