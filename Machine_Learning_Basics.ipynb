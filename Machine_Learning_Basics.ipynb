{
  "nbformat": 4,
  "nbformat_minor": 0,
  "metadata": {
    "colab": {
      "provenance": [],
      "include_colab_link": true
    },
    "kernelspec": {
      "name": "python3",
      "display_name": "Python 3"
    },
    "language_info": {
      "name": "python"
    }
  },
  "cells": [
    {
      "cell_type": "markdown",
      "metadata": {
        "id": "view-in-github",
        "colab_type": "text"
      },
      "source": [
        "<a href=\"https://colab.research.google.com/github/jeevanvishwa02/Data_Science/blob/main/Machine_Learning_Basics.ipynb\" target=\"_parent\"><img src=\"https://colab.research.google.com/assets/colab-badge.svg\" alt=\"Open In Colab\"/></a>"
      ]
    },
    {
      "cell_type": "markdown",
      "source": [
        "# Machine Learning Basics"
      ],
      "metadata": {
        "id": "TOYn0ipdS4TE"
      }
    },
    {
      "cell_type": "markdown",
      "source": [
        "# 1.   Import the data, mount your Drive, print df.shape, and use df.info() to look for any missing values."
      ],
      "metadata": {
        "id": "B4mlre0pH54Y"
      }
    },
    {
      "cell_type": "markdown",
      "source": [
        "![MA image](https://upload.wikimedia.org/wikipedia/commons/7/7e/Towns_income_per_capita_in_MA.jpg)"
      ],
      "metadata": {
        "id": "fmNKomEKKu67"
      }
    },
    {
      "cell_type": "markdown",
      "source": [
        "Figure: Map of locations by per capita income. Areas with higher levels of income are shaded darker.\n",
        "\n",
        "* https://en.wikipedia.org/wiki/List_of_Massachusetts_locations_by_per_capita_income"
      ],
      "metadata": {
        "id": "anztQISULGD6"
      }
    },
    {
      "cell_type": "code",
      "source": [
        "import pandas as pd\n",
        "import numpy as np\n",
        "df = pd.read_html('https://en.wikipedia.org/wiki/List_of_Massachusetts_locations_by_per_capita_income')[2]\n",
        "df.head()"
      ],
      "metadata": {
        "colab": {
          "base_uri": "https://localhost:8080/",
          "height": 206
        },
        "id": "5-LNh68yIje7",
        "outputId": "22a8dc8b-054f-4d6e-e62c-b3b79652e5b8"
      },
      "execution_count": null,
      "outputs": [
        {
          "output_type": "execute_result",
          "data": {
            "text/plain": [
              "   Rank Municipality  Type     County Per capitaincome Medianhouseholdincome  \\\n",
              "0     1       Weston  Town  Middlesex         $105,217              $256,300   \n",
              "1     2        Dover  Town    Norfolk          $89,476              $187,829   \n",
              "2     3     Sherborn  Town  Middlesex          $82,550              $172,750   \n",
              "3     4    Brookline  Town    Norfolk          $77,585              $160,034   \n",
              "4     5       Newton  City  Middlesex          $73,420              $223,444   \n",
              "\n",
              "  Medianfamilyincome  Population  Number ofhouseholds  \n",
              "0          $250,000+       11261                10769  \n",
              "1           $193,750        6279                 5891  \n",
              "2           $177,845        4301                 3541  \n",
              "3           $175,833       59180                38431  \n",
              "4           $164,063       88593                78427  "
            ],
            "text/html": [
              "\n",
              "  <div id=\"df-dff876d5-7f4c-472f-8eae-0115ae5c3561\">\n",
              "    <div class=\"colab-df-container\">\n",
              "      <div>\n",
              "<style scoped>\n",
              "    .dataframe tbody tr th:only-of-type {\n",
              "        vertical-align: middle;\n",
              "    }\n",
              "\n",
              "    .dataframe tbody tr th {\n",
              "        vertical-align: top;\n",
              "    }\n",
              "\n",
              "    .dataframe thead th {\n",
              "        text-align: right;\n",
              "    }\n",
              "</style>\n",
              "<table border=\"1\" class=\"dataframe\">\n",
              "  <thead>\n",
              "    <tr style=\"text-align: right;\">\n",
              "      <th></th>\n",
              "      <th>Rank</th>\n",
              "      <th>Municipality</th>\n",
              "      <th>Type</th>\n",
              "      <th>County</th>\n",
              "      <th>Per capitaincome</th>\n",
              "      <th>Medianhouseholdincome</th>\n",
              "      <th>Medianfamilyincome</th>\n",
              "      <th>Population</th>\n",
              "      <th>Number ofhouseholds</th>\n",
              "    </tr>\n",
              "  </thead>\n",
              "  <tbody>\n",
              "    <tr>\n",
              "      <th>0</th>\n",
              "      <td>1</td>\n",
              "      <td>Weston</td>\n",
              "      <td>Town</td>\n",
              "      <td>Middlesex</td>\n",
              "      <td>$105,217</td>\n",
              "      <td>$256,300</td>\n",
              "      <td>$250,000+</td>\n",
              "      <td>11261</td>\n",
              "      <td>10769</td>\n",
              "    </tr>\n",
              "    <tr>\n",
              "      <th>1</th>\n",
              "      <td>2</td>\n",
              "      <td>Dover</td>\n",
              "      <td>Town</td>\n",
              "      <td>Norfolk</td>\n",
              "      <td>$89,476</td>\n",
              "      <td>$187,829</td>\n",
              "      <td>$193,750</td>\n",
              "      <td>6279</td>\n",
              "      <td>5891</td>\n",
              "    </tr>\n",
              "    <tr>\n",
              "      <th>2</th>\n",
              "      <td>3</td>\n",
              "      <td>Sherborn</td>\n",
              "      <td>Town</td>\n",
              "      <td>Middlesex</td>\n",
              "      <td>$82,550</td>\n",
              "      <td>$172,750</td>\n",
              "      <td>$177,845</td>\n",
              "      <td>4301</td>\n",
              "      <td>3541</td>\n",
              "    </tr>\n",
              "    <tr>\n",
              "      <th>3</th>\n",
              "      <td>4</td>\n",
              "      <td>Brookline</td>\n",
              "      <td>Town</td>\n",
              "      <td>Norfolk</td>\n",
              "      <td>$77,585</td>\n",
              "      <td>$160,034</td>\n",
              "      <td>$175,833</td>\n",
              "      <td>59180</td>\n",
              "      <td>38431</td>\n",
              "    </tr>\n",
              "    <tr>\n",
              "      <th>4</th>\n",
              "      <td>5</td>\n",
              "      <td>Newton</td>\n",
              "      <td>City</td>\n",
              "      <td>Middlesex</td>\n",
              "      <td>$73,420</td>\n",
              "      <td>$223,444</td>\n",
              "      <td>$164,063</td>\n",
              "      <td>88593</td>\n",
              "      <td>78427</td>\n",
              "    </tr>\n",
              "  </tbody>\n",
              "</table>\n",
              "</div>\n",
              "      <button class=\"colab-df-convert\" onclick=\"convertToInteractive('df-dff876d5-7f4c-472f-8eae-0115ae5c3561')\"\n",
              "              title=\"Convert this dataframe to an interactive table.\"\n",
              "              style=\"display:none;\">\n",
              "        \n",
              "  <svg xmlns=\"http://www.w3.org/2000/svg\" height=\"24px\"viewBox=\"0 0 24 24\"\n",
              "       width=\"24px\">\n",
              "    <path d=\"M0 0h24v24H0V0z\" fill=\"none\"/>\n",
              "    <path d=\"M18.56 5.44l.94 2.06.94-2.06 2.06-.94-2.06-.94-.94-2.06-.94 2.06-2.06.94zm-11 1L8.5 8.5l.94-2.06 2.06-.94-2.06-.94L8.5 2.5l-.94 2.06-2.06.94zm10 10l.94 2.06.94-2.06 2.06-.94-2.06-.94-.94-2.06-.94 2.06-2.06.94z\"/><path d=\"M17.41 7.96l-1.37-1.37c-.4-.4-.92-.59-1.43-.59-.52 0-1.04.2-1.43.59L10.3 9.45l-7.72 7.72c-.78.78-.78 2.05 0 2.83L4 21.41c.39.39.9.59 1.41.59.51 0 1.02-.2 1.41-.59l7.78-7.78 2.81-2.81c.8-.78.8-2.07 0-2.86zM5.41 20L4 18.59l7.72-7.72 1.47 1.35L5.41 20z\"/>\n",
              "  </svg>\n",
              "      </button>\n",
              "      \n",
              "  <style>\n",
              "    .colab-df-container {\n",
              "      display:flex;\n",
              "      flex-wrap:wrap;\n",
              "      gap: 12px;\n",
              "    }\n",
              "\n",
              "    .colab-df-convert {\n",
              "      background-color: #E8F0FE;\n",
              "      border: none;\n",
              "      border-radius: 50%;\n",
              "      cursor: pointer;\n",
              "      display: none;\n",
              "      fill: #1967D2;\n",
              "      height: 32px;\n",
              "      padding: 0 0 0 0;\n",
              "      width: 32px;\n",
              "    }\n",
              "\n",
              "    .colab-df-convert:hover {\n",
              "      background-color: #E2EBFA;\n",
              "      box-shadow: 0px 1px 2px rgba(60, 64, 67, 0.3), 0px 1px 3px 1px rgba(60, 64, 67, 0.15);\n",
              "      fill: #174EA6;\n",
              "    }\n",
              "\n",
              "    [theme=dark] .colab-df-convert {\n",
              "      background-color: #3B4455;\n",
              "      fill: #D2E3FC;\n",
              "    }\n",
              "\n",
              "    [theme=dark] .colab-df-convert:hover {\n",
              "      background-color: #434B5C;\n",
              "      box-shadow: 0px 1px 3px 1px rgba(0, 0, 0, 0.15);\n",
              "      filter: drop-shadow(0px 1px 2px rgba(0, 0, 0, 0.3));\n",
              "      fill: #FFFFFF;\n",
              "    }\n",
              "  </style>\n",
              "\n",
              "      <script>\n",
              "        const buttonEl =\n",
              "          document.querySelector('#df-dff876d5-7f4c-472f-8eae-0115ae5c3561 button.colab-df-convert');\n",
              "        buttonEl.style.display =\n",
              "          google.colab.kernel.accessAllowed ? 'block' : 'none';\n",
              "\n",
              "        async function convertToInteractive(key) {\n",
              "          const element = document.querySelector('#df-dff876d5-7f4c-472f-8eae-0115ae5c3561');\n",
              "          const dataTable =\n",
              "            await google.colab.kernel.invokeFunction('convertToInteractive',\n",
              "                                                     [key], {});\n",
              "          if (!dataTable) return;\n",
              "\n",
              "          const docLinkHtml = 'Like what you see? Visit the ' +\n",
              "            '<a target=\"_blank\" href=https://colab.research.google.com/notebooks/data_table.ipynb>data table notebook</a>'\n",
              "            + ' to learn more about interactive tables.';\n",
              "          element.innerHTML = '';\n",
              "          dataTable['output_type'] = 'display_data';\n",
              "          await google.colab.output.renderOutput(dataTable, element);\n",
              "          const docLink = document.createElement('div');\n",
              "          docLink.innerHTML = docLinkHtml;\n",
              "          element.appendChild(docLink);\n",
              "        }\n",
              "      </script>\n",
              "    </div>\n",
              "  </div>\n",
              "  "
            ]
          },
          "metadata": {},
          "execution_count": 1
        }
      ]
    },
    {
      "cell_type": "code",
      "source": [
        "# from google.colab import drive\n",
        "# drive.mount('/content/drive')"
      ],
      "metadata": {
        "id": "lGStKHQAd_40"
      },
      "execution_count": null,
      "outputs": []
    },
    {
      "cell_type": "code",
      "source": [
        "type=np.unique(df['Type'],return_counts=True)\n",
        "type"
      ],
      "metadata": {
        "colab": {
          "base_uri": "https://localhost:8080/"
        },
        "id": "s8QwmIEQ533g",
        "outputId": "4bab62ee-4e64-4b29-b87d-d74ccf2a5294"
      },
      "execution_count": null,
      "outputs": [
        {
          "output_type": "execute_result",
          "data": {
            "text/plain": [
              "(array(['City', 'Essex', 'Town'], dtype=object), array([ 47,   1, 249]))"
            ]
          },
          "metadata": {},
          "execution_count": 3
        }
      ]
    },
    {
      "cell_type": "code",
      "source": [
        "df.shape\n",
        "print(\"There are \",df.shape[0],\" rows and \",df.shape[1],\" columns in the data\")"
      ],
      "metadata": {
        "colab": {
          "base_uri": "https://localhost:8080/"
        },
        "id": "RHSVT7GSeHSK",
        "outputId": "816c3ec3-b4d5-43ab-fee5-fe00966c16bb"
      },
      "execution_count": null,
      "outputs": [
        {
          "output_type": "stream",
          "name": "stdout",
          "text": [
            "There are  297  rows and  9  columns in the data\n"
          ]
        }
      ]
    },
    {
      "cell_type": "code",
      "source": [
        "df.info()"
      ],
      "metadata": {
        "colab": {
          "base_uri": "https://localhost:8080/"
        },
        "id": "nj-9dXiJeKhx",
        "outputId": "49afc47f-ddff-4972-b646-9c5b8719a523"
      },
      "execution_count": null,
      "outputs": [
        {
          "output_type": "stream",
          "name": "stdout",
          "text": [
            "<class 'pandas.core.frame.DataFrame'>\n",
            "RangeIndex: 297 entries, 0 to 296\n",
            "Data columns (total 9 columns):\n",
            " #   Column                 Non-Null Count  Dtype \n",
            "---  ------                 --------------  ----- \n",
            " 0   Rank                   297 non-null    int64 \n",
            " 1   Municipality           297 non-null    object\n",
            " 2   Type                   297 non-null    object\n",
            " 3   County                 297 non-null    object\n",
            " 4   Per capitaincome       297 non-null    object\n",
            " 5   Medianhouseholdincome  297 non-null    object\n",
            " 6   Medianfamilyincome     297 non-null    object\n",
            " 7   Population             297 non-null    int64 \n",
            " 8   Number ofhouseholds    297 non-null    int64 \n",
            "dtypes: int64(3), object(6)\n",
            "memory usage: 21.0+ KB\n"
          ]
        }
      ]
    },
    {
      "cell_type": "code",
      "source": [
        "df.describe().columns"
      ],
      "metadata": {
        "colab": {
          "base_uri": "https://localhost:8080/"
        },
        "id": "SDO4jeYRv50w",
        "outputId": "1c8eab30-3381-4749-b75e-d86031529fad"
      },
      "execution_count": null,
      "outputs": [
        {
          "output_type": "execute_result",
          "data": {
            "text/plain": [
              "Index(['Rank', 'Population', 'Number ofhouseholds'], dtype='object')"
            ]
          },
          "metadata": {},
          "execution_count": 6
        }
      ]
    },
    {
      "cell_type": "code",
      "source": [
        "df.isnull().sum().sort_values(ascending=False)"
      ],
      "metadata": {
        "colab": {
          "base_uri": "https://localhost:8080/"
        },
        "id": "Cm-JPGuns38n",
        "outputId": "443b41bd-7d8b-47bc-ef0f-747419f0503c"
      },
      "execution_count": null,
      "outputs": [
        {
          "output_type": "execute_result",
          "data": {
            "text/plain": [
              "Rank                     0\n",
              "Municipality             0\n",
              "Type                     0\n",
              "County                   0\n",
              "Per capitaincome         0\n",
              "Medianhouseholdincome    0\n",
              "Medianfamilyincome       0\n",
              "Population               0\n",
              "Number ofhouseholds      0\n",
              "dtype: int64"
            ]
          },
          "metadata": {},
          "execution_count": 7
        }
      ]
    },
    {
      "cell_type": "code",
      "source": [
        "print(\"There are\",df.duplicated().sum(),\"duplicated values in the data\")"
      ],
      "metadata": {
        "colab": {
          "base_uri": "https://localhost:8080/"
        },
        "id": "Zgy0DWS0s9u1",
        "outputId": "ea30ab32-d759-4da8-cb1b-185a3ad567e8"
      },
      "execution_count": null,
      "outputs": [
        {
          "output_type": "stream",
          "name": "stdout",
          "text": [
            "There are 0 duplicated values in the data\n"
          ]
        }
      ]
    },
    {
      "cell_type": "markdown",
      "source": [
        "All the columns have 297 as Non Null Values. It means there are no missing values in any column of the data"
      ],
      "metadata": {
        "id": "mYWcqt0nedBX"
      }
    },
    {
      "cell_type": "markdown",
      "source": [
        "# 2. Clean the data. Remove special characters like $ , and + and coerce appropriate columns to numeric."
      ],
      "metadata": {
        "id": "iX9xuLKjH80Y"
      }
    },
    {
      "cell_type": "code",
      "source": [
        "df.head()"
      ],
      "metadata": {
        "colab": {
          "base_uri": "https://localhost:8080/",
          "height": 206
        },
        "id": "vX-sYlT7vmBl",
        "outputId": "5910b76b-58c0-4399-ffbb-5bf9fb4879d8"
      },
      "execution_count": null,
      "outputs": [
        {
          "output_type": "execute_result",
          "data": {
            "text/plain": [
              "   Rank Municipality  Type     County Per capitaincome Medianhouseholdincome  \\\n",
              "0     1       Weston  Town  Middlesex         $105,217              $256,300   \n",
              "1     2        Dover  Town    Norfolk          $89,476              $187,829   \n",
              "2     3     Sherborn  Town  Middlesex          $82,550              $172,750   \n",
              "3     4    Brookline  Town    Norfolk          $77,585              $160,034   \n",
              "4     5       Newton  City  Middlesex          $73,420              $223,444   \n",
              "\n",
              "  Medianfamilyincome  Population  Number ofhouseholds  \n",
              "0          $250,000+       11261                10769  \n",
              "1           $193,750        6279                 5891  \n",
              "2           $177,845        4301                 3541  \n",
              "3           $175,833       59180                38431  \n",
              "4           $164,063       88593                78427  "
            ],
            "text/html": [
              "\n",
              "  <div id=\"df-57b3eb22-6965-415e-988e-d5bfeb4037e4\">\n",
              "    <div class=\"colab-df-container\">\n",
              "      <div>\n",
              "<style scoped>\n",
              "    .dataframe tbody tr th:only-of-type {\n",
              "        vertical-align: middle;\n",
              "    }\n",
              "\n",
              "    .dataframe tbody tr th {\n",
              "        vertical-align: top;\n",
              "    }\n",
              "\n",
              "    .dataframe thead th {\n",
              "        text-align: right;\n",
              "    }\n",
              "</style>\n",
              "<table border=\"1\" class=\"dataframe\">\n",
              "  <thead>\n",
              "    <tr style=\"text-align: right;\">\n",
              "      <th></th>\n",
              "      <th>Rank</th>\n",
              "      <th>Municipality</th>\n",
              "      <th>Type</th>\n",
              "      <th>County</th>\n",
              "      <th>Per capitaincome</th>\n",
              "      <th>Medianhouseholdincome</th>\n",
              "      <th>Medianfamilyincome</th>\n",
              "      <th>Population</th>\n",
              "      <th>Number ofhouseholds</th>\n",
              "    </tr>\n",
              "  </thead>\n",
              "  <tbody>\n",
              "    <tr>\n",
              "      <th>0</th>\n",
              "      <td>1</td>\n",
              "      <td>Weston</td>\n",
              "      <td>Town</td>\n",
              "      <td>Middlesex</td>\n",
              "      <td>$105,217</td>\n",
              "      <td>$256,300</td>\n",
              "      <td>$250,000+</td>\n",
              "      <td>11261</td>\n",
              "      <td>10769</td>\n",
              "    </tr>\n",
              "    <tr>\n",
              "      <th>1</th>\n",
              "      <td>2</td>\n",
              "      <td>Dover</td>\n",
              "      <td>Town</td>\n",
              "      <td>Norfolk</td>\n",
              "      <td>$89,476</td>\n",
              "      <td>$187,829</td>\n",
              "      <td>$193,750</td>\n",
              "      <td>6279</td>\n",
              "      <td>5891</td>\n",
              "    </tr>\n",
              "    <tr>\n",
              "      <th>2</th>\n",
              "      <td>3</td>\n",
              "      <td>Sherborn</td>\n",
              "      <td>Town</td>\n",
              "      <td>Middlesex</td>\n",
              "      <td>$82,550</td>\n",
              "      <td>$172,750</td>\n",
              "      <td>$177,845</td>\n",
              "      <td>4301</td>\n",
              "      <td>3541</td>\n",
              "    </tr>\n",
              "    <tr>\n",
              "      <th>3</th>\n",
              "      <td>4</td>\n",
              "      <td>Brookline</td>\n",
              "      <td>Town</td>\n",
              "      <td>Norfolk</td>\n",
              "      <td>$77,585</td>\n",
              "      <td>$160,034</td>\n",
              "      <td>$175,833</td>\n",
              "      <td>59180</td>\n",
              "      <td>38431</td>\n",
              "    </tr>\n",
              "    <tr>\n",
              "      <th>4</th>\n",
              "      <td>5</td>\n",
              "      <td>Newton</td>\n",
              "      <td>City</td>\n",
              "      <td>Middlesex</td>\n",
              "      <td>$73,420</td>\n",
              "      <td>$223,444</td>\n",
              "      <td>$164,063</td>\n",
              "      <td>88593</td>\n",
              "      <td>78427</td>\n",
              "    </tr>\n",
              "  </tbody>\n",
              "</table>\n",
              "</div>\n",
              "      <button class=\"colab-df-convert\" onclick=\"convertToInteractive('df-57b3eb22-6965-415e-988e-d5bfeb4037e4')\"\n",
              "              title=\"Convert this dataframe to an interactive table.\"\n",
              "              style=\"display:none;\">\n",
              "        \n",
              "  <svg xmlns=\"http://www.w3.org/2000/svg\" height=\"24px\"viewBox=\"0 0 24 24\"\n",
              "       width=\"24px\">\n",
              "    <path d=\"M0 0h24v24H0V0z\" fill=\"none\"/>\n",
              "    <path d=\"M18.56 5.44l.94 2.06.94-2.06 2.06-.94-2.06-.94-.94-2.06-.94 2.06-2.06.94zm-11 1L8.5 8.5l.94-2.06 2.06-.94-2.06-.94L8.5 2.5l-.94 2.06-2.06.94zm10 10l.94 2.06.94-2.06 2.06-.94-2.06-.94-.94-2.06-.94 2.06-2.06.94z\"/><path d=\"M17.41 7.96l-1.37-1.37c-.4-.4-.92-.59-1.43-.59-.52 0-1.04.2-1.43.59L10.3 9.45l-7.72 7.72c-.78.78-.78 2.05 0 2.83L4 21.41c.39.39.9.59 1.41.59.51 0 1.02-.2 1.41-.59l7.78-7.78 2.81-2.81c.8-.78.8-2.07 0-2.86zM5.41 20L4 18.59l7.72-7.72 1.47 1.35L5.41 20z\"/>\n",
              "  </svg>\n",
              "      </button>\n",
              "      \n",
              "  <style>\n",
              "    .colab-df-container {\n",
              "      display:flex;\n",
              "      flex-wrap:wrap;\n",
              "      gap: 12px;\n",
              "    }\n",
              "\n",
              "    .colab-df-convert {\n",
              "      background-color: #E8F0FE;\n",
              "      border: none;\n",
              "      border-radius: 50%;\n",
              "      cursor: pointer;\n",
              "      display: none;\n",
              "      fill: #1967D2;\n",
              "      height: 32px;\n",
              "      padding: 0 0 0 0;\n",
              "      width: 32px;\n",
              "    }\n",
              "\n",
              "    .colab-df-convert:hover {\n",
              "      background-color: #E2EBFA;\n",
              "      box-shadow: 0px 1px 2px rgba(60, 64, 67, 0.3), 0px 1px 3px 1px rgba(60, 64, 67, 0.15);\n",
              "      fill: #174EA6;\n",
              "    }\n",
              "\n",
              "    [theme=dark] .colab-df-convert {\n",
              "      background-color: #3B4455;\n",
              "      fill: #D2E3FC;\n",
              "    }\n",
              "\n",
              "    [theme=dark] .colab-df-convert:hover {\n",
              "      background-color: #434B5C;\n",
              "      box-shadow: 0px 1px 3px 1px rgba(0, 0, 0, 0.15);\n",
              "      filter: drop-shadow(0px 1px 2px rgba(0, 0, 0, 0.3));\n",
              "      fill: #FFFFFF;\n",
              "    }\n",
              "  </style>\n",
              "\n",
              "      <script>\n",
              "        const buttonEl =\n",
              "          document.querySelector('#df-57b3eb22-6965-415e-988e-d5bfeb4037e4 button.colab-df-convert');\n",
              "        buttonEl.style.display =\n",
              "          google.colab.kernel.accessAllowed ? 'block' : 'none';\n",
              "\n",
              "        async function convertToInteractive(key) {\n",
              "          const element = document.querySelector('#df-57b3eb22-6965-415e-988e-d5bfeb4037e4');\n",
              "          const dataTable =\n",
              "            await google.colab.kernel.invokeFunction('convertToInteractive',\n",
              "                                                     [key], {});\n",
              "          if (!dataTable) return;\n",
              "\n",
              "          const docLinkHtml = 'Like what you see? Visit the ' +\n",
              "            '<a target=\"_blank\" href=https://colab.research.google.com/notebooks/data_table.ipynb>data table notebook</a>'\n",
              "            + ' to learn more about interactive tables.';\n",
              "          element.innerHTML = '';\n",
              "          dataTable['output_type'] = 'display_data';\n",
              "          await google.colab.output.renderOutput(dataTable, element);\n",
              "          const docLink = document.createElement('div');\n",
              "          docLink.innerHTML = docLinkHtml;\n",
              "          element.appendChild(docLink);\n",
              "        }\n",
              "      </script>\n",
              "    </div>\n",
              "  </div>\n",
              "  "
            ]
          },
          "metadata": {},
          "execution_count": 9
        }
      ]
    },
    {
      "cell_type": "code",
      "source": [
        "rep_cols=[col for col in df.columns if col not in df.describe().columns]\n",
        "rep_cols"
      ],
      "metadata": {
        "colab": {
          "base_uri": "https://localhost:8080/"
        },
        "id": "oos_uSjQwWGS",
        "outputId": "99904a17-4b9c-4b78-9a4c-004af344539c"
      },
      "execution_count": null,
      "outputs": [
        {
          "output_type": "execute_result",
          "data": {
            "text/plain": [
              "['Municipality',\n",
              " 'Type',\n",
              " 'County',\n",
              " 'Per capitaincome',\n",
              " 'Medianhouseholdincome',\n",
              " 'Medianfamilyincome']"
            ]
          },
          "metadata": {},
          "execution_count": 10
        }
      ]
    },
    {
      "cell_type": "code",
      "source": [
        "df[df.columns[4]].head()"
      ],
      "metadata": {
        "colab": {
          "base_uri": "https://localhost:8080/"
        },
        "id": "qlov_v8Vydav",
        "outputId": "8f955914-9491-4de7-a33c-919c3f6a3705"
      },
      "execution_count": null,
      "outputs": [
        {
          "output_type": "execute_result",
          "data": {
            "text/plain": [
              "0    $105,217\n",
              "1     $89,476\n",
              "2     $82,550\n",
              "3     $77,585\n",
              "4     $73,420\n",
              "Name: Per capitaincome, dtype: object"
            ]
          },
          "metadata": {},
          "execution_count": 11
        }
      ]
    },
    {
      "cell_type": "code",
      "source": [
        "for i in range(8):\n",
        "  print(df[df.columns[i]].nunique())"
      ],
      "metadata": {
        "colab": {
          "base_uri": "https://localhost:8080/"
        },
        "id": "hzZQsXXFybIU",
        "outputId": "2702bebf-1325-438c-8cf4-29d821e7eee5"
      },
      "execution_count": null,
      "outputs": [
        {
          "output_type": "stream",
          "name": "stdout",
          "text": [
            "297\n",
            "297\n",
            "3\n",
            "14\n",
            "290\n",
            "287\n",
            "288\n",
            "294\n"
          ]
        }
      ]
    },
    {
      "cell_type": "code",
      "source": [
        "#rep_cols=df.(col for col in df.describe().columns col not in df.describe().columns)\n",
        "spec_char=['$',',','+','@','#']\n",
        "for i in range(len(df.columns)):\n",
        "  if df.columns[i] in rep_cols:\n",
        "    for j in range(len(spec_char)):\n",
        "      df[df.columns[i]] = df[df.columns[i]].str.replace(spec_char[j],'') #apply(lambda x: x.replace(spec_char[j], \"\"))\n"
      ],
      "metadata": {
        "colab": {
          "base_uri": "https://localhost:8080/"
        },
        "id": "5_fP3MG4sn5O",
        "outputId": "46a94b12-db7c-46ce-aa1f-3ce75c193c2e"
      },
      "execution_count": null,
      "outputs": [
        {
          "output_type": "stream",
          "name": "stderr",
          "text": [
            "/usr/local/lib/python3.7/dist-packages/ipykernel_launcher.py:6: FutureWarning: The default value of regex will change from True to False in a future version. In addition, single character regular expressions will *not* be treated as literal strings when regex=True.\n",
            "  \n"
          ]
        }
      ]
    },
    {
      "cell_type": "code",
      "source": [
        "df.head()"
      ],
      "metadata": {
        "colab": {
          "base_uri": "https://localhost:8080/",
          "height": 206
        },
        "id": "e1FnHauMuxbb",
        "outputId": "fb6d1e83-d0e4-4761-c5e0-f1cd334fc425"
      },
      "execution_count": null,
      "outputs": [
        {
          "output_type": "execute_result",
          "data": {
            "text/plain": [
              "   Rank Municipality  Type     County Per capitaincome Medianhouseholdincome  \\\n",
              "0     1       Weston  Town  Middlesex           105217                256300   \n",
              "1     2        Dover  Town    Norfolk            89476                187829   \n",
              "2     3     Sherborn  Town  Middlesex            82550                172750   \n",
              "3     4    Brookline  Town    Norfolk            77585                160034   \n",
              "4     5       Newton  City  Middlesex            73420                223444   \n",
              "\n",
              "  Medianfamilyincome  Population  Number ofhouseholds  \n",
              "0             250000       11261                10769  \n",
              "1             193750        6279                 5891  \n",
              "2             177845        4301                 3541  \n",
              "3             175833       59180                38431  \n",
              "4             164063       88593                78427  "
            ],
            "text/html": [
              "\n",
              "  <div id=\"df-f859db81-7a34-4da8-868b-e91db6a029ef\">\n",
              "    <div class=\"colab-df-container\">\n",
              "      <div>\n",
              "<style scoped>\n",
              "    .dataframe tbody tr th:only-of-type {\n",
              "        vertical-align: middle;\n",
              "    }\n",
              "\n",
              "    .dataframe tbody tr th {\n",
              "        vertical-align: top;\n",
              "    }\n",
              "\n",
              "    .dataframe thead th {\n",
              "        text-align: right;\n",
              "    }\n",
              "</style>\n",
              "<table border=\"1\" class=\"dataframe\">\n",
              "  <thead>\n",
              "    <tr style=\"text-align: right;\">\n",
              "      <th></th>\n",
              "      <th>Rank</th>\n",
              "      <th>Municipality</th>\n",
              "      <th>Type</th>\n",
              "      <th>County</th>\n",
              "      <th>Per capitaincome</th>\n",
              "      <th>Medianhouseholdincome</th>\n",
              "      <th>Medianfamilyincome</th>\n",
              "      <th>Population</th>\n",
              "      <th>Number ofhouseholds</th>\n",
              "    </tr>\n",
              "  </thead>\n",
              "  <tbody>\n",
              "    <tr>\n",
              "      <th>0</th>\n",
              "      <td>1</td>\n",
              "      <td>Weston</td>\n",
              "      <td>Town</td>\n",
              "      <td>Middlesex</td>\n",
              "      <td>105217</td>\n",
              "      <td>256300</td>\n",
              "      <td>250000</td>\n",
              "      <td>11261</td>\n",
              "      <td>10769</td>\n",
              "    </tr>\n",
              "    <tr>\n",
              "      <th>1</th>\n",
              "      <td>2</td>\n",
              "      <td>Dover</td>\n",
              "      <td>Town</td>\n",
              "      <td>Norfolk</td>\n",
              "      <td>89476</td>\n",
              "      <td>187829</td>\n",
              "      <td>193750</td>\n",
              "      <td>6279</td>\n",
              "      <td>5891</td>\n",
              "    </tr>\n",
              "    <tr>\n",
              "      <th>2</th>\n",
              "      <td>3</td>\n",
              "      <td>Sherborn</td>\n",
              "      <td>Town</td>\n",
              "      <td>Middlesex</td>\n",
              "      <td>82550</td>\n",
              "      <td>172750</td>\n",
              "      <td>177845</td>\n",
              "      <td>4301</td>\n",
              "      <td>3541</td>\n",
              "    </tr>\n",
              "    <tr>\n",
              "      <th>3</th>\n",
              "      <td>4</td>\n",
              "      <td>Brookline</td>\n",
              "      <td>Town</td>\n",
              "      <td>Norfolk</td>\n",
              "      <td>77585</td>\n",
              "      <td>160034</td>\n",
              "      <td>175833</td>\n",
              "      <td>59180</td>\n",
              "      <td>38431</td>\n",
              "    </tr>\n",
              "    <tr>\n",
              "      <th>4</th>\n",
              "      <td>5</td>\n",
              "      <td>Newton</td>\n",
              "      <td>City</td>\n",
              "      <td>Middlesex</td>\n",
              "      <td>73420</td>\n",
              "      <td>223444</td>\n",
              "      <td>164063</td>\n",
              "      <td>88593</td>\n",
              "      <td>78427</td>\n",
              "    </tr>\n",
              "  </tbody>\n",
              "</table>\n",
              "</div>\n",
              "      <button class=\"colab-df-convert\" onclick=\"convertToInteractive('df-f859db81-7a34-4da8-868b-e91db6a029ef')\"\n",
              "              title=\"Convert this dataframe to an interactive table.\"\n",
              "              style=\"display:none;\">\n",
              "        \n",
              "  <svg xmlns=\"http://www.w3.org/2000/svg\" height=\"24px\"viewBox=\"0 0 24 24\"\n",
              "       width=\"24px\">\n",
              "    <path d=\"M0 0h24v24H0V0z\" fill=\"none\"/>\n",
              "    <path d=\"M18.56 5.44l.94 2.06.94-2.06 2.06-.94-2.06-.94-.94-2.06-.94 2.06-2.06.94zm-11 1L8.5 8.5l.94-2.06 2.06-.94-2.06-.94L8.5 2.5l-.94 2.06-2.06.94zm10 10l.94 2.06.94-2.06 2.06-.94-2.06-.94-.94-2.06-.94 2.06-2.06.94z\"/><path d=\"M17.41 7.96l-1.37-1.37c-.4-.4-.92-.59-1.43-.59-.52 0-1.04.2-1.43.59L10.3 9.45l-7.72 7.72c-.78.78-.78 2.05 0 2.83L4 21.41c.39.39.9.59 1.41.59.51 0 1.02-.2 1.41-.59l7.78-7.78 2.81-2.81c.8-.78.8-2.07 0-2.86zM5.41 20L4 18.59l7.72-7.72 1.47 1.35L5.41 20z\"/>\n",
              "  </svg>\n",
              "      </button>\n",
              "      \n",
              "  <style>\n",
              "    .colab-df-container {\n",
              "      display:flex;\n",
              "      flex-wrap:wrap;\n",
              "      gap: 12px;\n",
              "    }\n",
              "\n",
              "    .colab-df-convert {\n",
              "      background-color: #E8F0FE;\n",
              "      border: none;\n",
              "      border-radius: 50%;\n",
              "      cursor: pointer;\n",
              "      display: none;\n",
              "      fill: #1967D2;\n",
              "      height: 32px;\n",
              "      padding: 0 0 0 0;\n",
              "      width: 32px;\n",
              "    }\n",
              "\n",
              "    .colab-df-convert:hover {\n",
              "      background-color: #E2EBFA;\n",
              "      box-shadow: 0px 1px 2px rgba(60, 64, 67, 0.3), 0px 1px 3px 1px rgba(60, 64, 67, 0.15);\n",
              "      fill: #174EA6;\n",
              "    }\n",
              "\n",
              "    [theme=dark] .colab-df-convert {\n",
              "      background-color: #3B4455;\n",
              "      fill: #D2E3FC;\n",
              "    }\n",
              "\n",
              "    [theme=dark] .colab-df-convert:hover {\n",
              "      background-color: #434B5C;\n",
              "      box-shadow: 0px 1px 3px 1px rgba(0, 0, 0, 0.15);\n",
              "      filter: drop-shadow(0px 1px 2px rgba(0, 0, 0, 0.3));\n",
              "      fill: #FFFFFF;\n",
              "    }\n",
              "  </style>\n",
              "\n",
              "      <script>\n",
              "        const buttonEl =\n",
              "          document.querySelector('#df-f859db81-7a34-4da8-868b-e91db6a029ef button.colab-df-convert');\n",
              "        buttonEl.style.display =\n",
              "          google.colab.kernel.accessAllowed ? 'block' : 'none';\n",
              "\n",
              "        async function convertToInteractive(key) {\n",
              "          const element = document.querySelector('#df-f859db81-7a34-4da8-868b-e91db6a029ef');\n",
              "          const dataTable =\n",
              "            await google.colab.kernel.invokeFunction('convertToInteractive',\n",
              "                                                     [key], {});\n",
              "          if (!dataTable) return;\n",
              "\n",
              "          const docLinkHtml = 'Like what you see? Visit the ' +\n",
              "            '<a target=\"_blank\" href=https://colab.research.google.com/notebooks/data_table.ipynb>data table notebook</a>'\n",
              "            + ' to learn more about interactive tables.';\n",
              "          element.innerHTML = '';\n",
              "          dataTable['output_type'] = 'display_data';\n",
              "          await google.colab.output.renderOutput(dataTable, element);\n",
              "          const docLink = document.createElement('div');\n",
              "          docLink.innerHTML = docLinkHtml;\n",
              "          element.appendChild(docLink);\n",
              "        }\n",
              "      </script>\n",
              "    </div>\n",
              "  </div>\n",
              "  "
            ]
          },
          "metadata": {},
          "execution_count": 14
        }
      ]
    },
    {
      "cell_type": "code",
      "source": [
        "df['Per capitaincome'] = pd.to_numeric(df['Per capitaincome'])\n",
        "df['Medianhouseholdincome'] = pd.to_numeric(df['Medianhouseholdincome'])\n",
        "df['Medianfamilyincome'] = pd.to_numeric(df['Medianfamilyincome'])\n",
        "df['Population'] = pd.to_numeric(df['Population'])\n",
        "df['Number ofhouseholds'] = pd.to_numeric(df['Number ofhouseholds'])\n"
      ],
      "metadata": {
        "id": "qFIYQ92i3QuT"
      },
      "execution_count": null,
      "outputs": []
    },
    {
      "cell_type": "code",
      "source": [
        "df.info()"
      ],
      "metadata": {
        "colab": {
          "base_uri": "https://localhost:8080/"
        },
        "id": "eLxZHhaLyqh3",
        "outputId": "75f36134-2ecf-4f5a-83e6-6e913aa62ca0"
      },
      "execution_count": null,
      "outputs": [
        {
          "output_type": "stream",
          "name": "stdout",
          "text": [
            "<class 'pandas.core.frame.DataFrame'>\n",
            "RangeIndex: 297 entries, 0 to 296\n",
            "Data columns (total 9 columns):\n",
            " #   Column                 Non-Null Count  Dtype \n",
            "---  ------                 --------------  ----- \n",
            " 0   Rank                   297 non-null    int64 \n",
            " 1   Municipality           297 non-null    object\n",
            " 2   Type                   297 non-null    object\n",
            " 3   County                 297 non-null    object\n",
            " 4   Per capitaincome       297 non-null    int64 \n",
            " 5   Medianhouseholdincome  297 non-null    int64 \n",
            " 6   Medianfamilyincome     297 non-null    int64 \n",
            " 7   Population             297 non-null    int64 \n",
            " 8   Number ofhouseholds    297 non-null    int64 \n",
            "dtypes: int64(6), object(3)\n",
            "memory usage: 21.0+ KB\n"
          ]
        }
      ]
    },
    {
      "cell_type": "code",
      "source": [
        "df['Type']=np.where(df['Type']=='Essex','Others',df['Type'])"
      ],
      "metadata": {
        "id": "Yb5xOUff_euO"
      },
      "execution_count": null,
      "outputs": []
    },
    {
      "cell_type": "code",
      "source": [
        "df['Type'].unique()"
      ],
      "metadata": {
        "colab": {
          "base_uri": "https://localhost:8080/"
        },
        "id": "k_IOMmv5_sn9",
        "outputId": "cf2f512e-3c9f-487c-d7b5-745fa7347af8"
      },
      "execution_count": null,
      "outputs": [
        {
          "output_type": "execute_result",
          "data": {
            "text/plain": [
              "array(['Town', 'City', 'Others'], dtype=object)"
            ]
          },
          "metadata": {},
          "execution_count": 18
        }
      ]
    },
    {
      "cell_type": "code",
      "source": [
        "catg_columns=['Type']\n",
        "df2 = pd.get_dummies(df, columns=catg_columns, drop_first=True)\n",
        "df2.head()\n"
      ],
      "metadata": {
        "colab": {
          "base_uri": "https://localhost:8080/",
          "height": 206
        },
        "id": "qY1te7kFV_tG",
        "outputId": "8a83cf85-9807-436b-9689-74ffacafba7c"
      },
      "execution_count": null,
      "outputs": [
        {
          "output_type": "execute_result",
          "data": {
            "text/plain": [
              "   Rank Municipality     County  Per capitaincome  Medianhouseholdincome  \\\n",
              "0     1       Weston  Middlesex            105217                 256300   \n",
              "1     2        Dover    Norfolk             89476                 187829   \n",
              "2     3     Sherborn  Middlesex             82550                 172750   \n",
              "3     4    Brookline    Norfolk             77585                 160034   \n",
              "4     5       Newton  Middlesex             73420                 223444   \n",
              "\n",
              "   Medianfamilyincome  Population  Number ofhouseholds  Type_Others  Type_Town  \n",
              "0              250000       11261                10769            0          1  \n",
              "1              193750        6279                 5891            0          1  \n",
              "2              177845        4301                 3541            0          1  \n",
              "3              175833       59180                38431            0          1  \n",
              "4              164063       88593                78427            0          0  "
            ],
            "text/html": [
              "\n",
              "  <div id=\"df-f496fef3-e274-4bdf-8582-61b563df6f42\">\n",
              "    <div class=\"colab-df-container\">\n",
              "      <div>\n",
              "<style scoped>\n",
              "    .dataframe tbody tr th:only-of-type {\n",
              "        vertical-align: middle;\n",
              "    }\n",
              "\n",
              "    .dataframe tbody tr th {\n",
              "        vertical-align: top;\n",
              "    }\n",
              "\n",
              "    .dataframe thead th {\n",
              "        text-align: right;\n",
              "    }\n",
              "</style>\n",
              "<table border=\"1\" class=\"dataframe\">\n",
              "  <thead>\n",
              "    <tr style=\"text-align: right;\">\n",
              "      <th></th>\n",
              "      <th>Rank</th>\n",
              "      <th>Municipality</th>\n",
              "      <th>County</th>\n",
              "      <th>Per capitaincome</th>\n",
              "      <th>Medianhouseholdincome</th>\n",
              "      <th>Medianfamilyincome</th>\n",
              "      <th>Population</th>\n",
              "      <th>Number ofhouseholds</th>\n",
              "      <th>Type_Others</th>\n",
              "      <th>Type_Town</th>\n",
              "    </tr>\n",
              "  </thead>\n",
              "  <tbody>\n",
              "    <tr>\n",
              "      <th>0</th>\n",
              "      <td>1</td>\n",
              "      <td>Weston</td>\n",
              "      <td>Middlesex</td>\n",
              "      <td>105217</td>\n",
              "      <td>256300</td>\n",
              "      <td>250000</td>\n",
              "      <td>11261</td>\n",
              "      <td>10769</td>\n",
              "      <td>0</td>\n",
              "      <td>1</td>\n",
              "    </tr>\n",
              "    <tr>\n",
              "      <th>1</th>\n",
              "      <td>2</td>\n",
              "      <td>Dover</td>\n",
              "      <td>Norfolk</td>\n",
              "      <td>89476</td>\n",
              "      <td>187829</td>\n",
              "      <td>193750</td>\n",
              "      <td>6279</td>\n",
              "      <td>5891</td>\n",
              "      <td>0</td>\n",
              "      <td>1</td>\n",
              "    </tr>\n",
              "    <tr>\n",
              "      <th>2</th>\n",
              "      <td>3</td>\n",
              "      <td>Sherborn</td>\n",
              "      <td>Middlesex</td>\n",
              "      <td>82550</td>\n",
              "      <td>172750</td>\n",
              "      <td>177845</td>\n",
              "      <td>4301</td>\n",
              "      <td>3541</td>\n",
              "      <td>0</td>\n",
              "      <td>1</td>\n",
              "    </tr>\n",
              "    <tr>\n",
              "      <th>3</th>\n",
              "      <td>4</td>\n",
              "      <td>Brookline</td>\n",
              "      <td>Norfolk</td>\n",
              "      <td>77585</td>\n",
              "      <td>160034</td>\n",
              "      <td>175833</td>\n",
              "      <td>59180</td>\n",
              "      <td>38431</td>\n",
              "      <td>0</td>\n",
              "      <td>1</td>\n",
              "    </tr>\n",
              "    <tr>\n",
              "      <th>4</th>\n",
              "      <td>5</td>\n",
              "      <td>Newton</td>\n",
              "      <td>Middlesex</td>\n",
              "      <td>73420</td>\n",
              "      <td>223444</td>\n",
              "      <td>164063</td>\n",
              "      <td>88593</td>\n",
              "      <td>78427</td>\n",
              "      <td>0</td>\n",
              "      <td>0</td>\n",
              "    </tr>\n",
              "  </tbody>\n",
              "</table>\n",
              "</div>\n",
              "      <button class=\"colab-df-convert\" onclick=\"convertToInteractive('df-f496fef3-e274-4bdf-8582-61b563df6f42')\"\n",
              "              title=\"Convert this dataframe to an interactive table.\"\n",
              "              style=\"display:none;\">\n",
              "        \n",
              "  <svg xmlns=\"http://www.w3.org/2000/svg\" height=\"24px\"viewBox=\"0 0 24 24\"\n",
              "       width=\"24px\">\n",
              "    <path d=\"M0 0h24v24H0V0z\" fill=\"none\"/>\n",
              "    <path d=\"M18.56 5.44l.94 2.06.94-2.06 2.06-.94-2.06-.94-.94-2.06-.94 2.06-2.06.94zm-11 1L8.5 8.5l.94-2.06 2.06-.94-2.06-.94L8.5 2.5l-.94 2.06-2.06.94zm10 10l.94 2.06.94-2.06 2.06-.94-2.06-.94-.94-2.06-.94 2.06-2.06.94z\"/><path d=\"M17.41 7.96l-1.37-1.37c-.4-.4-.92-.59-1.43-.59-.52 0-1.04.2-1.43.59L10.3 9.45l-7.72 7.72c-.78.78-.78 2.05 0 2.83L4 21.41c.39.39.9.59 1.41.59.51 0 1.02-.2 1.41-.59l7.78-7.78 2.81-2.81c.8-.78.8-2.07 0-2.86zM5.41 20L4 18.59l7.72-7.72 1.47 1.35L5.41 20z\"/>\n",
              "  </svg>\n",
              "      </button>\n",
              "      \n",
              "  <style>\n",
              "    .colab-df-container {\n",
              "      display:flex;\n",
              "      flex-wrap:wrap;\n",
              "      gap: 12px;\n",
              "    }\n",
              "\n",
              "    .colab-df-convert {\n",
              "      background-color: #E8F0FE;\n",
              "      border: none;\n",
              "      border-radius: 50%;\n",
              "      cursor: pointer;\n",
              "      display: none;\n",
              "      fill: #1967D2;\n",
              "      height: 32px;\n",
              "      padding: 0 0 0 0;\n",
              "      width: 32px;\n",
              "    }\n",
              "\n",
              "    .colab-df-convert:hover {\n",
              "      background-color: #E2EBFA;\n",
              "      box-shadow: 0px 1px 2px rgba(60, 64, 67, 0.3), 0px 1px 3px 1px rgba(60, 64, 67, 0.15);\n",
              "      fill: #174EA6;\n",
              "    }\n",
              "\n",
              "    [theme=dark] .colab-df-convert {\n",
              "      background-color: #3B4455;\n",
              "      fill: #D2E3FC;\n",
              "    }\n",
              "\n",
              "    [theme=dark] .colab-df-convert:hover {\n",
              "      background-color: #434B5C;\n",
              "      box-shadow: 0px 1px 3px 1px rgba(0, 0, 0, 0.15);\n",
              "      filter: drop-shadow(0px 1px 2px rgba(0, 0, 0, 0.3));\n",
              "      fill: #FFFFFF;\n",
              "    }\n",
              "  </style>\n",
              "\n",
              "      <script>\n",
              "        const buttonEl =\n",
              "          document.querySelector('#df-f496fef3-e274-4bdf-8582-61b563df6f42 button.colab-df-convert');\n",
              "        buttonEl.style.display =\n",
              "          google.colab.kernel.accessAllowed ? 'block' : 'none';\n",
              "\n",
              "        async function convertToInteractive(key) {\n",
              "          const element = document.querySelector('#df-f496fef3-e274-4bdf-8582-61b563df6f42');\n",
              "          const dataTable =\n",
              "            await google.colab.kernel.invokeFunction('convertToInteractive',\n",
              "                                                     [key], {});\n",
              "          if (!dataTable) return;\n",
              "\n",
              "          const docLinkHtml = 'Like what you see? Visit the ' +\n",
              "            '<a target=\"_blank\" href=https://colab.research.google.com/notebooks/data_table.ipynb>data table notebook</a>'\n",
              "            + ' to learn more about interactive tables.';\n",
              "          element.innerHTML = '';\n",
              "          dataTable['output_type'] = 'display_data';\n",
              "          await google.colab.output.renderOutput(dataTable, element);\n",
              "          const docLink = document.createElement('div');\n",
              "          docLink.innerHTML = docLinkHtml;\n",
              "          element.appendChild(docLink);\n",
              "        }\n",
              "      </script>\n",
              "    </div>\n",
              "  </div>\n",
              "  "
            ]
          },
          "metadata": {},
          "execution_count": 19
        }
      ]
    },
    {
      "cell_type": "code",
      "source": [
        "df2.columns=['Rank', 'Municipality', 'County', 'Per capitaincome',\n",
        "       'Medianhouseholdincome', 'Medianfamilyincome', 'Population',\n",
        "       'Number ofhouseholds', 'Type_Others', 'Type_Town']"
      ],
      "metadata": {
        "id": "4quniPQC7ZH3"
      },
      "execution_count": null,
      "outputs": []
    },
    {
      "cell_type": "markdown",
      "source": [
        "# 3. Assign Y = to df['Per capitaincome'].\n"
      ],
      "metadata": {
        "id": "rNstBKpYIAHp"
      }
    },
    {
      "cell_type": "code",
      "source": [
        "Y=df2['Per capitaincome']"
      ],
      "metadata": {
        "id": "OdPTANVk3y8d"
      },
      "execution_count": null,
      "outputs": []
    },
    {
      "cell_type": "markdown",
      "source": [
        "# 4. Subset columns for modeling\n",
        "\n",
        "* Type\n",
        "* Population\n",
        "* Number ofhouseholds\n",
        "\n",
        "  **Useful link for subsetting rows and columns:** https://www.kdnuggets.com/2019/06/select-rows-columns-pandas.html"
      ],
      "metadata": {
        "id": "jFMn3NeHICax"
      }
    },
    {
      "cell_type": "code",
      "source": [
        "df2.columns"
      ],
      "metadata": {
        "colab": {
          "base_uri": "https://localhost:8080/"
        },
        "id": "pAjPdeQD4CPB",
        "outputId": "c243fd77-6058-4114-dc6a-3f77a11ad820"
      },
      "execution_count": null,
      "outputs": [
        {
          "output_type": "execute_result",
          "data": {
            "text/plain": [
              "Index(['Rank', 'Municipality', 'County', 'Per capitaincome',\n",
              "       'Medianhouseholdincome', 'Medianfamilyincome', 'Population',\n",
              "       'Number ofhouseholds', 'Type_Others', 'Type_Town'],\n",
              "      dtype='object')"
            ]
          },
          "metadata": {},
          "execution_count": 22
        }
      ]
    },
    {
      "cell_type": "code",
      "source": [
        "cols=['Population','Number ofhouseholds','Type_Town','Type_Others']\n",
        "X=df2[cols]"
      ],
      "metadata": {
        "id": "uL1mRjZl3-j-"
      },
      "execution_count": null,
      "outputs": []
    },
    {
      "cell_type": "code",
      "source": [
        "import seaborn as sns\n",
        "# plt.figure(figsize=(15, 10))\n",
        "# sns.heatmap(df2[['Population','Number ofhouseholds','Type_Town','Type_Essex','Per capitaincome','Medianhouseholdincome', 'Medianfamilyincome']].corr(),annot = True);"
      ],
      "metadata": {
        "id": "BxhHRdH44d0J"
      },
      "execution_count": null,
      "outputs": []
    },
    {
      "cell_type": "markdown",
      "source": [
        "# 5. Split into X_train, X_test, y_train, y_test.\n",
        "Use an 80/20 split, shuffle the data, and random state equal to YOUR STUDENT ID. Print the shape of X_train, X_test, y_train, y_test.\n",
        "\n",
        "Convert X_train, X_test, y_train and y_test into numpy arrays. Just overwrite the variables with the numpy arrays like we did in class"
      ],
      "metadata": {
        "id": "g27FvyhMIJOT"
      }
    },
    {
      "cell_type": "code",
      "source": [
        "from sklearn.model_selection import train_test_split\n",
        "X_train, X_test, y_train, y_test = train_test_split(X,Y,\n",
        "                                                    test_size = 0.2,\n",
        "                                                    shuffle=True, \n",
        "                                                    random_state=3016014)"
      ],
      "metadata": {
        "id": "Gt7IBnF64MFP"
      },
      "execution_count": null,
      "outputs": []
    },
    {
      "cell_type": "code",
      "source": [
        "print(X_train.shape,X_test.shape,y_train.shape,y_test.shape)"
      ],
      "metadata": {
        "colab": {
          "base_uri": "https://localhost:8080/"
        },
        "id": "RhyR1bgjjqX2",
        "outputId": "097f8d63-87b8-4000-a75c-eb713212634e"
      },
      "execution_count": null,
      "outputs": [
        {
          "output_type": "stream",
          "name": "stdout",
          "text": [
            "(237, 4) (60, 4) (237,) (60,)\n"
          ]
        }
      ]
    },
    {
      "cell_type": "code",
      "source": [
        "import numpy as np\n",
        "X_train=np.array(X_train)\n",
        "X_test=np.array(X_test)\n",
        "y_train=np.array(y_train)\n",
        "y_test=np.array(y_test)\n"
      ],
      "metadata": {
        "id": "HkRNotfHj1NH"
      },
      "execution_count": null,
      "outputs": []
    },
    {
      "cell_type": "code",
      "source": [
        "pd.DataFrame(X_train).describe()"
      ],
      "metadata": {
        "colab": {
          "base_uri": "https://localhost:8080/",
          "height": 300
        },
        "id": "8FYih3-9lOhx",
        "outputId": "795fb99f-eabc-4952-9308-bdd640c5ef5a"
      },
      "execution_count": null,
      "outputs": [
        {
          "output_type": "execute_result",
          "data": {
            "text/plain": [
              "                   0             1           2           3\n",
              "count     237.000000    237.000000  237.000000  237.000000\n",
              "mean    19082.632911   8753.873418    0.839662    0.004219\n",
              "std     23759.020467  11015.447093    0.367695    0.064957\n",
              "min       117.000000     63.000000    0.000000    0.000000\n",
              "25%      4945.000000   1844.000000    1.000000    0.000000\n",
              "50%     11605.000000   4911.000000    1.000000    0.000000\n",
              "75%     24021.000000  11493.000000    1.000000    0.000000\n",
              "max    181901.000000  78427.000000    1.000000    1.000000"
            ],
            "text/html": [
              "\n",
              "  <div id=\"df-07ece088-80e7-4aa9-ab29-cd604b54287b\">\n",
              "    <div class=\"colab-df-container\">\n",
              "      <div>\n",
              "<style scoped>\n",
              "    .dataframe tbody tr th:only-of-type {\n",
              "        vertical-align: middle;\n",
              "    }\n",
              "\n",
              "    .dataframe tbody tr th {\n",
              "        vertical-align: top;\n",
              "    }\n",
              "\n",
              "    .dataframe thead th {\n",
              "        text-align: right;\n",
              "    }\n",
              "</style>\n",
              "<table border=\"1\" class=\"dataframe\">\n",
              "  <thead>\n",
              "    <tr style=\"text-align: right;\">\n",
              "      <th></th>\n",
              "      <th>0</th>\n",
              "      <th>1</th>\n",
              "      <th>2</th>\n",
              "      <th>3</th>\n",
              "    </tr>\n",
              "  </thead>\n",
              "  <tbody>\n",
              "    <tr>\n",
              "      <th>count</th>\n",
              "      <td>237.000000</td>\n",
              "      <td>237.000000</td>\n",
              "      <td>237.000000</td>\n",
              "      <td>237.000000</td>\n",
              "    </tr>\n",
              "    <tr>\n",
              "      <th>mean</th>\n",
              "      <td>19082.632911</td>\n",
              "      <td>8753.873418</td>\n",
              "      <td>0.839662</td>\n",
              "      <td>0.004219</td>\n",
              "    </tr>\n",
              "    <tr>\n",
              "      <th>std</th>\n",
              "      <td>23759.020467</td>\n",
              "      <td>11015.447093</td>\n",
              "      <td>0.367695</td>\n",
              "      <td>0.064957</td>\n",
              "    </tr>\n",
              "    <tr>\n",
              "      <th>min</th>\n",
              "      <td>117.000000</td>\n",
              "      <td>63.000000</td>\n",
              "      <td>0.000000</td>\n",
              "      <td>0.000000</td>\n",
              "    </tr>\n",
              "    <tr>\n",
              "      <th>25%</th>\n",
              "      <td>4945.000000</td>\n",
              "      <td>1844.000000</td>\n",
              "      <td>1.000000</td>\n",
              "      <td>0.000000</td>\n",
              "    </tr>\n",
              "    <tr>\n",
              "      <th>50%</th>\n",
              "      <td>11605.000000</td>\n",
              "      <td>4911.000000</td>\n",
              "      <td>1.000000</td>\n",
              "      <td>0.000000</td>\n",
              "    </tr>\n",
              "    <tr>\n",
              "      <th>75%</th>\n",
              "      <td>24021.000000</td>\n",
              "      <td>11493.000000</td>\n",
              "      <td>1.000000</td>\n",
              "      <td>0.000000</td>\n",
              "    </tr>\n",
              "    <tr>\n",
              "      <th>max</th>\n",
              "      <td>181901.000000</td>\n",
              "      <td>78427.000000</td>\n",
              "      <td>1.000000</td>\n",
              "      <td>1.000000</td>\n",
              "    </tr>\n",
              "  </tbody>\n",
              "</table>\n",
              "</div>\n",
              "      <button class=\"colab-df-convert\" onclick=\"convertToInteractive('df-07ece088-80e7-4aa9-ab29-cd604b54287b')\"\n",
              "              title=\"Convert this dataframe to an interactive table.\"\n",
              "              style=\"display:none;\">\n",
              "        \n",
              "  <svg xmlns=\"http://www.w3.org/2000/svg\" height=\"24px\"viewBox=\"0 0 24 24\"\n",
              "       width=\"24px\">\n",
              "    <path d=\"M0 0h24v24H0V0z\" fill=\"none\"/>\n",
              "    <path d=\"M18.56 5.44l.94 2.06.94-2.06 2.06-.94-2.06-.94-.94-2.06-.94 2.06-2.06.94zm-11 1L8.5 8.5l.94-2.06 2.06-.94-2.06-.94L8.5 2.5l-.94 2.06-2.06.94zm10 10l.94 2.06.94-2.06 2.06-.94-2.06-.94-.94-2.06-.94 2.06-2.06.94z\"/><path d=\"M17.41 7.96l-1.37-1.37c-.4-.4-.92-.59-1.43-.59-.52 0-1.04.2-1.43.59L10.3 9.45l-7.72 7.72c-.78.78-.78 2.05 0 2.83L4 21.41c.39.39.9.59 1.41.59.51 0 1.02-.2 1.41-.59l7.78-7.78 2.81-2.81c.8-.78.8-2.07 0-2.86zM5.41 20L4 18.59l7.72-7.72 1.47 1.35L5.41 20z\"/>\n",
              "  </svg>\n",
              "      </button>\n",
              "      \n",
              "  <style>\n",
              "    .colab-df-container {\n",
              "      display:flex;\n",
              "      flex-wrap:wrap;\n",
              "      gap: 12px;\n",
              "    }\n",
              "\n",
              "    .colab-df-convert {\n",
              "      background-color: #E8F0FE;\n",
              "      border: none;\n",
              "      border-radius: 50%;\n",
              "      cursor: pointer;\n",
              "      display: none;\n",
              "      fill: #1967D2;\n",
              "      height: 32px;\n",
              "      padding: 0 0 0 0;\n",
              "      width: 32px;\n",
              "    }\n",
              "\n",
              "    .colab-df-convert:hover {\n",
              "      background-color: #E2EBFA;\n",
              "      box-shadow: 0px 1px 2px rgba(60, 64, 67, 0.3), 0px 1px 3px 1px rgba(60, 64, 67, 0.15);\n",
              "      fill: #174EA6;\n",
              "    }\n",
              "\n",
              "    [theme=dark] .colab-df-convert {\n",
              "      background-color: #3B4455;\n",
              "      fill: #D2E3FC;\n",
              "    }\n",
              "\n",
              "    [theme=dark] .colab-df-convert:hover {\n",
              "      background-color: #434B5C;\n",
              "      box-shadow: 0px 1px 3px 1px rgba(0, 0, 0, 0.15);\n",
              "      filter: drop-shadow(0px 1px 2px rgba(0, 0, 0, 0.3));\n",
              "      fill: #FFFFFF;\n",
              "    }\n",
              "  </style>\n",
              "\n",
              "      <script>\n",
              "        const buttonEl =\n",
              "          document.querySelector('#df-07ece088-80e7-4aa9-ab29-cd604b54287b button.colab-df-convert');\n",
              "        buttonEl.style.display =\n",
              "          google.colab.kernel.accessAllowed ? 'block' : 'none';\n",
              "\n",
              "        async function convertToInteractive(key) {\n",
              "          const element = document.querySelector('#df-07ece088-80e7-4aa9-ab29-cd604b54287b');\n",
              "          const dataTable =\n",
              "            await google.colab.kernel.invokeFunction('convertToInteractive',\n",
              "                                                     [key], {});\n",
              "          if (!dataTable) return;\n",
              "\n",
              "          const docLinkHtml = 'Like what you see? Visit the ' +\n",
              "            '<a target=\"_blank\" href=https://colab.research.google.com/notebooks/data_table.ipynb>data table notebook</a>'\n",
              "            + ' to learn more about interactive tables.';\n",
              "          element.innerHTML = '';\n",
              "          dataTable['output_type'] = 'display_data';\n",
              "          await google.colab.output.renderOutput(dataTable, element);\n",
              "          const docLink = document.createElement('div');\n",
              "          docLink.innerHTML = docLinkHtml;\n",
              "          element.appendChild(docLink);\n",
              "        }\n",
              "      </script>\n",
              "    </div>\n",
              "  </div>\n",
              "  "
            ]
          },
          "metadata": {},
          "execution_count": 28
        }
      ]
    },
    {
      "cell_type": "markdown",
      "source": [
        "# 6. Use fit_transform() from MinMaxScaler on X_train. Use transform() to apply the MinMaxScaler to X_test.\n"
      ],
      "metadata": {
        "id": "xOYA2feHIN0S"
      }
    },
    {
      "cell_type": "code",
      "source": [
        "from sklearn.preprocessing import MinMaxScaler\n",
        "scaler = MinMaxScaler()\n",
        "X_train=scaler.fit_transform(X_train)\n",
        "X_test=scaler.transform(X_test)"
      ],
      "metadata": {
        "id": "SM-kgki_42Yz"
      },
      "execution_count": null,
      "outputs": []
    },
    {
      "cell_type": "markdown",
      "source": [
        "# 7. Fit a random forest model on X_train. Call your model object `clf`. \n",
        "\n",
        "Then create two new variables, `train_preds` and `test_preds`, which are the predictions from your model. For example, you will use `train_preds = clf.predict(X_train)` for `X_train` . Calculate error metrics of MAE and R2 for train and test results."
      ],
      "metadata": {
        "id": "5AjH_v4RITGY"
      }
    },
    {
      "cell_type": "code",
      "source": [
        "from sklearn.ensemble import RandomForestRegressor\n",
        "\n",
        "RFR=RandomForestRegressor()\n",
        "\n",
        "\n",
        "clf=RFR.fit(X_train,y_train)\n"
      ],
      "metadata": {
        "id": "GFQXIHdClU8c"
      },
      "execution_count": null,
      "outputs": []
    },
    {
      "cell_type": "code",
      "source": [
        "train_preds=clf.predict(X_train)\n",
        "test_preds=clf.predict(X_test)"
      ],
      "metadata": {
        "id": "1rpIDNbKmHBK"
      },
      "execution_count": null,
      "outputs": []
    },
    {
      "cell_type": "code",
      "source": [
        "from sklearn.metrics import r2_score\n",
        "\n",
        "print(\"R-Sqaured value for Train data is \",round(r2_score(y_train,train_preds),2))\n",
        "print(\"R-Sqaured value for Test data is \",round(r2_score(y_test,test_preds),2))"
      ],
      "metadata": {
        "colab": {
          "base_uri": "https://localhost:8080/"
        },
        "id": "5RcQr1p4muXr",
        "outputId": "74f7a5d1-5b8e-41ca-dacc-20e2fa2df420"
      },
      "execution_count": null,
      "outputs": [
        {
          "output_type": "stream",
          "name": "stdout",
          "text": [
            "R-Sqaured value for Train data is  0.89\n",
            "R-Sqaured value for Test data is  0.27\n"
          ]
        }
      ]
    },
    {
      "cell_type": "code",
      "source": [
        "from sklearn.metrics import mean_absolute_error\n",
        "\n",
        "print(\"MAE value for Train data is \",round(mean_absolute_error(y_train,train_preds),2))\n",
        "print(\"MAE value for Test data is \",round(mean_absolute_error(y_test,test_preds),2))"
      ],
      "metadata": {
        "colab": {
          "base_uri": "https://localhost:8080/"
        },
        "id": "lemNlQKzzsTI",
        "outputId": "17f4edb2-758f-44cd-bc95-c1c06b77e69a"
      },
      "execution_count": null,
      "outputs": [
        {
          "output_type": "stream",
          "name": "stdout",
          "text": [
            "MAE value for Train data is  2806.12\n",
            "MAE value for Test data is  8218.58\n"
          ]
        }
      ]
    },
    {
      "cell_type": "markdown",
      "source": [
        "# 8. Make two scatterplots of actual vs. predicted. One for train results, one for test results. \n",
        "With nicely labeled title and axis (like we did in class)."
      ],
      "metadata": {
        "id": "vo-Foyn9IgTy"
      }
    },
    {
      "cell_type": "code",
      "source": [
        "import matplotlib.pyplot as plt\n",
        "\n",
        "fig, axes=plt.subplots(1,2)\n",
        "\n",
        "#fig=plt.figure(figsize=[16,32])\n",
        "\n",
        "fig.suptitle(\"Random Forest Results\",fontsize=20)\n",
        "\n",
        "\n",
        "axes[0].scatter(x=y_train,y=train_preds)\n",
        "axes[0].set_xlabel('Actual',fontsize=10)\n",
        "axes[0].set_ylabel('Predicted',fontsize=10)\n",
        "\n",
        "x=np.linspace(*axes[0].get_xlim())\n",
        "axes[0].plot(x,x,color='red')\n",
        "\n",
        "\n",
        "\n",
        "axes[1].scatter(x=y_test,y=test_preds)\n",
        "axes[1].set_xlabel('Actual',fontsize=10)\n",
        "axes[1].set_ylabel('Predicted',fontsize=10)\n",
        "\n",
        "x=np.linspace(*axes[0].get_xlim())\n",
        "axes[1].plot(x,x,color='red')\n",
        "\n",
        "fig.tight_layout()\n",
        "\n",
        "fig.subplots_adjust(top=0.88)\n",
        "\n",
        "plt.show()"
      ],
      "metadata": {
        "colab": {
          "base_uri": "https://localhost:8080/",
          "height": 302
        },
        "id": "77KcAOp30LTX",
        "outputId": "2c57f34e-d907-48da-d502-e0e6fff81df0"
      },
      "execution_count": null,
      "outputs": [
        {
          "output_type": "display_data",
          "data": {
            "text/plain": [
              "<Figure size 432x288 with 2 Axes>"
            ],
            "image/png": "[encoded data removed]"
          },
          "metadata": {
            "needs_background": "light"
          }
        }
      ]
    },
    {
      "cell_type": "markdown",
      "source": [
        "# 9. Apply and evaluate your fitted model to ALL town-level data in Connecticut.\n",
        "\n",
        "This will require you to prep this new dataset the same way as you did for Massachussetts. Luckily, you should be able to copy/paste most code! You can treat this as another holdout partition - use all rows but only the subset of columns that were used in your model. \n",
        "\n",
        "Calculate error metrics and make one scatterplot of actual vs. predicted results for this new holdout sample."
      ],
      "metadata": {
        "id": "zJSEY34KJ6Rz"
      }
    },
    {
      "cell_type": "code",
      "source": [
        "ctData = pd.read_html('https://en.wikipedia.org/wiki/List_of_Connecticut_locations_by_per_capita_income')[2]\n",
        "ctData.head()"
      ],
      "metadata": {
        "colab": {
          "base_uri": "https://localhost:8080/",
          "height": 206
        },
        "id": "6kMNM8DDKC-B",
        "outputId": "bf1633d9-1806-4d26-b488-dfc358abfa34"
      },
      "execution_count": null,
      "outputs": [
        {
          "output_type": "execute_result",
          "data": {
            "text/plain": [
              "   Rank        Town Unnamed: 2     County Per capitaincome  \\\n",
              "0   1.0  New Canaan       Town  Fairfield         $105,846   \n",
              "1   2.0      Darien       Town  Fairfield         $105,846   \n",
              "2   3.0   Greenwich       Town  Fairfield          $90,087   \n",
              "3   4.0      Weston       Town  Fairfield          $92,794   \n",
              "4   5.0    Westport       Town  Fairfield          $97,395   \n",
              "\n",
              "  Medianhouseholdincome Medianfamilyincome  Population  Number ofhouseholds  \n",
              "0              $174,611           $211,875       19738                 6857  \n",
              "1              $208,848           $343,456       20732                 6555  \n",
              "2              $128,153           $167,825       61171                22083  \n",
              "3              $219,868           $285,612       10179                 3379  \n",
              "4              $181,360           $237,353       26391                 9740  "
            ],
            "text/html": [
              "\n",
              "  <div id=\"df-b024edcd-80a8-4dd0-a438-797e69a92e68\">\n",
              "    <div class=\"colab-df-container\">\n",
              "      <div>\n",
              "<style scoped>\n",
              "    .dataframe tbody tr th:only-of-type {\n",
              "        vertical-align: middle;\n",
              "    }\n",
              "\n",
              "    .dataframe tbody tr th {\n",
              "        vertical-align: top;\n",
              "    }\n",
              "\n",
              "    .dataframe thead th {\n",
              "        text-align: right;\n",
              "    }\n",
              "</style>\n",
              "<table border=\"1\" class=\"dataframe\">\n",
              "  <thead>\n",
              "    <tr style=\"text-align: right;\">\n",
              "      <th></th>\n",
              "      <th>Rank</th>\n",
              "      <th>Town</th>\n",
              "      <th>Unnamed: 2</th>\n",
              "      <th>County</th>\n",
              "      <th>Per capitaincome</th>\n",
              "      <th>Medianhouseholdincome</th>\n",
              "      <th>Medianfamilyincome</th>\n",
              "      <th>Population</th>\n",
              "      <th>Number ofhouseholds</th>\n",
              "    </tr>\n",
              "  </thead>\n",
              "  <tbody>\n",
              "    <tr>\n",
              "      <th>0</th>\n",
              "      <td>1.0</td>\n",
              "      <td>New Canaan</td>\n",
              "      <td>Town</td>\n",
              "      <td>Fairfield</td>\n",
              "      <td>$105,846</td>\n",
              "      <td>$174,611</td>\n",
              "      <td>$211,875</td>\n",
              "      <td>19738</td>\n",
              "      <td>6857</td>\n",
              "    </tr>\n",
              "    <tr>\n",
              "      <th>1</th>\n",
              "      <td>2.0</td>\n",
              "      <td>Darien</td>\n",
              "      <td>Town</td>\n",
              "      <td>Fairfield</td>\n",
              "      <td>$105,846</td>\n",
              "      <td>$208,848</td>\n",
              "      <td>$343,456</td>\n",
              "      <td>20732</td>\n",
              "      <td>6555</td>\n",
              "    </tr>\n",
              "    <tr>\n",
              "      <th>2</th>\n",
              "      <td>3.0</td>\n",
              "      <td>Greenwich</td>\n",
              "      <td>Town</td>\n",
              "      <td>Fairfield</td>\n",
              "      <td>$90,087</td>\n",
              "      <td>$128,153</td>\n",
              "      <td>$167,825</td>\n",
              "      <td>61171</td>\n",
              "      <td>22083</td>\n",
              "    </tr>\n",
              "    <tr>\n",
              "      <th>3</th>\n",
              "      <td>4.0</td>\n",
              "      <td>Weston</td>\n",
              "      <td>Town</td>\n",
              "      <td>Fairfield</td>\n",
              "      <td>$92,794</td>\n",
              "      <td>$219,868</td>\n",
              "      <td>$285,612</td>\n",
              "      <td>10179</td>\n",
              "      <td>3379</td>\n",
              "    </tr>\n",
              "    <tr>\n",
              "      <th>4</th>\n",
              "      <td>5.0</td>\n",
              "      <td>Westport</td>\n",
              "      <td>Town</td>\n",
              "      <td>Fairfield</td>\n",
              "      <td>$97,395</td>\n",
              "      <td>$181,360</td>\n",
              "      <td>$237,353</td>\n",
              "      <td>26391</td>\n",
              "      <td>9740</td>\n",
              "    </tr>\n",
              "  </tbody>\n",
              "</table>\n",
              "</div>\n",
              "      <button class=\"colab-df-convert\" onclick=\"convertToInteractive('df-b024edcd-80a8-4dd0-a438-797e69a92e68')\"\n",
              "              title=\"Convert this dataframe to an interactive table.\"\n",
              "              style=\"display:none;\">\n",
              "        \n",
              "  <svg xmlns=\"http://www.w3.org/2000/svg\" height=\"24px\"viewBox=\"0 0 24 24\"\n",
              "       width=\"24px\">\n",
              "    <path d=\"M0 0h24v24H0V0z\" fill=\"none\"/>\n",
              "    <path d=\"M18.56 5.44l.94 2.06.94-2.06 2.06-.94-2.06-.94-.94-2.06-.94 2.06-2.06.94zm-11 1L8.5 8.5l.94-2.06 2.06-.94-2.06-.94L8.5 2.5l-.94 2.06-2.06.94zm10 10l.94 2.06.94-2.06 2.06-.94-2.06-.94-.94-2.06-.94 2.06-2.06.94z\"/><path d=\"M17.41 7.96l-1.37-1.37c-.4-.4-.92-.59-1.43-.59-.52 0-1.04.2-1.43.59L10.3 9.45l-7.72 7.72c-.78.78-.78 2.05 0 2.83L4 21.41c.39.39.9.59 1.41.59.51 0 1.02-.2 1.41-.59l7.78-7.78 2.81-2.81c.8-.78.8-2.07 0-2.86zM5.41 20L4 18.59l7.72-7.72 1.47 1.35L5.41 20z\"/>\n",
              "  </svg>\n",
              "      </button>\n",
              "      \n",
              "  <style>\n",
              "    .colab-df-container {\n",
              "      display:flex;\n",
              "      flex-wrap:wrap;\n",
              "      gap: 12px;\n",
              "    }\n",
              "\n",
              "    .colab-df-convert {\n",
              "      background-color: #E8F0FE;\n",
              "      border: none;\n",
              "      border-radius: 50%;\n",
              "      cursor: pointer;\n",
              "      display: none;\n",
              "      fill: #1967D2;\n",
              "      height: 32px;\n",
              "      padding: 0 0 0 0;\n",
              "      width: 32px;\n",
              "    }\n",
              "\n",
              "    .colab-df-convert:hover {\n",
              "      background-color: #E2EBFA;\n",
              "      box-shadow: 0px 1px 2px rgba(60, 64, 67, 0.3), 0px 1px 3px 1px rgba(60, 64, 67, 0.15);\n",
              "      fill: #174EA6;\n",
              "    }\n",
              "\n",
              "    [theme=dark] .colab-df-convert {\n",
              "      background-color: #3B4455;\n",
              "      fill: #D2E3FC;\n",
              "    }\n",
              "\n",
              "    [theme=dark] .colab-df-convert:hover {\n",
              "      background-color: #434B5C;\n",
              "      box-shadow: 0px 1px 3px 1px rgba(0, 0, 0, 0.15);\n",
              "      filter: drop-shadow(0px 1px 2px rgba(0, 0, 0, 0.3));\n",
              "      fill: #FFFFFF;\n",
              "    }\n",
              "  </style>\n",
              "\n",
              "      <script>\n",
              "        const buttonEl =\n",
              "          document.querySelector('#df-b024edcd-80a8-4dd0-a438-797e69a92e68 button.colab-df-convert');\n",
              "        buttonEl.style.display =\n",
              "          google.colab.kernel.accessAllowed ? 'block' : 'none';\n",
              "\n",
              "        async function convertToInteractive(key) {\n",
              "          const element = document.querySelector('#df-b024edcd-80a8-4dd0-a438-797e69a92e68');\n",
              "          const dataTable =\n",
              "            await google.colab.kernel.invokeFunction('convertToInteractive',\n",
              "                                                     [key], {});\n",
              "          if (!dataTable) return;\n",
              "\n",
              "          const docLinkHtml = 'Like what you see? Visit the ' +\n",
              "            '<a target=\"_blank\" href=https://colab.research.google.com/notebooks/data_table.ipynb>data table notebook</a>'\n",
              "            + ' to learn more about interactive tables.';\n",
              "          element.innerHTML = '';\n",
              "          dataTable['output_type'] = 'display_data';\n",
              "          await google.colab.output.renderOutput(dataTable, element);\n",
              "          const docLink = document.createElement('div');\n",
              "          docLink.innerHTML = docLinkHtml;\n",
              "          element.appendChild(docLink);\n",
              "        }\n",
              "      </script>\n",
              "    </div>\n",
              "  </div>\n",
              "  "
            ]
          },
          "metadata": {},
          "execution_count": 35
        }
      ]
    },
    {
      "cell_type": "markdown",
      "source": [
        "![CT econ data](https://upload.wikimedia.org/wikipedia/commons/6/6d/Connecticut_Towns_by_Median_Household_Income.png)\n",
        "\n",
        "Figure: Map of municipalities by median household income (ACS 2015-2019). Areas with higher income are shaded more blue, areas with lower income are shaded more red.\n",
        "\n",
        "*https://en.wikipedia.org/wiki/List_of_Connecticut_locations_by_per_capita_income"
      ],
      "metadata": {
        "id": "usHFJtDaK6Vy"
      }
    },
    {
      "cell_type": "code",
      "source": [
        "spec_char=['$',',','+','@','#']\n",
        "for i in range(len(ctData.columns)):\n",
        "  if ctData.columns[i] in rep_cols:\n",
        "    for j in range(len(spec_char)):\n",
        "      ctData[ctData.columns[i]] = ctData[ctData.columns[i]].str.replace(spec_char[j],'') #apply(lambda x: x.replace(spec_char[j], \"\"))\n"
      ],
      "metadata": {
        "colab": {
          "base_uri": "https://localhost:8080/"
        },
        "id": "rd5QnAnLAy7g",
        "outputId": "15d30a37-b0ca-48ac-da36-83bc237af5af"
      },
      "execution_count": null,
      "outputs": [
        {
          "output_type": "stream",
          "name": "stderr",
          "text": [
            "/usr/local/lib/python3.7/dist-packages/ipykernel_launcher.py:5: FutureWarning: The default value of regex will change from True to False in a future version. In addition, single character regular expressions will *not* be treated as literal strings when regex=True.\n",
            "  \"\"\"\n"
          ]
        }
      ]
    },
    {
      "cell_type": "code",
      "source": [
        "ctData.head()"
      ],
      "metadata": {
        "colab": {
          "base_uri": "https://localhost:8080/",
          "height": 206
        },
        "id": "Y8uEZkpqA9Wm",
        "outputId": "e65f82ee-a476-4e22-ebac-f8f34c059617"
      },
      "execution_count": null,
      "outputs": [
        {
          "output_type": "execute_result",
          "data": {
            "text/plain": [
              "   Rank        Town Unnamed: 2     County Per capitaincome  \\\n",
              "0   1.0  New Canaan       Town  Fairfield           105846   \n",
              "1   2.0      Darien       Town  Fairfield           105846   \n",
              "2   3.0   Greenwich       Town  Fairfield            90087   \n",
              "3   4.0      Weston       Town  Fairfield            92794   \n",
              "4   5.0    Westport       Town  Fairfield            97395   \n",
              "\n",
              "  Medianhouseholdincome Medianfamilyincome  Population  Number ofhouseholds  \n",
              "0                174611             211875       19738                 6857  \n",
              "1                208848             343456       20732                 6555  \n",
              "2                128153             167825       61171                22083  \n",
              "3                219868             285612       10179                 3379  \n",
              "4                181360             237353       26391                 9740  "
            ],
            "text/html": [
              "\n",
              "  <div id=\"df-d53edfe5-ac1d-48f4-96a0-6012571fe2fa\">\n",
              "    <div class=\"colab-df-container\">\n",
              "      <div>\n",
              "<style scoped>\n",
              "    .dataframe tbody tr th:only-of-type {\n",
              "        vertical-align: middle;\n",
              "    }\n",
              "\n",
              "    .dataframe tbody tr th {\n",
              "        vertical-align: top;\n",
              "    }\n",
              "\n",
              "    .dataframe thead th {\n",
              "        text-align: right;\n",
              "    }\n",
              "</style>\n",
              "<table border=\"1\" class=\"dataframe\">\n",
              "  <thead>\n",
              "    <tr style=\"text-align: right;\">\n",
              "      <th></th>\n",
              "      <th>Rank</th>\n",
              "      <th>Town</th>\n",
              "      <th>Unnamed: 2</th>\n",
              "      <th>County</th>\n",
              "      <th>Per capitaincome</th>\n",
              "      <th>Medianhouseholdincome</th>\n",
              "      <th>Medianfamilyincome</th>\n",
              "      <th>Population</th>\n",
              "      <th>Number ofhouseholds</th>\n",
              "    </tr>\n",
              "  </thead>\n",
              "  <tbody>\n",
              "    <tr>\n",
              "      <th>0</th>\n",
              "      <td>1.0</td>\n",
              "      <td>New Canaan</td>\n",
              "      <td>Town</td>\n",
              "      <td>Fairfield</td>\n",
              "      <td>105846</td>\n",
              "      <td>174611</td>\n",
              "      <td>211875</td>\n",
              "      <td>19738</td>\n",
              "      <td>6857</td>\n",
              "    </tr>\n",
              "    <tr>\n",
              "      <th>1</th>\n",
              "      <td>2.0</td>\n",
              "      <td>Darien</td>\n",
              "      <td>Town</td>\n",
              "      <td>Fairfield</td>\n",
              "      <td>105846</td>\n",
              "      <td>208848</td>\n",
              "      <td>343456</td>\n",
              "      <td>20732</td>\n",
              "      <td>6555</td>\n",
              "    </tr>\n",
              "    <tr>\n",
              "      <th>2</th>\n",
              "      <td>3.0</td>\n",
              "      <td>Greenwich</td>\n",
              "      <td>Town</td>\n",
              "      <td>Fairfield</td>\n",
              "      <td>90087</td>\n",
              "      <td>128153</td>\n",
              "      <td>167825</td>\n",
              "      <td>61171</td>\n",
              "      <td>22083</td>\n",
              "    </tr>\n",
              "    <tr>\n",
              "      <th>3</th>\n",
              "      <td>4.0</td>\n",
              "      <td>Weston</td>\n",
              "      <td>Town</td>\n",
              "      <td>Fairfield</td>\n",
              "      <td>92794</td>\n",
              "      <td>219868</td>\n",
              "      <td>285612</td>\n",
              "      <td>10179</td>\n",
              "      <td>3379</td>\n",
              "    </tr>\n",
              "    <tr>\n",
              "      <th>4</th>\n",
              "      <td>5.0</td>\n",
              "      <td>Westport</td>\n",
              "      <td>Town</td>\n",
              "      <td>Fairfield</td>\n",
              "      <td>97395</td>\n",
              "      <td>181360</td>\n",
              "      <td>237353</td>\n",
              "      <td>26391</td>\n",
              "      <td>9740</td>\n",
              "    </tr>\n",
              "  </tbody>\n",
              "</table>\n",
              "</div>\n",
              "      <button class=\"colab-df-convert\" onclick=\"convertToInteractive('df-d53edfe5-ac1d-48f4-96a0-6012571fe2fa')\"\n",
              "              title=\"Convert this dataframe to an interactive table.\"\n",
              "              style=\"display:none;\">\n",
              "        \n",
              "  <svg xmlns=\"http://www.w3.org/2000/svg\" height=\"24px\"viewBox=\"0 0 24 24\"\n",
              "       width=\"24px\">\n",
              "    <path d=\"M0 0h24v24H0V0z\" fill=\"none\"/>\n",
              "    <path d=\"M18.56 5.44l.94 2.06.94-2.06 2.06-.94-2.06-.94-.94-2.06-.94 2.06-2.06.94zm-11 1L8.5 8.5l.94-2.06 2.06-.94-2.06-.94L8.5 2.5l-.94 2.06-2.06.94zm10 10l.94 2.06.94-2.06 2.06-.94-2.06-.94-.94-2.06-.94 2.06-2.06.94z\"/><path d=\"M17.41 7.96l-1.37-1.37c-.4-.4-.92-.59-1.43-.59-.52 0-1.04.2-1.43.59L10.3 9.45l-7.72 7.72c-.78.78-.78 2.05 0 2.83L4 21.41c.39.39.9.59 1.41.59.51 0 1.02-.2 1.41-.59l7.78-7.78 2.81-2.81c.8-.78.8-2.07 0-2.86zM5.41 20L4 18.59l7.72-7.72 1.47 1.35L5.41 20z\"/>\n",
              "  </svg>\n",
              "      </button>\n",
              "      \n",
              "  <style>\n",
              "    .colab-df-container {\n",
              "      display:flex;\n",
              "      flex-wrap:wrap;\n",
              "      gap: 12px;\n",
              "    }\n",
              "\n",
              "    .colab-df-convert {\n",
              "      background-color: #E8F0FE;\n",
              "      border: none;\n",
              "      border-radius: 50%;\n",
              "      cursor: pointer;\n",
              "      display: none;\n",
              "      fill: #1967D2;\n",
              "      height: 32px;\n",
              "      padding: 0 0 0 0;\n",
              "      width: 32px;\n",
              "    }\n",
              "\n",
              "    .colab-df-convert:hover {\n",
              "      background-color: #E2EBFA;\n",
              "      box-shadow: 0px 1px 2px rgba(60, 64, 67, 0.3), 0px 1px 3px 1px rgba(60, 64, 67, 0.15);\n",
              "      fill: #174EA6;\n",
              "    }\n",
              "\n",
              "    [theme=dark] .colab-df-convert {\n",
              "      background-color: #3B4455;\n",
              "      fill: #D2E3FC;\n",
              "    }\n",
              "\n",
              "    [theme=dark] .colab-df-convert:hover {\n",
              "      background-color: #434B5C;\n",
              "      box-shadow: 0px 1px 3px 1px rgba(0, 0, 0, 0.15);\n",
              "      filter: drop-shadow(0px 1px 2px rgba(0, 0, 0, 0.3));\n",
              "      fill: #FFFFFF;\n",
              "    }\n",
              "  </style>\n",
              "\n",
              "      <script>\n",
              "        const buttonEl =\n",
              "          document.querySelector('#df-d53edfe5-ac1d-48f4-96a0-6012571fe2fa button.colab-df-convert');\n",
              "        buttonEl.style.display =\n",
              "          google.colab.kernel.accessAllowed ? 'block' : 'none';\n",
              "\n",
              "        async function convertToInteractive(key) {\n",
              "          const element = document.querySelector('#df-d53edfe5-ac1d-48f4-96a0-6012571fe2fa');\n",
              "          const dataTable =\n",
              "            await google.colab.kernel.invokeFunction('convertToInteractive',\n",
              "                                                     [key], {});\n",
              "          if (!dataTable) return;\n",
              "\n",
              "          const docLinkHtml = 'Like what you see? Visit the ' +\n",
              "            '<a target=\"_blank\" href=https://colab.research.google.com/notebooks/data_table.ipynb>data table notebook</a>'\n",
              "            + ' to learn more about interactive tables.';\n",
              "          element.innerHTML = '';\n",
              "          dataTable['output_type'] = 'display_data';\n",
              "          await google.colab.output.renderOutput(dataTable, element);\n",
              "          const docLink = document.createElement('div');\n",
              "          docLink.innerHTML = docLinkHtml;\n",
              "          element.appendChild(docLink);\n",
              "        }\n",
              "      </script>\n",
              "    </div>\n",
              "  </div>\n",
              "  "
            ]
          },
          "metadata": {},
          "execution_count": 37
        }
      ]
    },
    {
      "cell_type": "code",
      "source": [
        "ctData.columns=['Rank', 'Town', 'Type', 'County', 'Per capitaincome',\n",
        "       'Medianhouseholdincome', 'Medianfamilyincome', 'Population',\n",
        "       'Number ofhouseholds']"
      ],
      "metadata": {
        "id": "PWECO16C2wee"
      },
      "execution_count": null,
      "outputs": []
    },
    {
      "cell_type": "code",
      "source": [
        "ctData_new=ctData"
      ],
      "metadata": {
        "id": "cE2Of47eDJyu"
      },
      "execution_count": null,
      "outputs": []
    },
    {
      "cell_type": "code",
      "source": [
        "ctData_new['Type'].unique()"
      ],
      "metadata": {
        "colab": {
          "base_uri": "https://localhost:8080/"
        },
        "id": "J1qb9i19Dksk",
        "outputId": "6758822c-1b13-4603-9735-dd2dda9eb3b5"
      },
      "execution_count": null,
      "outputs": [
        {
          "output_type": "execute_result",
          "data": {
            "text/plain": [
              "array(['Town', 'Borough', 'City', 'State', 'Country'], dtype=object)"
            ]
          },
          "metadata": {},
          "execution_count": 40
        }
      ]
    },
    {
      "cell_type": "code",
      "source": [
        "type=np.unique(ctData['Type'],return_counts=True)\n",
        "type\n"
      ],
      "metadata": {
        "colab": {
          "base_uri": "https://localhost:8080/"
        },
        "id": "SZRJKlgp4p_z",
        "outputId": "374079f2-82b2-4677-9bd7-241b0a9c1452"
      },
      "execution_count": null,
      "outputs": [
        {
          "output_type": "execute_result",
          "data": {
            "text/plain": [
              "(array(['Borough', 'City', 'Country', 'State', 'Town'], dtype=object),\n",
              " array([  9,  21,   1,   1, 147]))"
            ]
          },
          "metadata": {},
          "execution_count": 41
        }
      ]
    },
    {
      "cell_type": "code",
      "source": [
        "others=['Borough', 'Country', 'State']\n",
        "ctData['Type'] = np.where(ctData['Type'].isin(others), 'Others', ctData['Type'])\n"
      ],
      "metadata": {
        "id": "GeYJ77F-8gST"
      },
      "execution_count": null,
      "outputs": []
    },
    {
      "cell_type": "code",
      "source": [
        "ctData['Type'].unique()"
      ],
      "metadata": {
        "colab": {
          "base_uri": "https://localhost:8080/"
        },
        "id": "qWDDlf6B-CEL",
        "outputId": "b0d430d8-3b33-4c33-80e7-cb82b443c352"
      },
      "execution_count": null,
      "outputs": [
        {
          "output_type": "execute_result",
          "data": {
            "text/plain": [
              "array(['Town', 'Others', 'City'], dtype=object)"
            ]
          },
          "metadata": {},
          "execution_count": 43
        }
      ]
    },
    {
      "cell_type": "code",
      "source": [
        "catg_columns=['Type']\n",
        "ctData2 = pd.get_dummies(ctData, columns=catg_columns, drop_first=True)\n",
        "ctData2.head()\n"
      ],
      "metadata": {
        "colab": {
          "base_uri": "https://localhost:8080/",
          "height": 206
        },
        "id": "06xHTzEZ28J5",
        "outputId": "41ab6e84-165f-4cdb-aa9d-6bd73f257cd2"
      },
      "execution_count": null,
      "outputs": [
        {
          "output_type": "execute_result",
          "data": {
            "text/plain": [
              "   Rank        Town     County Per capitaincome Medianhouseholdincome  \\\n",
              "0   1.0  New Canaan  Fairfield           105846                174611   \n",
              "1   2.0      Darien  Fairfield           105846                208848   \n",
              "2   3.0   Greenwich  Fairfield            90087                128153   \n",
              "3   4.0      Weston  Fairfield            92794                219868   \n",
              "4   5.0    Westport  Fairfield            97395                181360   \n",
              "\n",
              "  Medianfamilyincome  Population  Number ofhouseholds  Type_Others  Type_Town  \n",
              "0             211875       19738                 6857            0          1  \n",
              "1             343456       20732                 6555            0          1  \n",
              "2             167825       61171                22083            0          1  \n",
              "3             285612       10179                 3379            0          1  \n",
              "4             237353       26391                 9740            0          1  "
            ],
            "text/html": [
              "\n",
              "  <div id=\"df-7267871d-0ad4-4fdf-ae38-ba5f3497c1fb\">\n",
              "    <div class=\"colab-df-container\">\n",
              "      <div>\n",
              "<style scoped>\n",
              "    .dataframe tbody tr th:only-of-type {\n",
              "        vertical-align: middle;\n",
              "    }\n",
              "\n",
              "    .dataframe tbody tr th {\n",
              "        vertical-align: top;\n",
              "    }\n",
              "\n",
              "    .dataframe thead th {\n",
              "        text-align: right;\n",
              "    }\n",
              "</style>\n",
              "<table border=\"1\" class=\"dataframe\">\n",
              "  <thead>\n",
              "    <tr style=\"text-align: right;\">\n",
              "      <th></th>\n",
              "      <th>Rank</th>\n",
              "      <th>Town</th>\n",
              "      <th>County</th>\n",
              "      <th>Per capitaincome</th>\n",
              "      <th>Medianhouseholdincome</th>\n",
              "      <th>Medianfamilyincome</th>\n",
              "      <th>Population</th>\n",
              "      <th>Number ofhouseholds</th>\n",
              "      <th>Type_Others</th>\n",
              "      <th>Type_Town</th>\n",
              "    </tr>\n",
              "  </thead>\n",
              "  <tbody>\n",
              "    <tr>\n",
              "      <th>0</th>\n",
              "      <td>1.0</td>\n",
              "      <td>New Canaan</td>\n",
              "      <td>Fairfield</td>\n",
              "      <td>105846</td>\n",
              "      <td>174611</td>\n",
              "      <td>211875</td>\n",
              "      <td>19738</td>\n",
              "      <td>6857</td>\n",
              "      <td>0</td>\n",
              "      <td>1</td>\n",
              "    </tr>\n",
              "    <tr>\n",
              "      <th>1</th>\n",
              "      <td>2.0</td>\n",
              "      <td>Darien</td>\n",
              "      <td>Fairfield</td>\n",
              "      <td>105846</td>\n",
              "      <td>208848</td>\n",
              "      <td>343456</td>\n",
              "      <td>20732</td>\n",
              "      <td>6555</td>\n",
              "      <td>0</td>\n",
              "      <td>1</td>\n",
              "    </tr>\n",
              "    <tr>\n",
              "      <th>2</th>\n",
              "      <td>3.0</td>\n",
              "      <td>Greenwich</td>\n",
              "      <td>Fairfield</td>\n",
              "      <td>90087</td>\n",
              "      <td>128153</td>\n",
              "      <td>167825</td>\n",
              "      <td>61171</td>\n",
              "      <td>22083</td>\n",
              "      <td>0</td>\n",
              "      <td>1</td>\n",
              "    </tr>\n",
              "    <tr>\n",
              "      <th>3</th>\n",
              "      <td>4.0</td>\n",
              "      <td>Weston</td>\n",
              "      <td>Fairfield</td>\n",
              "      <td>92794</td>\n",
              "      <td>219868</td>\n",
              "      <td>285612</td>\n",
              "      <td>10179</td>\n",
              "      <td>3379</td>\n",
              "      <td>0</td>\n",
              "      <td>1</td>\n",
              "    </tr>\n",
              "    <tr>\n",
              "      <th>4</th>\n",
              "      <td>5.0</td>\n",
              "      <td>Westport</td>\n",
              "      <td>Fairfield</td>\n",
              "      <td>97395</td>\n",
              "      <td>181360</td>\n",
              "      <td>237353</td>\n",
              "      <td>26391</td>\n",
              "      <td>9740</td>\n",
              "      <td>0</td>\n",
              "      <td>1</td>\n",
              "    </tr>\n",
              "  </tbody>\n",
              "</table>\n",
              "</div>\n",
              "      <button class=\"colab-df-convert\" onclick=\"convertToInteractive('df-7267871d-0ad4-4fdf-ae38-ba5f3497c1fb')\"\n",
              "              title=\"Convert this dataframe to an interactive table.\"\n",
              "              style=\"display:none;\">\n",
              "        \n",
              "  <svg xmlns=\"http://www.w3.org/2000/svg\" height=\"24px\"viewBox=\"0 0 24 24\"\n",
              "       width=\"24px\">\n",
              "    <path d=\"M0 0h24v24H0V0z\" fill=\"none\"/>\n",
              "    <path d=\"M18.56 5.44l.94 2.06.94-2.06 2.06-.94-2.06-.94-.94-2.06-.94 2.06-2.06.94zm-11 1L8.5 8.5l.94-2.06 2.06-.94-2.06-.94L8.5 2.5l-.94 2.06-2.06.94zm10 10l.94 2.06.94-2.06 2.06-.94-2.06-.94-.94-2.06-.94 2.06-2.06.94z\"/><path d=\"M17.41 7.96l-1.37-1.37c-.4-.4-.92-.59-1.43-.59-.52 0-1.04.2-1.43.59L10.3 9.45l-7.72 7.72c-.78.78-.78 2.05 0 2.83L4 21.41c.39.39.9.59 1.41.59.51 0 1.02-.2 1.41-.59l7.78-7.78 2.81-2.81c.8-.78.8-2.07 0-2.86zM5.41 20L4 18.59l7.72-7.72 1.47 1.35L5.41 20z\"/>\n",
              "  </svg>\n",
              "      </button>\n",
              "      \n",
              "  <style>\n",
              "    .colab-df-container {\n",
              "      display:flex;\n",
              "      flex-wrap:wrap;\n",
              "      gap: 12px;\n",
              "    }\n",
              "\n",
              "    .colab-df-convert {\n",
              "      background-color: #E8F0FE;\n",
              "      border: none;\n",
              "      border-radius: 50%;\n",
              "      cursor: pointer;\n",
              "      display: none;\n",
              "      fill: #1967D2;\n",
              "      height: 32px;\n",
              "      padding: 0 0 0 0;\n",
              "      width: 32px;\n",
              "    }\n",
              "\n",
              "    .colab-df-convert:hover {\n",
              "      background-color: #E2EBFA;\n",
              "      box-shadow: 0px 1px 2px rgba(60, 64, 67, 0.3), 0px 1px 3px 1px rgba(60, 64, 67, 0.15);\n",
              "      fill: #174EA6;\n",
              "    }\n",
              "\n",
              "    [theme=dark] .colab-df-convert {\n",
              "      background-color: #3B4455;\n",
              "      fill: #D2E3FC;\n",
              "    }\n",
              "\n",
              "    [theme=dark] .colab-df-convert:hover {\n",
              "      background-color: #434B5C;\n",
              "      box-shadow: 0px 1px 3px 1px rgba(0, 0, 0, 0.15);\n",
              "      filter: drop-shadow(0px 1px 2px rgba(0, 0, 0, 0.3));\n",
              "      fill: #FFFFFF;\n",
              "    }\n",
              "  </style>\n",
              "\n",
              "      <script>\n",
              "        const buttonEl =\n",
              "          document.querySelector('#df-7267871d-0ad4-4fdf-ae38-ba5f3497c1fb button.colab-df-convert');\n",
              "        buttonEl.style.display =\n",
              "          google.colab.kernel.accessAllowed ? 'block' : 'none';\n",
              "\n",
              "        async function convertToInteractive(key) {\n",
              "          const element = document.querySelector('#df-7267871d-0ad4-4fdf-ae38-ba5f3497c1fb');\n",
              "          const dataTable =\n",
              "            await google.colab.kernel.invokeFunction('convertToInteractive',\n",
              "                                                     [key], {});\n",
              "          if (!dataTable) return;\n",
              "\n",
              "          const docLinkHtml = 'Like what you see? Visit the ' +\n",
              "            '<a target=\"_blank\" href=https://colab.research.google.com/notebooks/data_table.ipynb>data table notebook</a>'\n",
              "            + ' to learn more about interactive tables.';\n",
              "          element.innerHTML = '';\n",
              "          dataTable['output_type'] = 'display_data';\n",
              "          await google.colab.output.renderOutput(dataTable, element);\n",
              "          const docLink = document.createElement('div');\n",
              "          docLink.innerHTML = docLinkHtml;\n",
              "          element.appendChild(docLink);\n",
              "        }\n",
              "      </script>\n",
              "    </div>\n",
              "  </div>\n",
              "  "
            ]
          },
          "metadata": {},
          "execution_count": 44
        }
      ]
    },
    {
      "cell_type": "code",
      "source": [
        "cols=['Population','Number ofhouseholds','Type_Town','Type_Others']\n",
        "X=ctData2[cols]"
      ],
      "metadata": {
        "id": "9RKUk_jC3JcU"
      },
      "execution_count": null,
      "outputs": []
    },
    {
      "cell_type": "code",
      "source": [
        "X.head()"
      ],
      "metadata": {
        "colab": {
          "base_uri": "https://localhost:8080/",
          "height": 206
        },
        "id": "gdOHXNwRAZIx",
        "outputId": "2c25f4d7-e4b8-4131-aa97-e82cae3cbe8a"
      },
      "execution_count": null,
      "outputs": [
        {
          "output_type": "execute_result",
          "data": {
            "text/plain": [
              "   Population  Number ofhouseholds  Type_Town  Type_Others\n",
              "0       19738                 6857          1            0\n",
              "1       20732                 6555          1            0\n",
              "2       61171                22083          1            0\n",
              "3       10179                 3379          1            0\n",
              "4       26391                 9740          1            0"
            ],
            "text/html": [
              "\n",
              "  <div id=\"df-6396e03f-f21f-4c1a-8b88-f8647ba91c5b\">\n",
              "    <div class=\"colab-df-container\">\n",
              "      <div>\n",
              "<style scoped>\n",
              "    .dataframe tbody tr th:only-of-type {\n",
              "        vertical-align: middle;\n",
              "    }\n",
              "\n",
              "    .dataframe tbody tr th {\n",
              "        vertical-align: top;\n",
              "    }\n",
              "\n",
              "    .dataframe thead th {\n",
              "        text-align: right;\n",
              "    }\n",
              "</style>\n",
              "<table border=\"1\" class=\"dataframe\">\n",
              "  <thead>\n",
              "    <tr style=\"text-align: right;\">\n",
              "      <th></th>\n",
              "      <th>Population</th>\n",
              "      <th>Number ofhouseholds</th>\n",
              "      <th>Type_Town</th>\n",
              "      <th>Type_Others</th>\n",
              "    </tr>\n",
              "  </thead>\n",
              "  <tbody>\n",
              "    <tr>\n",
              "      <th>0</th>\n",
              "      <td>19738</td>\n",
              "      <td>6857</td>\n",
              "      <td>1</td>\n",
              "      <td>0</td>\n",
              "    </tr>\n",
              "    <tr>\n",
              "      <th>1</th>\n",
              "      <td>20732</td>\n",
              "      <td>6555</td>\n",
              "      <td>1</td>\n",
              "      <td>0</td>\n",
              "    </tr>\n",
              "    <tr>\n",
              "      <th>2</th>\n",
              "      <td>61171</td>\n",
              "      <td>22083</td>\n",
              "      <td>1</td>\n",
              "      <td>0</td>\n",
              "    </tr>\n",
              "    <tr>\n",
              "      <th>3</th>\n",
              "      <td>10179</td>\n",
              "      <td>3379</td>\n",
              "      <td>1</td>\n",
              "      <td>0</td>\n",
              "    </tr>\n",
              "    <tr>\n",
              "      <th>4</th>\n",
              "      <td>26391</td>\n",
              "      <td>9740</td>\n",
              "      <td>1</td>\n",
              "      <td>0</td>\n",
              "    </tr>\n",
              "  </tbody>\n",
              "</table>\n",
              "</div>\n",
              "      <button class=\"colab-df-convert\" onclick=\"convertToInteractive('df-6396e03f-f21f-4c1a-8b88-f8647ba91c5b')\"\n",
              "              title=\"Convert this dataframe to an interactive table.\"\n",
              "              style=\"display:none;\">\n",
              "        \n",
              "  <svg xmlns=\"http://www.w3.org/2000/svg\" height=\"24px\"viewBox=\"0 0 24 24\"\n",
              "       width=\"24px\">\n",
              "    <path d=\"M0 0h24v24H0V0z\" fill=\"none\"/>\n",
              "    <path d=\"M18.56 5.44l.94 2.06.94-2.06 2.06-.94-2.06-.94-.94-2.06-.94 2.06-2.06.94zm-11 1L8.5 8.5l.94-2.06 2.06-.94-2.06-.94L8.5 2.5l-.94 2.06-2.06.94zm10 10l.94 2.06.94-2.06 2.06-.94-2.06-.94-.94-2.06-.94 2.06-2.06.94z\"/><path d=\"M17.41 7.96l-1.37-1.37c-.4-.4-.92-.59-1.43-.59-.52 0-1.04.2-1.43.59L10.3 9.45l-7.72 7.72c-.78.78-.78 2.05 0 2.83L4 21.41c.39.39.9.59 1.41.59.51 0 1.02-.2 1.41-.59l7.78-7.78 2.81-2.81c.8-.78.8-2.07 0-2.86zM5.41 20L4 18.59l7.72-7.72 1.47 1.35L5.41 20z\"/>\n",
              "  </svg>\n",
              "      </button>\n",
              "      \n",
              "  <style>\n",
              "    .colab-df-container {\n",
              "      display:flex;\n",
              "      flex-wrap:wrap;\n",
              "      gap: 12px;\n",
              "    }\n",
              "\n",
              "    .colab-df-convert {\n",
              "      background-color: #E8F0FE;\n",
              "      border: none;\n",
              "      border-radius: 50%;\n",
              "      cursor: pointer;\n",
              "      display: none;\n",
              "      fill: #1967D2;\n",
              "      height: 32px;\n",
              "      padding: 0 0 0 0;\n",
              "      width: 32px;\n",
              "    }\n",
              "\n",
              "    .colab-df-convert:hover {\n",
              "      background-color: #E2EBFA;\n",
              "      box-shadow: 0px 1px 2px rgba(60, 64, 67, 0.3), 0px 1px 3px 1px rgba(60, 64, 67, 0.15);\n",
              "      fill: #174EA6;\n",
              "    }\n",
              "\n",
              "    [theme=dark] .colab-df-convert {\n",
              "      background-color: #3B4455;\n",
              "      fill: #D2E3FC;\n",
              "    }\n",
              "\n",
              "    [theme=dark] .colab-df-convert:hover {\n",
              "      background-color: #434B5C;\n",
              "      box-shadow: 0px 1px 3px 1px rgba(0, 0, 0, 0.15);\n",
              "      filter: drop-shadow(0px 1px 2px rgba(0, 0, 0, 0.3));\n",
              "      fill: #FFFFFF;\n",
              "    }\n",
              "  </style>\n",
              "\n",
              "      <script>\n",
              "        const buttonEl =\n",
              "          document.querySelector('#df-6396e03f-f21f-4c1a-8b88-f8647ba91c5b button.colab-df-convert');\n",
              "        buttonEl.style.display =\n",
              "          google.colab.kernel.accessAllowed ? 'block' : 'none';\n",
              "\n",
              "        async function convertToInteractive(key) {\n",
              "          const element = document.querySelector('#df-6396e03f-f21f-4c1a-8b88-f8647ba91c5b');\n",
              "          const dataTable =\n",
              "            await google.colab.kernel.invokeFunction('convertToInteractive',\n",
              "                                                     [key], {});\n",
              "          if (!dataTable) return;\n",
              "\n",
              "          const docLinkHtml = 'Like what you see? Visit the ' +\n",
              "            '<a target=\"_blank\" href=https://colab.research.google.com/notebooks/data_table.ipynb>data table notebook</a>'\n",
              "            + ' to learn more about interactive tables.';\n",
              "          element.innerHTML = '';\n",
              "          dataTable['output_type'] = 'display_data';\n",
              "          await google.colab.output.renderOutput(dataTable, element);\n",
              "          const docLink = document.createElement('div');\n",
              "          docLink.innerHTML = docLinkHtml;\n",
              "          element.appendChild(docLink);\n",
              "        }\n",
              "      </script>\n",
              "    </div>\n",
              "  </div>\n",
              "  "
            ]
          },
          "metadata": {},
          "execution_count": 46
        }
      ]
    },
    {
      "cell_type": "code",
      "source": [
        "#train_preds=clf.predict(X_train)\n",
        "ct_preds=clf.predict(np.array(X))"
      ],
      "metadata": {
        "id": "1vJp3GchAQ0K"
      },
      "execution_count": null,
      "outputs": []
    },
    {
      "cell_type": "code",
      "source": [
        "from sklearn.metrics import r2_score\n",
        "\n",
        "print(\"R-Sqaured value for CT data is \",round(r2_score(np.array(ctData2['Per capitaincome']),ct_preds),2))"
      ],
      "metadata": {
        "colab": {
          "base_uri": "https://localhost:8080/"
        },
        "outputId": "4b1db139-78fa-4cbf-ebe1-325b28d12579",
        "id": "9mVwIPlYAQ0n"
      },
      "execution_count": null,
      "outputs": [
        {
          "output_type": "stream",
          "name": "stdout",
          "text": [
            "R-Sqaured value for CT data is  -1.53\n"
          ]
        }
      ]
    },
    {
      "cell_type": "code",
      "source": [
        "from sklearn.metrics import mean_absolute_error\n",
        "\n",
        "print(\"MAE value for Test data is \",round(mean_absolute_error(np.array(ctData2['Per capitaincome']),ct_preds),2))"
      ],
      "metadata": {
        "colab": {
          "base_uri": "https://localhost:8080/"
        },
        "outputId": "bbe89052-82fd-472a-99b9-ecba16ed4ccf",
        "id": "g4h9gRrYAQ0o"
      },
      "execution_count": null,
      "outputs": [
        {
          "output_type": "stream",
          "name": "stdout",
          "text": [
            "MAE value for Test data is  22736.67\n"
          ]
        }
      ]
    },
    {
      "cell_type": "markdown",
      "source": [
        "# 10. Findings\n"
      ],
      "metadata": {
        "id": "-DfOyiKCKnRk"
      }
    },
    {
      "cell_type": "markdown",
      "source": [
        "Model built using Massachussetts economic data was not able to predict Connecticut economic data with desired accuracy  \n",
        "\n",
        "1.   R-squared value for Connecticut dataset is < 0 indicating the model is not a good fit. It clearly states that model built by using MA data is not able explain any patterns for CT data\n",
        "2.   Mean Average error is 23407 which tells us that each household per capita income is differed by more than 23407 which is more than country's per captia income\n",
        "3.   There is another town type 'Borough' in CT which is not captured part of MA dataset. Even though it is not categorized as others, model was not able to predict the per capita income properly\n",
        "\n",
        "\n",
        "\n",
        "\n"
      ],
      "metadata": {
        "id": "_URZMW_MFZfD"
      }
    }
  ]
}